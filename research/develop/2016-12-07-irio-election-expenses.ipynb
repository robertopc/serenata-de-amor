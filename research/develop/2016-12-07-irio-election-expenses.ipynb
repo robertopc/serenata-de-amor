{
 "cells": [
  {
   "cell_type": "markdown",
   "metadata": {},
   "source": [
    "# Election expenses\n",
    "\n",
    "Recently we found a congressperson who made an allegedly postal service expense in a company created for his own benefit, for his next candidacy in elections.\n",
    "\n",
    "We believe there are more cases like this one."
   ]
  },
  {
   "cell_type": "code",
   "execution_count": 1,
   "metadata": {
    "collapsed": true
   },
   "outputs": [],
   "source": [
    "import pandas as pd\n",
    "import numpy as np\n",
    "\n",
    "reimbursements = pd.read_csv('../data/2016-12-06-reimbursements.xz',\n",
    "                             dtype={'cnpj_cpf': np.str},\n",
    "                             low_memory=False)\n",
    "companies = pd.read_csv('../data/2016-09-03-companies.xz', low_memory=False)"
   ]
  },
  {
   "cell_type": "code",
   "execution_count": 2,
   "metadata": {
    "collapsed": false
   },
   "outputs": [],
   "source": [
    "companies['cnpj'] = companies['cnpj'].str.replace(r'\\D', '')"
   ]
  },
  {
   "cell_type": "code",
   "execution_count": 3,
   "metadata": {
    "collapsed": true
   },
   "outputs": [],
   "source": [
    "dataset = pd.merge(reimbursements, companies,\n",
    "                   left_on='cnpj_cpf', right_on='cnpj')"
   ]
  },
  {
   "cell_type": "code",
   "execution_count": 4,
   "metadata": {
    "collapsed": false
   },
   "outputs": [
    {
     "data": {
      "text/plain": [
       "(47, 259)"
      ]
     },
     "execution_count": 4,
     "metadata": {},
     "output_type": "execute_result"
    }
   ],
   "source": [
    "is_election_company = \\\n",
    "    dataset['legal_entity'] == '409-0 - CANDIDATO A CARGO POLITICO ELETIVO'\n",
    "suspect = dataset[is_election_company]\n",
    "suspect.shape"
   ]
  },
  {
   "cell_type": "code",
   "execution_count": 5,
   "metadata": {
    "collapsed": false
   },
   "outputs": [
    {
     "data": {
      "text/plain": [
       "11930.769999999999"
      ]
     },
     "execution_count": 5,
     "metadata": {},
     "output_type": "execute_result"
    }
   ],
   "source": [
    "suspect['total_net_value'].sum()"
   ]
  },
  {
   "cell_type": "code",
   "execution_count": 6,
   "metadata": {
    "collapsed": false
   },
   "outputs": [
    {
     "data": {
      "text/plain": [
       "count      47.000000\n",
       "mean      253.846170\n",
       "std       272.379969\n",
       "min        50.000000\n",
       "25%       139.690000\n",
       "50%       157.230000\n",
       "75%       247.190000\n",
       "max      1470.270000\n",
       "Name: total_net_value, dtype: float64"
      ]
     },
     "execution_count": 6,
     "metadata": {},
     "output_type": "execute_result"
    }
   ],
   "source": [
    "suspect['total_net_value'].describe()"
   ]
  },
  {
   "cell_type": "code",
   "execution_count": 7,
   "metadata": {
    "collapsed": false
   },
   "outputs": [
    {
     "data": {
      "text/plain": [
       "1249308    ELEICAO 2006 JOSE CARLOS LEAO DE ARAUJO DEPUTA...\n",
       "759989     ELEICAO 2006 CARLOS ALBERTO DA SILVA DEPUTADO ...\n",
       "760015     ELEICAO 2006 CARLOS ALBERTO DA SILVA DEPUTADO ...\n",
       "759994     ELEICAO 2006 CARLOS ALBERTO DA SILVA DEPUTADO ...\n",
       "760001     ELEICAO 2006 CARLOS ALBERTO DA SILVA DEPUTADO ...\n",
       "1395813     ELEICOES 2004 - ANIVALDO JOSE WINCKEL - VEREADOR\n",
       "760017     ELEICAO 2006 CARLOS ALBERTO DA SILVA DEPUTADO ...\n",
       "759996     ELEICAO 2006 CARLOS ALBERTO DA SILVA DEPUTADO ...\n",
       "1205658    ELEICAO 2002 - CANDIDATO EDUARDO BRANDAO DE AZ...\n",
       "760013     ELEICAO 2006 CARLOS ALBERTO DA SILVA DEPUTADO ...\n",
       "Name: name, dtype: object"
      ]
     },
     "execution_count": 7,
     "metadata": {},
     "output_type": "execute_result"
    }
   ],
   "source": [
    "suspect['name'].sample(10)"
   ]
  },
  {
   "cell_type": "code",
   "execution_count": 8,
   "metadata": {
    "collapsed": false,
    "scrolled": false
   },
   "outputs": [
    {
     "name": "stderr",
     "output_type": "stream",
     "text": [
      "/Users/irio/anaconda3/envs/serenata_de_amor/lib/python3.5/site-packages/ipykernel/__main__.py:2: UserWarning: This pattern has match groups. To actually get the groups, use str.extract.\n",
      "  from ipykernel import kernelapp as app\n"
     ]
    }
   ],
   "source": [
    "dataset['name'] = dataset['name'].astype(np.str)\n",
    "contains_election_str = dataset['name'].str.lower().str.contains(r'(eleic)[(ao)(oes)]')\n",
    "company_name_suspects = dataset[contains_election_str].index"
   ]
  },
  {
   "cell_type": "code",
   "execution_count": 9,
   "metadata": {
    "collapsed": false
   },
   "outputs": [
    {
     "data": {
      "text/plain": [
       "True"
      ]
     },
     "execution_count": 9,
     "metadata": {},
     "output_type": "execute_result"
    }
   ],
   "source": [
    "np.array_equal(suspect.index, company_name_suspects)"
   ]
  },
  {
   "cell_type": "code",
   "execution_count": 10,
   "metadata": {
    "collapsed": true
   },
   "outputs": [],
   "source": [
    "import unicodedata\n",
    "\n",
    "def normalize_string(string):\n",
    "    if isinstance(string, str):\n",
    "        nfkd_form = unicodedata.normalize('NFKD', string.lower())\n",
    "        return nfkd_form.encode('ASCII', 'ignore').decode('utf-8')"
   ]
  },
  {
   "cell_type": "code",
   "execution_count": 11,
   "metadata": {
    "collapsed": false
   },
   "outputs": [
    {
     "name": "stderr",
     "output_type": "stream",
     "text": [
      "/Users/irio/anaconda3/envs/serenata_de_amor/lib/python3.5/site-packages/ipykernel/__main__.py:1: SettingWithCopyWarning: \n",
      "A value is trying to be set on a copy of a slice from a DataFrame.\n",
      "Try using .loc[row_indexer,col_indexer] = value instead\n",
      "\n",
      "See the caveats in the documentation: http://pandas.pydata.org/pandas-docs/stable/indexing.html#indexing-view-versus-copy\n",
      "  if __name__ == '__main__':\n",
      "/Users/irio/anaconda3/envs/serenata_de_amor/lib/python3.5/site-packages/ipykernel/__main__.py:3: SettingWithCopyWarning: \n",
      "A value is trying to be set on a copy of a slice from a DataFrame.\n",
      "Try using .loc[row_indexer,col_indexer] = value instead\n",
      "\n",
      "See the caveats in the documentation: http://pandas.pydata.org/pandas-docs/stable/indexing.html#indexing-view-versus-copy\n",
      "  app.launch_new_instance()\n"
     ]
    },
    {
     "data": {
      "text/html": [
       "<div>\n",
       "<table border=\"1\" class=\"dataframe\">\n",
       "  <thead>\n",
       "    <tr style=\"text-align: right;\">\n",
       "      <th></th>\n",
       "      <th>year</th>\n",
       "      <th>applicant_id</th>\n",
       "      <th>document_id</th>\n",
       "      <th>reimbursement_value_total</th>\n",
       "      <th>total_net_value</th>\n",
       "      <th>reimbursement_numbers</th>\n",
       "      <th>congressperson_name</th>\n",
       "      <th>congressperson_id</th>\n",
       "      <th>congressperson_document</th>\n",
       "      <th>term</th>\n",
       "      <th>...</th>\n",
       "      <th>secondary_activity_97_code</th>\n",
       "      <th>secondary_activity_98</th>\n",
       "      <th>secondary_activity_98_code</th>\n",
       "      <th>secondary_activity_99</th>\n",
       "      <th>secondary_activity_99_code</th>\n",
       "      <th>secondary_activity_9_code</th>\n",
       "      <th>latitude</th>\n",
       "      <th>longitude</th>\n",
       "      <th>latitude.1</th>\n",
       "      <th>longitude.1</th>\n",
       "    </tr>\n",
       "  </thead>\n",
       "  <tbody>\n",
       "  </tbody>\n",
       "</table>\n",
       "<p>0 rows × 259 columns</p>\n",
       "</div>"
      ],
      "text/plain": [
       "Empty DataFrame\n",
       "Columns: [year, applicant_id, document_id, reimbursement_value_total, total_net_value, reimbursement_numbers, congressperson_name, congressperson_id, congressperson_document, term, state_x, party, term_id, subquota_number, subquota_description, subquota_group_id, subquota_group_description, supplier, cnpj_cpf, document_number, document_type, issue_date, document_value, remark_value, net_values, month, installment, passenger, leg_of_the_trip, batch_number, reimbursement_values, situation_date, type, name, phone, situation, neighborhood, address, number, zip_code, city, state_y, opening, legal_entity, trade_name, cnpj, last_updated, status, additional_address_details, email, responsible_federative_entity, situation_reason, special_situation, special_situation_date, message, main_activity_code, main_activity, secondary_activity_1, secondary_activity_10, secondary_activity_10_code, secondary_activity_11, secondary_activity_11_code, secondary_activity_12, secondary_activity_12_code, secondary_activity_13, secondary_activity_13_code, secondary_activity_14, secondary_activity_14_code, secondary_activity_15, secondary_activity_15_code, secondary_activity_16, secondary_activity_16_code, secondary_activity_17, secondary_activity_17_code, secondary_activity_18, secondary_activity_18_code, secondary_activity_19, secondary_activity_19_code, secondary_activity_1_code, secondary_activity_2, secondary_activity_20, secondary_activity_20_code, secondary_activity_21, secondary_activity_21_code, secondary_activity_22, secondary_activity_22_code, secondary_activity_23, secondary_activity_23_code, secondary_activity_24, secondary_activity_24_code, secondary_activity_25, secondary_activity_25_code, secondary_activity_26, secondary_activity_26_code, secondary_activity_27, secondary_activity_27_code, secondary_activity_28, secondary_activity_28_code, secondary_activity_29, secondary_activity_29_code, ...]\n",
       "Index: []\n",
       "\n",
       "[0 rows x 259 columns]"
      ]
     },
     "execution_count": 11,
     "metadata": {},
     "output_type": "execute_result"
    }
   ],
   "source": [
    "suspect['congressperson_name'] = \\\n",
    "    suspect['congressperson_name'].apply(normalize_string)\n",
    "\n",
    "suspect['name'] = suspect['name'].apply(normalize_string)\n",
    "suspect[suspect.apply(lambda row: row['congressperson_name'] in row['name'], axis=1)]"
   ]
  },
  {
   "cell_type": "code",
   "execution_count": 12,
   "metadata": {
    "collapsed": false
   },
   "outputs": [
    {
     "data": {
      "text/html": [
       "<div>\n",
       "<table border=\"1\" class=\"dataframe\">\n",
       "  <thead>\n",
       "    <tr style=\"text-align: right;\">\n",
       "      <th></th>\n",
       "      <th>congressperson_name</th>\n",
       "      <th>name</th>\n",
       "    </tr>\n",
       "  </thead>\n",
       "  <tbody>\n",
       "    <tr>\n",
       "      <th>759986</th>\n",
       "      <td>carlos alberto lereia</td>\n",
       "      <td>eleicao 2006 carlos alberto da silva deputado ...</td>\n",
       "    </tr>\n",
       "    <tr>\n",
       "      <th>759987</th>\n",
       "      <td>carlos alberto lereia</td>\n",
       "      <td>eleicao 2006 carlos alberto da silva deputado ...</td>\n",
       "    </tr>\n",
       "    <tr>\n",
       "      <th>759988</th>\n",
       "      <td>carlos alberto lereia</td>\n",
       "      <td>eleicao 2006 carlos alberto da silva deputado ...</td>\n",
       "    </tr>\n",
       "    <tr>\n",
       "      <th>759989</th>\n",
       "      <td>carlos alberto lereia</td>\n",
       "      <td>eleicao 2006 carlos alberto da silva deputado ...</td>\n",
       "    </tr>\n",
       "    <tr>\n",
       "      <th>759990</th>\n",
       "      <td>carlos alberto lereia</td>\n",
       "      <td>eleicao 2006 carlos alberto da silva deputado ...</td>\n",
       "    </tr>\n",
       "    <tr>\n",
       "      <th>759991</th>\n",
       "      <td>carlos alberto lereia</td>\n",
       "      <td>eleicao 2006 carlos alberto da silva deputado ...</td>\n",
       "    </tr>\n",
       "    <tr>\n",
       "      <th>759992</th>\n",
       "      <td>carlos alberto lereia</td>\n",
       "      <td>eleicao 2006 carlos alberto da silva deputado ...</td>\n",
       "    </tr>\n",
       "    <tr>\n",
       "      <th>759993</th>\n",
       "      <td>carlos alberto lereia</td>\n",
       "      <td>eleicao 2006 carlos alberto da silva deputado ...</td>\n",
       "    </tr>\n",
       "    <tr>\n",
       "      <th>759994</th>\n",
       "      <td>carlos alberto lereia</td>\n",
       "      <td>eleicao 2006 carlos alberto da silva deputado ...</td>\n",
       "    </tr>\n",
       "    <tr>\n",
       "      <th>759995</th>\n",
       "      <td>carlos alberto lereia</td>\n",
       "      <td>eleicao 2006 carlos alberto da silva deputado ...</td>\n",
       "    </tr>\n",
       "    <tr>\n",
       "      <th>759996</th>\n",
       "      <td>carlos alberto lereia</td>\n",
       "      <td>eleicao 2006 carlos alberto da silva deputado ...</td>\n",
       "    </tr>\n",
       "    <tr>\n",
       "      <th>759997</th>\n",
       "      <td>carlos alberto lereia</td>\n",
       "      <td>eleicao 2006 carlos alberto da silva deputado ...</td>\n",
       "    </tr>\n",
       "    <tr>\n",
       "      <th>759998</th>\n",
       "      <td>carlos alberto lereia</td>\n",
       "      <td>eleicao 2006 carlos alberto da silva deputado ...</td>\n",
       "    </tr>\n",
       "    <tr>\n",
       "      <th>759999</th>\n",
       "      <td>carlos alberto lereia</td>\n",
       "      <td>eleicao 2006 carlos alberto da silva deputado ...</td>\n",
       "    </tr>\n",
       "    <tr>\n",
       "      <th>760000</th>\n",
       "      <td>carlos alberto lereia</td>\n",
       "      <td>eleicao 2006 carlos alberto da silva deputado ...</td>\n",
       "    </tr>\n",
       "    <tr>\n",
       "      <th>760001</th>\n",
       "      <td>carlos alberto lereia</td>\n",
       "      <td>eleicao 2006 carlos alberto da silva deputado ...</td>\n",
       "    </tr>\n",
       "    <tr>\n",
       "      <th>760002</th>\n",
       "      <td>carlos alberto lereia</td>\n",
       "      <td>eleicao 2006 carlos alberto da silva deputado ...</td>\n",
       "    </tr>\n",
       "    <tr>\n",
       "      <th>760003</th>\n",
       "      <td>carlos alberto lereia</td>\n",
       "      <td>eleicao 2006 carlos alberto da silva deputado ...</td>\n",
       "    </tr>\n",
       "    <tr>\n",
       "      <th>760004</th>\n",
       "      <td>carlos alberto lereia</td>\n",
       "      <td>eleicao 2006 carlos alberto da silva deputado ...</td>\n",
       "    </tr>\n",
       "    <tr>\n",
       "      <th>760005</th>\n",
       "      <td>carlos alberto lereia</td>\n",
       "      <td>eleicao 2006 carlos alberto da silva deputado ...</td>\n",
       "    </tr>\n",
       "    <tr>\n",
       "      <th>760006</th>\n",
       "      <td>carlos alberto lereia</td>\n",
       "      <td>eleicao 2006 carlos alberto da silva deputado ...</td>\n",
       "    </tr>\n",
       "    <tr>\n",
       "      <th>760007</th>\n",
       "      <td>carlos alberto lereia</td>\n",
       "      <td>eleicao 2006 carlos alberto da silva deputado ...</td>\n",
       "    </tr>\n",
       "    <tr>\n",
       "      <th>760008</th>\n",
       "      <td>carlos alberto lereia</td>\n",
       "      <td>eleicao 2006 carlos alberto da silva deputado ...</td>\n",
       "    </tr>\n",
       "    <tr>\n",
       "      <th>760009</th>\n",
       "      <td>carlos alberto lereia</td>\n",
       "      <td>eleicao 2006 carlos alberto da silva deputado ...</td>\n",
       "    </tr>\n",
       "    <tr>\n",
       "      <th>760010</th>\n",
       "      <td>carlos alberto lereia</td>\n",
       "      <td>eleicao 2006 carlos alberto da silva deputado ...</td>\n",
       "    </tr>\n",
       "    <tr>\n",
       "      <th>760011</th>\n",
       "      <td>carlos alberto lereia</td>\n",
       "      <td>eleicao 2006 carlos alberto da silva deputado ...</td>\n",
       "    </tr>\n",
       "    <tr>\n",
       "      <th>760012</th>\n",
       "      <td>carlos alberto lereia</td>\n",
       "      <td>eleicao 2006 carlos alberto da silva deputado ...</td>\n",
       "    </tr>\n",
       "    <tr>\n",
       "      <th>760013</th>\n",
       "      <td>carlos alberto lereia</td>\n",
       "      <td>eleicao 2006 carlos alberto da silva deputado ...</td>\n",
       "    </tr>\n",
       "    <tr>\n",
       "      <th>760014</th>\n",
       "      <td>carlos alberto lereia</td>\n",
       "      <td>eleicao 2006 carlos alberto da silva deputado ...</td>\n",
       "    </tr>\n",
       "    <tr>\n",
       "      <th>760015</th>\n",
       "      <td>carlos alberto lereia</td>\n",
       "      <td>eleicao 2006 carlos alberto da silva deputado ...</td>\n",
       "    </tr>\n",
       "    <tr>\n",
       "      <th>760016</th>\n",
       "      <td>carlos alberto lereia</td>\n",
       "      <td>eleicao 2006 carlos alberto da silva deputado ...</td>\n",
       "    </tr>\n",
       "    <tr>\n",
       "      <th>760017</th>\n",
       "      <td>carlos alberto lereia</td>\n",
       "      <td>eleicao 2006 carlos alberto da silva deputado ...</td>\n",
       "    </tr>\n",
       "    <tr>\n",
       "      <th>760018</th>\n",
       "      <td>carlos alberto lereia</td>\n",
       "      <td>eleicao 2006 carlos alberto da silva deputado ...</td>\n",
       "    </tr>\n",
       "    <tr>\n",
       "      <th>1205658</th>\n",
       "      <td>eduardo azeredo</td>\n",
       "      <td>eleicao 2002 - candidato eduardo brandao de az...</td>\n",
       "    </tr>\n",
       "    <tr>\n",
       "      <th>1231428</th>\n",
       "      <td>luiz nishimori</td>\n",
       "      <td>eleicao 2006 luiz hiloshi nishimori deputado e...</td>\n",
       "    </tr>\n",
       "    <tr>\n",
       "      <th>1231429</th>\n",
       "      <td>luiz nishimori</td>\n",
       "      <td>eleicao 2006 luiz hiloshi nishimori deputado e...</td>\n",
       "    </tr>\n",
       "    <tr>\n",
       "      <th>1249303</th>\n",
       "      <td>jose carlos araujo</td>\n",
       "      <td>eleicao 2006 jose carlos leao de araujo deputa...</td>\n",
       "    </tr>\n",
       "    <tr>\n",
       "      <th>1249304</th>\n",
       "      <td>jose carlos araujo</td>\n",
       "      <td>eleicao 2006 jose carlos leao de araujo deputa...</td>\n",
       "    </tr>\n",
       "    <tr>\n",
       "      <th>1249305</th>\n",
       "      <td>jose carlos araujo</td>\n",
       "      <td>eleicao 2006 jose carlos leao de araujo deputa...</td>\n",
       "    </tr>\n",
       "    <tr>\n",
       "      <th>1249306</th>\n",
       "      <td>jose carlos araujo</td>\n",
       "      <td>eleicao 2006 jose carlos leao de araujo deputa...</td>\n",
       "    </tr>\n",
       "    <tr>\n",
       "      <th>1249307</th>\n",
       "      <td>jose carlos araujo</td>\n",
       "      <td>eleicao 2006 jose carlos leao de araujo deputa...</td>\n",
       "    </tr>\n",
       "    <tr>\n",
       "      <th>1249308</th>\n",
       "      <td>jose carlos araujo</td>\n",
       "      <td>eleicao 2006 jose carlos leao de araujo deputa...</td>\n",
       "    </tr>\n",
       "    <tr>\n",
       "      <th>1395810</th>\n",
       "      <td>ze silva</td>\n",
       "      <td>eleicoes 2004 - anivaldo jose winckel - vereador</td>\n",
       "    </tr>\n",
       "    <tr>\n",
       "      <th>1395811</th>\n",
       "      <td>padre joao</td>\n",
       "      <td>eleicoes 2004 - anivaldo jose winckel - vereador</td>\n",
       "    </tr>\n",
       "    <tr>\n",
       "      <th>1395812</th>\n",
       "      <td>patrus ananias</td>\n",
       "      <td>eleicoes 2004 - anivaldo jose winckel - vereador</td>\n",
       "    </tr>\n",
       "    <tr>\n",
       "      <th>1395813</th>\n",
       "      <td>padre joao</td>\n",
       "      <td>eleicoes 2004 - anivaldo jose winckel - vereador</td>\n",
       "    </tr>\n",
       "    <tr>\n",
       "      <th>1395814</th>\n",
       "      <td>laudivio carvalho</td>\n",
       "      <td>eleicoes 2004 - anivaldo jose winckel - vereador</td>\n",
       "    </tr>\n",
       "  </tbody>\n",
       "</table>\n",
       "</div>"
      ],
      "text/plain": [
       "           congressperson_name  \\\n",
       "759986   carlos alberto lereia   \n",
       "759987   carlos alberto lereia   \n",
       "759988   carlos alberto lereia   \n",
       "759989   carlos alberto lereia   \n",
       "759990   carlos alberto lereia   \n",
       "759991   carlos alberto lereia   \n",
       "759992   carlos alberto lereia   \n",
       "759993   carlos alberto lereia   \n",
       "759994   carlos alberto lereia   \n",
       "759995   carlos alberto lereia   \n",
       "759996   carlos alberto lereia   \n",
       "759997   carlos alberto lereia   \n",
       "759998   carlos alberto lereia   \n",
       "759999   carlos alberto lereia   \n",
       "760000   carlos alberto lereia   \n",
       "760001   carlos alberto lereia   \n",
       "760002   carlos alberto lereia   \n",
       "760003   carlos alberto lereia   \n",
       "760004   carlos alberto lereia   \n",
       "760005   carlos alberto lereia   \n",
       "760006   carlos alberto lereia   \n",
       "760007   carlos alberto lereia   \n",
       "760008   carlos alberto lereia   \n",
       "760009   carlos alberto lereia   \n",
       "760010   carlos alberto lereia   \n",
       "760011   carlos alberto lereia   \n",
       "760012   carlos alberto lereia   \n",
       "760013   carlos alberto lereia   \n",
       "760014   carlos alberto lereia   \n",
       "760015   carlos alberto lereia   \n",
       "760016   carlos alberto lereia   \n",
       "760017   carlos alberto lereia   \n",
       "760018   carlos alberto lereia   \n",
       "1205658        eduardo azeredo   \n",
       "1231428         luiz nishimori   \n",
       "1231429         luiz nishimori   \n",
       "1249303     jose carlos araujo   \n",
       "1249304     jose carlos araujo   \n",
       "1249305     jose carlos araujo   \n",
       "1249306     jose carlos araujo   \n",
       "1249307     jose carlos araujo   \n",
       "1249308     jose carlos araujo   \n",
       "1395810               ze silva   \n",
       "1395811             padre joao   \n",
       "1395812         patrus ananias   \n",
       "1395813             padre joao   \n",
       "1395814      laudivio carvalho   \n",
       "\n",
       "                                                      name  \n",
       "759986   eleicao 2006 carlos alberto da silva deputado ...  \n",
       "759987   eleicao 2006 carlos alberto da silva deputado ...  \n",
       "759988   eleicao 2006 carlos alberto da silva deputado ...  \n",
       "759989   eleicao 2006 carlos alberto da silva deputado ...  \n",
       "759990   eleicao 2006 carlos alberto da silva deputado ...  \n",
       "759991   eleicao 2006 carlos alberto da silva deputado ...  \n",
       "759992   eleicao 2006 carlos alberto da silva deputado ...  \n",
       "759993   eleicao 2006 carlos alberto da silva deputado ...  \n",
       "759994   eleicao 2006 carlos alberto da silva deputado ...  \n",
       "759995   eleicao 2006 carlos alberto da silva deputado ...  \n",
       "759996   eleicao 2006 carlos alberto da silva deputado ...  \n",
       "759997   eleicao 2006 carlos alberto da silva deputado ...  \n",
       "759998   eleicao 2006 carlos alberto da silva deputado ...  \n",
       "759999   eleicao 2006 carlos alberto da silva deputado ...  \n",
       "760000   eleicao 2006 carlos alberto da silva deputado ...  \n",
       "760001   eleicao 2006 carlos alberto da silva deputado ...  \n",
       "760002   eleicao 2006 carlos alberto da silva deputado ...  \n",
       "760003   eleicao 2006 carlos alberto da silva deputado ...  \n",
       "760004   eleicao 2006 carlos alberto da silva deputado ...  \n",
       "760005   eleicao 2006 carlos alberto da silva deputado ...  \n",
       "760006   eleicao 2006 carlos alberto da silva deputado ...  \n",
       "760007   eleicao 2006 carlos alberto da silva deputado ...  \n",
       "760008   eleicao 2006 carlos alberto da silva deputado ...  \n",
       "760009   eleicao 2006 carlos alberto da silva deputado ...  \n",
       "760010   eleicao 2006 carlos alberto da silva deputado ...  \n",
       "760011   eleicao 2006 carlos alberto da silva deputado ...  \n",
       "760012   eleicao 2006 carlos alberto da silva deputado ...  \n",
       "760013   eleicao 2006 carlos alberto da silva deputado ...  \n",
       "760014   eleicao 2006 carlos alberto da silva deputado ...  \n",
       "760015   eleicao 2006 carlos alberto da silva deputado ...  \n",
       "760016   eleicao 2006 carlos alberto da silva deputado ...  \n",
       "760017   eleicao 2006 carlos alberto da silva deputado ...  \n",
       "760018   eleicao 2006 carlos alberto da silva deputado ...  \n",
       "1205658  eleicao 2002 - candidato eduardo brandao de az...  \n",
       "1231428  eleicao 2006 luiz hiloshi nishimori deputado e...  \n",
       "1231429  eleicao 2006 luiz hiloshi nishimori deputado e...  \n",
       "1249303  eleicao 2006 jose carlos leao de araujo deputa...  \n",
       "1249304  eleicao 2006 jose carlos leao de araujo deputa...  \n",
       "1249305  eleicao 2006 jose carlos leao de araujo deputa...  \n",
       "1249306  eleicao 2006 jose carlos leao de araujo deputa...  \n",
       "1249307  eleicao 2006 jose carlos leao de araujo deputa...  \n",
       "1249308  eleicao 2006 jose carlos leao de araujo deputa...  \n",
       "1395810   eleicoes 2004 - anivaldo jose winckel - vereador  \n",
       "1395811   eleicoes 2004 - anivaldo jose winckel - vereador  \n",
       "1395812   eleicoes 2004 - anivaldo jose winckel - vereador  \n",
       "1395813   eleicoes 2004 - anivaldo jose winckel - vereador  \n",
       "1395814   eleicoes 2004 - anivaldo jose winckel - vereador  "
      ]
     },
     "execution_count": 12,
     "metadata": {},
     "output_type": "execute_result"
    }
   ],
   "source": [
    "suspect[['congressperson_name', 'name']]"
   ]
  },
  {
   "cell_type": "markdown",
   "metadata": {},
   "source": [
    "## Conclusion\n",
    "\n",
    "Yes, there are more cases. Currently, 47 suspects. Not all of them were in congressperson's own benefit, but for other candidates. Still, could be reported to the Chamber of Deputies."
   ]
  },
  {
   "cell_type": "code",
   "execution_count": null,
   "metadata": {
    "collapsed": true
   },
   "outputs": [],
   "source": []
  }
 ],
 "metadata": {
  "kernelspec": {
   "display_name": "Python 3",
   "language": "python3",
   "name": "python3"
  },
  "language_info": {
   "codemirror_mode": {
    "name": "ipython",
    "version": 3
   },
   "file_extension": ".py",
   "mimetype": "text/x-python",
   "name": "python",
   "nbconvert_exporter": "python",
   "pygments_lexer": "ipython3",
   "version": "3.5.2"
  }
 },
 "nbformat": 4,
 "nbformat_minor": 0
}
