{
 "cells": [
  {
   "cell_type": "code",
   "execution_count": 1,
   "metadata": {
    "collapsed": false
   },
   "outputs": [],
   "source": [
    "%matplotlib inline\n",
    "import matplotlib.pyplot as plt\n",
    "import numpy as np\n",
    "import pandas as pd\n",
    "import seaborn as sns"
   ]
  },
  {
   "cell_type": "code",
   "execution_count": 2,
   "metadata": {
    "collapsed": false
   },
   "outputs": [],
   "source": [
    "data = pd.read_csv('../data/2016-08-08-last-year.xz',\n",
    "                   parse_dates=[16],\n",
    "                   dtype={'document_id': np.str,\n",
    "                          'congressperson_id': np.str,\n",
    "                          'congressperson_document': np.str,\n",
    "                          'term_id': np.str,\n",
    "                          'cnpj_cpf': np.str,\n",
    "                          'reimbursement_number': np.str})"
   ]
  },
  {
   "cell_type": "markdown",
   "metadata": {},
   "source": [
    "There are 374,484 expenses reimbursed in the past year."
   ]
  },
  {
   "cell_type": "code",
   "execution_count": 3,
   "metadata": {
    "collapsed": false
   },
   "outputs": [
    {
     "name": "stdout",
     "output_type": "stream",
     "text": [
      "(374484, 29)\n"
     ]
    }
   ],
   "source": [
    "print(data.shape)"
   ]
  },
  {
   "cell_type": "code",
   "execution_count": 4,
   "metadata": {
    "collapsed": false
   },
   "outputs": [
    {
     "data": {
      "text/html": [
       "<div>\n",
       "<table border=\"1\" class=\"dataframe\">\n",
       "  <thead>\n",
       "    <tr style=\"text-align: right;\">\n",
       "      <th></th>\n",
       "      <th>document_id</th>\n",
       "      <th>congressperson_name</th>\n",
       "      <th>congressperson_id</th>\n",
       "      <th>congressperson_document</th>\n",
       "      <th>term</th>\n",
       "      <th>state</th>\n",
       "      <th>party</th>\n",
       "      <th>term_id</th>\n",
       "      <th>subquota_number</th>\n",
       "      <th>subquota_description</th>\n",
       "      <th>...</th>\n",
       "      <th>net_value</th>\n",
       "      <th>month</th>\n",
       "      <th>year</th>\n",
       "      <th>installment</th>\n",
       "      <th>passenger</th>\n",
       "      <th>leg_of_the_trip</th>\n",
       "      <th>batch_number</th>\n",
       "      <th>reimbursement_number</th>\n",
       "      <th>reimbursement_value</th>\n",
       "      <th>applicant_id</th>\n",
       "    </tr>\n",
       "  </thead>\n",
       "  <tbody>\n",
       "    <tr>\n",
       "      <th>0</th>\n",
       "      <td>5886345</td>\n",
       "      <td>ABEL MESQUITA JR.</td>\n",
       "      <td>178957</td>\n",
       "      <td>1</td>\n",
       "      <td>2015</td>\n",
       "      <td>RR</td>\n",
       "      <td>DEM</td>\n",
       "      <td>55</td>\n",
       "      <td>1</td>\n",
       "      <td>Maintenance of office supporting parliamentary...</td>\n",
       "      <td>...</td>\n",
       "      <td>165.65</td>\n",
       "      <td>11</td>\n",
       "      <td>2015</td>\n",
       "      <td>0</td>\n",
       "      <td>NaN</td>\n",
       "      <td>NaN</td>\n",
       "      <td>1255355</td>\n",
       "      <td>5294</td>\n",
       "      <td>NaN</td>\n",
       "      <td>3074</td>\n",
       "    </tr>\n",
       "    <tr>\n",
       "      <th>1</th>\n",
       "      <td>5886361</td>\n",
       "      <td>ABEL MESQUITA JR.</td>\n",
       "      <td>178957</td>\n",
       "      <td>1</td>\n",
       "      <td>2015</td>\n",
       "      <td>RR</td>\n",
       "      <td>DEM</td>\n",
       "      <td>55</td>\n",
       "      <td>1</td>\n",
       "      <td>Maintenance of office supporting parliamentary...</td>\n",
       "      <td>...</td>\n",
       "      <td>59.48</td>\n",
       "      <td>12</td>\n",
       "      <td>2015</td>\n",
       "      <td>0</td>\n",
       "      <td>NaN</td>\n",
       "      <td>NaN</td>\n",
       "      <td>1255361</td>\n",
       "      <td>5294</td>\n",
       "      <td>NaN</td>\n",
       "      <td>3074</td>\n",
       "    </tr>\n",
       "    <tr>\n",
       "      <th>2</th>\n",
       "      <td>5886341</td>\n",
       "      <td>ABEL MESQUITA JR.</td>\n",
       "      <td>178957</td>\n",
       "      <td>1</td>\n",
       "      <td>2015</td>\n",
       "      <td>RR</td>\n",
       "      <td>DEM</td>\n",
       "      <td>55</td>\n",
       "      <td>1</td>\n",
       "      <td>Maintenance of office supporting parliamentary...</td>\n",
       "      <td>...</td>\n",
       "      <td>130.95</td>\n",
       "      <td>11</td>\n",
       "      <td>2015</td>\n",
       "      <td>0</td>\n",
       "      <td>NaN</td>\n",
       "      <td>NaN</td>\n",
       "      <td>1255355</td>\n",
       "      <td>5294</td>\n",
       "      <td>NaN</td>\n",
       "      <td>3074</td>\n",
       "    </tr>\n",
       "    <tr>\n",
       "      <th>3</th>\n",
       "      <td>5928783</td>\n",
       "      <td>ABEL MESQUITA JR.</td>\n",
       "      <td>178957</td>\n",
       "      <td>1</td>\n",
       "      <td>2015</td>\n",
       "      <td>RR</td>\n",
       "      <td>DEM</td>\n",
       "      <td>55</td>\n",
       "      <td>1</td>\n",
       "      <td>Maintenance of office supporting parliamentary...</td>\n",
       "      <td>...</td>\n",
       "      <td>193.06</td>\n",
       "      <td>12</td>\n",
       "      <td>2015</td>\n",
       "      <td>0</td>\n",
       "      <td>NaN</td>\n",
       "      <td>NaN</td>\n",
       "      <td>1268867</td>\n",
       "      <td>5370</td>\n",
       "      <td>NaN</td>\n",
       "      <td>3074</td>\n",
       "    </tr>\n",
       "    <tr>\n",
       "      <th>4</th>\n",
       "      <td>5608486</td>\n",
       "      <td>ABEL MESQUITA JR.</td>\n",
       "      <td>178957</td>\n",
       "      <td>1</td>\n",
       "      <td>2015</td>\n",
       "      <td>RR</td>\n",
       "      <td>DEM</td>\n",
       "      <td>55</td>\n",
       "      <td>1</td>\n",
       "      <td>Maintenance of office supporting parliamentary...</td>\n",
       "      <td>...</td>\n",
       "      <td>310.25</td>\n",
       "      <td>2</td>\n",
       "      <td>2015</td>\n",
       "      <td>0</td>\n",
       "      <td>NaN</td>\n",
       "      <td>NaN</td>\n",
       "      <td>1168538</td>\n",
       "      <td>4966</td>\n",
       "      <td>NaN</td>\n",
       "      <td>3074</td>\n",
       "    </tr>\n",
       "  </tbody>\n",
       "</table>\n",
       "<p>5 rows × 29 columns</p>\n",
       "</div>"
      ],
      "text/plain": [
       "  document_id congressperson_name congressperson_id congressperson_document  \\\n",
       "0     5886345   ABEL MESQUITA JR.            178957                       1   \n",
       "1     5886361   ABEL MESQUITA JR.            178957                       1   \n",
       "2     5886341   ABEL MESQUITA JR.            178957                       1   \n",
       "3     5928783   ABEL MESQUITA JR.            178957                       1   \n",
       "4     5608486   ABEL MESQUITA JR.            178957                       1   \n",
       "\n",
       "   term state party term_id  subquota_number  \\\n",
       "0  2015    RR   DEM      55                1   \n",
       "1  2015    RR   DEM      55                1   \n",
       "2  2015    RR   DEM      55                1   \n",
       "3  2015    RR   DEM      55                1   \n",
       "4  2015    RR   DEM      55                1   \n",
       "\n",
       "                                subquota_description      ...       net_value  \\\n",
       "0  Maintenance of office supporting parliamentary...      ...          165.65   \n",
       "1  Maintenance of office supporting parliamentary...      ...           59.48   \n",
       "2  Maintenance of office supporting parliamentary...      ...          130.95   \n",
       "3  Maintenance of office supporting parliamentary...      ...          193.06   \n",
       "4  Maintenance of office supporting parliamentary...      ...          310.25   \n",
       "\n",
       "  month  year installment passenger  leg_of_the_trip batch_number  \\\n",
       "0    11  2015           0       NaN              NaN      1255355   \n",
       "1    12  2015           0       NaN              NaN      1255361   \n",
       "2    11  2015           0       NaN              NaN      1255355   \n",
       "3    12  2015           0       NaN              NaN      1268867   \n",
       "4     2  2015           0       NaN              NaN      1168538   \n",
       "\n",
       "   reimbursement_number  reimbursement_value  applicant_id  \n",
       "0                  5294                  NaN          3074  \n",
       "1                  5294                  NaN          3074  \n",
       "2                  5294                  NaN          3074  \n",
       "3                  5370                  NaN          3074  \n",
       "4                  4966                  NaN          3074  \n",
       "\n",
       "[5 rows x 29 columns]"
      ]
     },
     "execution_count": 4,
     "metadata": {},
     "output_type": "execute_result"
    }
   ],
   "source": [
    "data.head()"
   ]
  },
  {
   "cell_type": "code",
   "execution_count": 5,
   "metadata": {
    "collapsed": false
   },
   "outputs": [
    {
     "data": {
      "text/plain": [
       "document_id                                                             5886345\n",
       "congressperson_name                                           ABEL MESQUITA JR.\n",
       "congressperson_id                                                        178957\n",
       "congressperson_document                                                       1\n",
       "term                                                                       2015\n",
       "state                                                                        RR\n",
       "party                                                                       DEM\n",
       "term_id                                                                      55\n",
       "subquota_number                                                               1\n",
       "subquota_description          Maintenance of office supporting parliamentary...\n",
       "subquota_group_id                                                             0\n",
       "subquota_group_description                                                  NaN\n",
       "supplier                                COMPANHIA DE AGUAS E ESGOTOS DE RORAIMA\n",
       "cnpj_cpf                                                         05939467000115\n",
       "document_number                                                0010100910378000\n",
       "document_type                                                                 0\n",
       "issue_date                                                  2015-11-14 00:00:00\n",
       "document_value                                                           165.65\n",
       "remark_value                                                                  0\n",
       "net_value                                                                165.65\n",
       "month                                                                        11\n",
       "year                                                                       2015\n",
       "installment                                                                   0\n",
       "passenger                                                                   NaN\n",
       "leg_of_the_trip                                                             NaN\n",
       "batch_number                                                            1255355\n",
       "reimbursement_number                                                       5294\n",
       "reimbursement_value                                                         NaN\n",
       "applicant_id                                                               3074\n",
       "Name: 0, dtype: object"
      ]
     },
     "execution_count": 5,
     "metadata": {},
     "output_type": "execute_result"
    }
   ],
   "source": [
    "data.iloc[0]"
   ]
  },
  {
   "cell_type": "code",
   "execution_count": 6,
   "metadata": {
    "collapsed": false
   },
   "outputs": [],
   "source": [
    "def change_type_to_category(column):\n",
    "    data[column] = data[column].astype('category')\n",
    "\n",
    "category_columns = ['congressperson_id',\n",
    "       'state', 'party', 'term_id',\n",
    "       'subquota_number', 'subquota_group_id',\n",
    "       'document_type', 'applicant_id', 'congressperson_name']\n",
    "\n",
    "[change_type_to_category(column) for column in category_columns]; None"
   ]
  },
  {
   "cell_type": "markdown",
   "metadata": {},
   "source": [
    "Last year, R$213,668,049.56 were spent without public bidding. On average, each of the 374,484 expenses had a value of 570 Reais."
   ]
  },
  {
   "cell_type": "code",
   "execution_count": 7,
   "metadata": {
    "collapsed": false
   },
   "outputs": [
    {
     "data": {
      "text/plain": [
       "count    374484.000000\n",
       "mean        570.566565\n",
       "std        1993.167639\n",
       "min       -9240.770000\n",
       "25%          45.000000\n",
       "50%         134.310000\n",
       "75%         481.000000\n",
       "max      189600.000000\n",
       "Name: net_value, dtype: float64"
      ]
     },
     "execution_count": 7,
     "metadata": {},
     "output_type": "execute_result"
    }
   ],
   "source": [
    "data['net_value'].describe()"
   ]
  },
  {
   "cell_type": "code",
   "execution_count": 8,
   "metadata": {
    "collapsed": false
   },
   "outputs": [
    {
     "data": {
      "text/plain": [
       "213668049.56999993"
      ]
     },
     "execution_count": 8,
     "metadata": {},
     "output_type": "execute_result"
    }
   ],
   "source": [
    "data['net_value'].sum()"
   ]
  },
  {
   "cell_type": "markdown",
   "metadata": {},
   "source": [
    "Data seems to contain outliers. Negative net values and other records in the range of hundreds of thousands of Reais."
   ]
  },
  {
   "cell_type": "code",
   "execution_count": 9,
   "metadata": {
    "collapsed": false
   },
   "outputs": [
    {
     "data": {
      "text/plain": [
       "<matplotlib.axes._subplots.AxesSubplot at 0x114f98128>"
      ]
     },
     "execution_count": 9,
     "metadata": {},
     "output_type": "execute_result"
    },
    {
     "data": {
      "image/png": "[encoded data removed]",
      "text/plain": [
       "<matplotlib.figure.Figure at 0x117a9e4e0>"
      ]
     },
     "metadata": {},
     "output_type": "display_data"
    }
   ],
   "source": [
    "sns.distplot(data['net_value'])"
   ]
  },
  {
   "cell_type": "markdown",
   "metadata": {},
   "source": [
    "Most expensive document reimbursed by the government: R$189,600.00"
   ]
  },
  {
   "cell_type": "code",
   "execution_count": 10,
   "metadata": {
    "collapsed": false,
    "scrolled": false
   },
   "outputs": [
    {
     "data": {
      "text/plain": [
       "document_id                                               5884288\n",
       "congressperson_name                           ARNALDO FARIA DE SÁ\n",
       "congressperson_id                                           73434\n",
       "congressperson_document                                       337\n",
       "term                                                         2015\n",
       "state                                                          SP\n",
       "party                                                         PTB\n",
       "term_id                                                        55\n",
       "subquota_number                                                 5\n",
       "subquota_description          Publicity of parliamentary activity\n",
       "subquota_group_id                                               0\n",
       "subquota_group_description                                    NaN\n",
       "supplier                                      GRÁFICA TRÊS PONTAS\n",
       "cnpj_cpf                                           54450705000130\n",
       "document_number                                          00012480\n",
       "document_type                                                   0\n",
       "issue_date                                    2015-12-18 00:00:00\n",
       "document_value                                             189600\n",
       "remark_value                                                    0\n",
       "net_value                                                  189600\n",
       "month                                                          12\n",
       "year                                                         2015\n",
       "installment                                                     0\n",
       "passenger                                                     NaN\n",
       "leg_of_the_trip                                               NaN\n",
       "batch_number                                              1254689\n",
       "reimbursement_number                                         5266\n",
       "reimbursement_value                                           NaN\n",
       "applicant_id                                                  292\n",
       "Name: 32353, dtype: object"
      ]
     },
     "execution_count": 10,
     "metadata": {},
     "output_type": "execute_result"
    }
   ],
   "source": [
    "most_expensive_reimbursement = \\\n",
    "    data[data['net_value'] == data['net_value'].max()].iloc[0]\n",
    "most_expensive_reimbursement"
   ]
  },
  {
   "cell_type": "markdown",
   "metadata": {},
   "source": [
    "## Negative net values"
   ]
  },
  {
   "cell_type": "markdown",
   "metadata": {},
   "source": [
    "Talking about negative values..."
   ]
  },
  {
   "cell_type": "code",
   "execution_count": 11,
   "metadata": {
    "collapsed": false
   },
   "outputs": [
    {
     "name": "stdout",
     "output_type": "stream",
     "text": [
      "17646 0.047120838273464284\n"
     ]
    }
   ],
   "source": [
    "negative_net_values = data[data['net_value'] < 0]\n",
    "print(len(negative_net_values), len(negative_net_values) / len(data))"
   ]
  },
  {
   "cell_type": "code",
   "execution_count": 12,
   "metadata": {
    "collapsed": false
   },
   "outputs": [
    {
     "data": {
      "text/plain": [
       "<matplotlib.axes._subplots.AxesSubplot at 0x118567550>"
      ]
     },
     "execution_count": 12,
     "metadata": {},
     "output_type": "execute_result"
    },
    {
     "data": {
      "image/png": "[encoded data removed]",
      "text/plain": [
       "<matplotlib.figure.Figure at 0x117a9e630>"
      ]
     },
     "metadata": {},
     "output_type": "display_data"
    }
   ],
   "source": [
    "sns.distplot(negative_net_values['net_value'])"
   ]
  },
  {
   "cell_type": "markdown",
   "metadata": {},
   "source": [
    "Not really sure what they mean."
   ]
  },
  {
   "cell_type": "code",
   "execution_count": 13,
   "metadata": {
    "collapsed": false
   },
   "outputs": [
    {
     "data": {
      "text/plain": [
       "document_id                                   NaN\n",
       "congressperson_name               AFONSO FLORENCE\n",
       "congressperson_id                          160508\n",
       "congressperson_document                       182\n",
       "term                                         2015\n",
       "state                                          BA\n",
       "party                                          PT\n",
       "term_id                                        55\n",
       "subquota_number                               999\n",
       "subquota_description          Flight ticket issue\n",
       "subquota_group_id                               0\n",
       "subquota_group_description                    NaN\n",
       "supplier                          Cia Aérea - GOL\n",
       "cnpj_cpf                           07575651000159\n",
       "document_number                   Bilhete: MYJH2Y\n",
       "document_type                                   0\n",
       "issue_date                    2015-09-18 00:00:00\n",
       "document_value                            -356.73\n",
       "remark_value                                    0\n",
       "net_value                                 -356.73\n",
       "month                                           9\n",
       "year                                         2015\n",
       "installment                                     0\n",
       "passenger                         AFONSO FLORENCE\n",
       "leg_of_the_trip                           BSB/BSB\n",
       "batch_number                                    0\n",
       "reimbursement_number                            0\n",
       "reimbursement_value                           NaN\n",
       "applicant_id                                 2406\n",
       "Name: 5398, dtype: object"
      ]
     },
     "execution_count": 13,
     "metadata": {},
     "output_type": "execute_result"
    }
   ],
   "source": [
    "negative_net_values.sample(random_state=0).iloc[0]"
   ]
  },
  {
   "cell_type": "markdown",
   "metadata": {},
   "source": [
    "[According to Eduardo Cuducos](https://github.com/datasciencebr/serenata-de-amor/pull/24#issuecomment-242992477) on a pull request and the official documentation, negative values comprehend flight tickets issued but not used."
   ]
  },
  {
   "cell_type": "code",
   "execution_count": 14,
   "metadata": {
    "collapsed": false
   },
   "outputs": [
    {
     "data": {
      "text/plain": [
       "array(['Flight ticket issue'], dtype=object)"
      ]
     },
     "execution_count": 14,
     "metadata": {},
     "output_type": "execute_result"
    }
   ],
   "source": [
    "negative_net_values['subquota_description'].unique()"
   ]
  },
  {
   "cell_type": "markdown",
   "metadata": {},
   "source": [
    "In this specific case, it seems that Afonso Florence purchased a flight ticket of R\\$ 556,73. When canceled it, the returned amount was just R\\$ 356.73, generating a cancellation cost of R\\$200 (or 64%)."
   ]
  },
  {
   "cell_type": "code",
   "execution_count": 15,
   "metadata": {
    "collapsed": false
   },
   "outputs": [
    {
     "data": {
      "text/plain": [
       "document_id                                   NaN\n",
       "congressperson_name               AFONSO FLORENCE\n",
       "congressperson_id                          160508\n",
       "congressperson_document                       182\n",
       "term                                         2015\n",
       "state                                          BA\n",
       "party                                          PT\n",
       "term_id                                        55\n",
       "subquota_number                               999\n",
       "subquota_description          Flight ticket issue\n",
       "subquota_group_id                               0\n",
       "subquota_group_description                    NaN\n",
       "supplier                          Cia Aérea - GOL\n",
       "cnpj_cpf                           07575651000159\n",
       "document_number                   Bilhete: MYJH2Y\n",
       "document_type                                   0\n",
       "issue_date                    2015-09-10 00:00:00\n",
       "document_value                             556.73\n",
       "remark_value                                    0\n",
       "net_value                                  556.73\n",
       "month                                           9\n",
       "year                                         2015\n",
       "installment                                     0\n",
       "passenger                         AFONSO FLORENCE\n",
       "leg_of_the_trip                           BSB/SSA\n",
       "batch_number                                    0\n",
       "reimbursement_number                            0\n",
       "reimbursement_value                           NaN\n",
       "applicant_id                                 2406\n",
       "Name: 5397, dtype: object"
      ]
     },
     "execution_count": 15,
     "metadata": {},
     "output_type": "execute_result"
    }
   ],
   "source": [
    "flight_tickets = data[data['document_number'] == 'Bilhete: MYJH2Y']\n",
    "flight_tickets.iloc[0]"
   ]
  },
  {
   "cell_type": "code",
   "execution_count": 16,
   "metadata": {
    "collapsed": false
   },
   "outputs": [
    {
     "data": {
      "text/plain": [
       "document_id                                   NaN\n",
       "congressperson_name               AFONSO FLORENCE\n",
       "congressperson_id                          160508\n",
       "congressperson_document                       182\n",
       "term                                         2015\n",
       "state                                          BA\n",
       "party                                          PT\n",
       "term_id                                        55\n",
       "subquota_number                               999\n",
       "subquota_description          Flight ticket issue\n",
       "subquota_group_id                               0\n",
       "subquota_group_description                    NaN\n",
       "supplier                          Cia Aérea - GOL\n",
       "cnpj_cpf                           07575651000159\n",
       "document_number                   Bilhete: MYJH2Y\n",
       "document_type                                   0\n",
       "issue_date                    2015-09-18 00:00:00\n",
       "document_value                            -356.73\n",
       "remark_value                                    0\n",
       "net_value                                 -356.73\n",
       "month                                           9\n",
       "year                                         2015\n",
       "installment                                     0\n",
       "passenger                         AFONSO FLORENCE\n",
       "leg_of_the_trip                           BSB/BSB\n",
       "batch_number                                    0\n",
       "reimbursement_number                            0\n",
       "reimbursement_value                           NaN\n",
       "applicant_id                                 2406\n",
       "Name: 5398, dtype: object"
      ]
     },
     "execution_count": 16,
     "metadata": {},
     "output_type": "execute_result"
    }
   ],
   "source": [
    "flight_tickets.iloc[1]"
   ]
  },
  {
   "cell_type": "markdown",
   "metadata": {},
   "source": [
    "## Long (right) tail"
   ]
  },
  {
   "cell_type": "markdown",
   "metadata": {},
   "source": [
    "Let's try to remove outliers."
   ]
  },
  {
   "cell_type": "code",
   "execution_count": 17,
   "metadata": {
    "collapsed": false
   },
   "outputs": [
    {
     "data": {
      "text/plain": [
       "<matplotlib.axes._subplots.AxesSubplot at 0x11472cd30>"
      ]
     },
     "execution_count": 17,
     "metadata": {},
     "output_type": "execute_result"
    },
    {
     "data": {
      "image/png": "[encoded data removed]",
      "text/plain": [
       "<matplotlib.figure.Figure at 0x1170080f0>"
      ]
     },
     "metadata": {},
     "output_type": "display_data"
    }
   ],
   "source": [
    "dist_range = data['net_value'].mean() + data['net_value'].std() * 3 * np.r_[-1, 1]\n",
    "wo_outliers = \\\n",
    "    (data['net_value'] >= dist_range[0]) & (data['net_value'] <= dist_range[1])\n",
    "data_wo_outliers = data[wo_outliers]\n",
    "sns.distplot(data_wo_outliers['net_value'])"
   ]
  },
  {
   "cell_type": "markdown",
   "metadata": {},
   "source": [
    "### Top 45%"
   ]
  },
  {
   "cell_type": "markdown",
   "metadata": {},
   "source": [
    "45% of the dataset have net values larger than 3 standard deviations from the mean. Meaning: tail does not contain just a few outliers, but a good portion of the dataset. Let's study what is contained in this long tail (greater than 3 stds)."
   ]
  },
  {
   "cell_type": "code",
   "execution_count": 18,
   "metadata": {
    "collapsed": false
   },
   "outputs": [
    {
     "name": "stdout",
     "output_type": "stream",
     "text": [
      "170204 0.4545027290885592\n"
     ]
    }
   ],
   "source": [
    "outliers = data[~data.isin(data_wo_outliers)['document_id']]\n",
    "print(len(outliers), len(outliers) / len(data))"
   ]
  },
  {
   "cell_type": "code",
   "execution_count": 19,
   "metadata": {
    "collapsed": false
   },
   "outputs": [
    {
     "data": {
      "text/html": [
       "<div>\n",
       "<table border=\"1\" class=\"dataframe\">\n",
       "  <thead>\n",
       "    <tr style=\"text-align: right;\">\n",
       "      <th></th>\n",
       "      <th>document_id</th>\n",
       "      <th>congressperson_name</th>\n",
       "      <th>congressperson_id</th>\n",
       "      <th>congressperson_document</th>\n",
       "      <th>term</th>\n",
       "      <th>state</th>\n",
       "      <th>party</th>\n",
       "      <th>term_id</th>\n",
       "      <th>subquota_number</th>\n",
       "      <th>subquota_description</th>\n",
       "      <th>...</th>\n",
       "      <th>net_value</th>\n",
       "      <th>month</th>\n",
       "      <th>year</th>\n",
       "      <th>installment</th>\n",
       "      <th>passenger</th>\n",
       "      <th>leg_of_the_trip</th>\n",
       "      <th>batch_number</th>\n",
       "      <th>reimbursement_number</th>\n",
       "      <th>reimbursement_value</th>\n",
       "      <th>applicant_id</th>\n",
       "    </tr>\n",
       "  </thead>\n",
       "  <tbody>\n",
       "    <tr>\n",
       "      <th>76</th>\n",
       "      <td>5851959</td>\n",
       "      <td>ABEL MESQUITA JR.</td>\n",
       "      <td>178957</td>\n",
       "      <td>1</td>\n",
       "      <td>2015</td>\n",
       "      <td>RR</td>\n",
       "      <td>DEM</td>\n",
       "      <td>55</td>\n",
       "      <td>4</td>\n",
       "      <td>Consultancy, research and technical work</td>\n",
       "      <td>...</td>\n",
       "      <td>18000.0</td>\n",
       "      <td>11</td>\n",
       "      <td>2015</td>\n",
       "      <td>0</td>\n",
       "      <td>NaN</td>\n",
       "      <td>NaN</td>\n",
       "      <td>1244585</td>\n",
       "      <td>5242</td>\n",
       "      <td>NaN</td>\n",
       "      <td>3074</td>\n",
       "    </tr>\n",
       "    <tr>\n",
       "      <th>77</th>\n",
       "      <td>5887522</td>\n",
       "      <td>ABEL MESQUITA JR.</td>\n",
       "      <td>178957</td>\n",
       "      <td>1</td>\n",
       "      <td>2015</td>\n",
       "      <td>RR</td>\n",
       "      <td>DEM</td>\n",
       "      <td>55</td>\n",
       "      <td>4</td>\n",
       "      <td>Consultancy, research and technical work</td>\n",
       "      <td>...</td>\n",
       "      <td>18000.0</td>\n",
       "      <td>12</td>\n",
       "      <td>2015</td>\n",
       "      <td>0</td>\n",
       "      <td>NaN</td>\n",
       "      <td>NaN</td>\n",
       "      <td>1255689</td>\n",
       "      <td>5298</td>\n",
       "      <td>NaN</td>\n",
       "      <td>3074</td>\n",
       "    </tr>\n",
       "    <tr>\n",
       "      <th>78</th>\n",
       "      <td>5920934</td>\n",
       "      <td>ABEL MESQUITA JR.</td>\n",
       "      <td>178957</td>\n",
       "      <td>1</td>\n",
       "      <td>2015</td>\n",
       "      <td>RR</td>\n",
       "      <td>DEM</td>\n",
       "      <td>55</td>\n",
       "      <td>4</td>\n",
       "      <td>Consultancy, research and technical work</td>\n",
       "      <td>...</td>\n",
       "      <td>18000.0</td>\n",
       "      <td>12</td>\n",
       "      <td>2015</td>\n",
       "      <td>0</td>\n",
       "      <td>NaN</td>\n",
       "      <td>NaN</td>\n",
       "      <td>1266231</td>\n",
       "      <td>5422</td>\n",
       "      <td>NaN</td>\n",
       "      <td>3074</td>\n",
       "    </tr>\n",
       "    <tr>\n",
       "      <th>79</th>\n",
       "      <td>5761747</td>\n",
       "      <td>ABEL MESQUITA JR.</td>\n",
       "      <td>178957</td>\n",
       "      <td>1</td>\n",
       "      <td>2015</td>\n",
       "      <td>RR</td>\n",
       "      <td>DEM</td>\n",
       "      <td>55</td>\n",
       "      <td>4</td>\n",
       "      <td>Consultancy, research and technical work</td>\n",
       "      <td>...</td>\n",
       "      <td>20000.0</td>\n",
       "      <td>7</td>\n",
       "      <td>2015</td>\n",
       "      <td>0</td>\n",
       "      <td>NaN</td>\n",
       "      <td>NaN</td>\n",
       "      <td>1217319</td>\n",
       "      <td>5124</td>\n",
       "      <td>NaN</td>\n",
       "      <td>3074</td>\n",
       "    </tr>\n",
       "    <tr>\n",
       "      <th>80</th>\n",
       "      <td>5793677</td>\n",
       "      <td>ABEL MESQUITA JR.</td>\n",
       "      <td>178957</td>\n",
       "      <td>1</td>\n",
       "      <td>2015</td>\n",
       "      <td>RR</td>\n",
       "      <td>DEM</td>\n",
       "      <td>55</td>\n",
       "      <td>4</td>\n",
       "      <td>Consultancy, research and technical work</td>\n",
       "      <td>...</td>\n",
       "      <td>20000.0</td>\n",
       "      <td>8</td>\n",
       "      <td>2015</td>\n",
       "      <td>0</td>\n",
       "      <td>NaN</td>\n",
       "      <td>NaN</td>\n",
       "      <td>1226779</td>\n",
       "      <td>5170</td>\n",
       "      <td>NaN</td>\n",
       "      <td>3074</td>\n",
       "    </tr>\n",
       "  </tbody>\n",
       "</table>\n",
       "<p>5 rows × 29 columns</p>\n",
       "</div>"
      ],
      "text/plain": [
       "   document_id congressperson_name congressperson_id congressperson_document  \\\n",
       "76     5851959   ABEL MESQUITA JR.            178957                       1   \n",
       "77     5887522   ABEL MESQUITA JR.            178957                       1   \n",
       "78     5920934   ABEL MESQUITA JR.            178957                       1   \n",
       "79     5761747   ABEL MESQUITA JR.            178957                       1   \n",
       "80     5793677   ABEL MESQUITA JR.            178957                       1   \n",
       "\n",
       "    term state party term_id subquota_number  \\\n",
       "76  2015    RR   DEM      55               4   \n",
       "77  2015    RR   DEM      55               4   \n",
       "78  2015    RR   DEM      55               4   \n",
       "79  2015    RR   DEM      55               4   \n",
       "80  2015    RR   DEM      55               4   \n",
       "\n",
       "                        subquota_description      ...      net_value month  \\\n",
       "76  Consultancy, research and technical work      ...        18000.0    11   \n",
       "77  Consultancy, research and technical work      ...        18000.0    12   \n",
       "78  Consultancy, research and technical work      ...        18000.0    12   \n",
       "79  Consultancy, research and technical work      ...        20000.0     7   \n",
       "80  Consultancy, research and technical work      ...        20000.0     8   \n",
       "\n",
       "    year installment passenger leg_of_the_trip batch_number  \\\n",
       "76  2015           0       NaN             NaN      1244585   \n",
       "77  2015           0       NaN             NaN      1255689   \n",
       "78  2015           0       NaN             NaN      1266231   \n",
       "79  2015           0       NaN             NaN      1217319   \n",
       "80  2015           0       NaN             NaN      1226779   \n",
       "\n",
       "    reimbursement_number  reimbursement_value  applicant_id  \n",
       "76                  5242                  NaN          3074  \n",
       "77                  5298                  NaN          3074  \n",
       "78                  5422                  NaN          3074  \n",
       "79                  5124                  NaN          3074  \n",
       "80                  5170                  NaN          3074  \n",
       "\n",
       "[5 rows x 29 columns]"
      ]
     },
     "execution_count": 19,
     "metadata": {},
     "output_type": "execute_result"
    }
   ],
   "source": [
    "outliers.head()"
   ]
  },
  {
   "cell_type": "code",
   "execution_count": 20,
   "metadata": {
    "collapsed": false
   },
   "outputs": [
    {
     "data": {
      "text/plain": [
       "count                  170204\n",
       "unique                     14\n",
       "top       Flight ticket issue\n",
       "freq                   116993\n",
       "Name: subquota_description, dtype: object"
      ]
     },
     "execution_count": 20,
     "metadata": {},
     "output_type": "execute_result"
    }
   ],
   "source": [
    "outliers['subquota_description'].describe()"
   ]
  },
  {
   "cell_type": "markdown",
   "metadata": {},
   "source": [
    "Let's build a ranking of expenses with higher values."
   ]
  },
  {
   "cell_type": "code",
   "execution_count": 21,
   "metadata": {
    "collapsed": false
   },
   "outputs": [],
   "source": [
    "from functools import partial\n",
    "\n",
    "subquota_number_ranking = outliers. \\\n",
    "    groupby('subquota_number', as_index=False). \\\n",
    "    agg({'net_value': np.nansum})\n",
    "subquotas = data[['subquota_number', 'subquota_description']]. \\\n",
    "    drop_duplicates('subquota_number', keep='first')\n",
    "subquota_number_ranking = \\\n",
    "    pd.merge(subquota_number_ranking,\n",
    "             subquotas,\n",
    "             how='left',\n",
    "             on='subquota_number'). \\\n",
    "    sort_values('net_value', ascending=False)"
   ]
  },
  {
   "cell_type": "code",
   "execution_count": 22,
   "metadata": {
    "collapsed": false
   },
   "outputs": [
    {
     "data": {
      "text/html": [
       "<div>\n",
       "<table border=\"1\" class=\"dataframe\">\n",
       "  <thead>\n",
       "    <tr style=\"text-align: right;\">\n",
       "      <th></th>\n",
       "      <th>subquota_number</th>\n",
       "      <th>net_value</th>\n",
       "      <th>subquota_description</th>\n",
       "    </tr>\n",
       "  </thead>\n",
       "  <tbody>\n",
       "    <tr>\n",
       "      <th>17</th>\n",
       "      <td>999</td>\n",
       "      <td>48229356.25</td>\n",
       "      <td>Flight ticket issue</td>\n",
       "    </tr>\n",
       "    <tr>\n",
       "      <th>3</th>\n",
       "      <td>5</td>\n",
       "      <td>34730760.81</td>\n",
       "      <td>Publicity of parliamentary activity</td>\n",
       "    </tr>\n",
       "    <tr>\n",
       "      <th>2</th>\n",
       "      <td>4</td>\n",
       "      <td>16952282.42</td>\n",
       "      <td>Consultancy, research and technical work</td>\n",
       "    </tr>\n",
       "    <tr>\n",
       "      <th>12</th>\n",
       "      <td>120</td>\n",
       "      <td>8362929.39</td>\n",
       "      <td>Automotive vehicle renting or charter</td>\n",
       "    </tr>\n",
       "    <tr>\n",
       "      <th>6</th>\n",
       "      <td>10</td>\n",
       "      <td>5103956.53</td>\n",
       "      <td>Telecommunication</td>\n",
       "    </tr>\n",
       "  </tbody>\n",
       "</table>\n",
       "</div>"
      ],
      "text/plain": [
       "    subquota_number    net_value                      subquota_description\n",
       "17              999  48229356.25                       Flight ticket issue\n",
       "3                 5  34730760.81       Publicity of parliamentary activity\n",
       "2                 4  16952282.42  Consultancy, research and technical work\n",
       "12              120   8362929.39     Automotive vehicle renting or charter\n",
       "6                10   5103956.53                         Telecommunication"
      ]
     },
     "execution_count": 22,
     "metadata": {},
     "output_type": "execute_result"
    }
   ],
   "source": [
    "subquota_number_ranking.head()"
   ]
  },
  {
   "cell_type": "code",
   "execution_count": 23,
   "metadata": {
    "collapsed": false
   },
   "outputs": [
    {
     "data": {
      "image/png": "[encoded data removed]",
      "text/plain": [
       "<matplotlib.figure.Figure at 0x111b00780>"
      ]
     },
     "metadata": {},
     "output_type": "display_data"
    }
   ],
   "source": [
    "sns.barplot(x='subquota_description',\n",
    "            y='net_value',\n",
    "            data=subquota_number_ranking.head())\n",
    "locs, labels = plt.xticks()\n",
    "plt.setp(labels, rotation=90); None"
   ]
  },
  {
   "cell_type": "markdown",
   "metadata": {},
   "source": [
    "### Top 1%"
   ]
  },
  {
   "cell_type": "markdown",
   "metadata": {},
   "source": [
    "How the top 1% look like?"
   ]
  },
  {
   "cell_type": "code",
   "execution_count": 24,
   "metadata": {
    "collapsed": false
   },
   "outputs": [],
   "source": [
    "top_1_percent_num = int(.01 * len(data))\n",
    "top_1_percent = data. \\\n",
    "    sort_values('net_value', ascending=False). \\\n",
    "    iloc[0:top_1_percent_num + 1]\n",
    "\n",
    "top_1_percent_subquota_ranking = top_1_percent. \\\n",
    "    groupby('subquota_number', as_index=False). \\\n",
    "    agg({'net_value': np.nansum})\n",
    "top_1_percent_subquota_ranking = \\\n",
    "    pd.merge(top_1_percent_subquota_ranking,\n",
    "             subquotas,\n",
    "             how='left',\n",
    "             on='subquota_number'). \\\n",
    "    sort_values('net_value', ascending=False)"
   ]
  },
  {
   "cell_type": "code",
   "execution_count": 25,
   "metadata": {
    "collapsed": false
   },
   "outputs": [
    {
     "data": {
      "text/html": [
       "<div>\n",
       "<table border=\"1\" class=\"dataframe\">\n",
       "  <thead>\n",
       "    <tr style=\"text-align: right;\">\n",
       "      <th></th>\n",
       "      <th>subquota_number</th>\n",
       "      <th>net_value</th>\n",
       "      <th>subquota_description</th>\n",
       "    </tr>\n",
       "  </thead>\n",
       "  <tbody>\n",
       "    <tr>\n",
       "      <th>3</th>\n",
       "      <td>5</td>\n",
       "      <td>31241274.99</td>\n",
       "      <td>Publicity of parliamentary activity</td>\n",
       "    </tr>\n",
       "    <tr>\n",
       "      <th>2</th>\n",
       "      <td>4</td>\n",
       "      <td>14737527.82</td>\n",
       "      <td>Consultancy, research and technical work</td>\n",
       "    </tr>\n",
       "    <tr>\n",
       "      <th>12</th>\n",
       "      <td>120</td>\n",
       "      <td>5121283.86</td>\n",
       "      <td>Automotive vehicle renting or charter</td>\n",
       "    </tr>\n",
       "    <tr>\n",
       "      <th>11</th>\n",
       "      <td>119</td>\n",
       "      <td>1754436.23</td>\n",
       "      <td>Aircraft renting or charter of aircraft</td>\n",
       "    </tr>\n",
       "    <tr>\n",
       "      <th>0</th>\n",
       "      <td>1</td>\n",
       "      <td>1728364.32</td>\n",
       "      <td>Maintenance of office supporting parliamentary...</td>\n",
       "    </tr>\n",
       "  </tbody>\n",
       "</table>\n",
       "</div>"
      ],
      "text/plain": [
       "    subquota_number    net_value  \\\n",
       "3                 5  31241274.99   \n",
       "2                 4  14737527.82   \n",
       "12              120   5121283.86   \n",
       "11              119   1754436.23   \n",
       "0                 1   1728364.32   \n",
       "\n",
       "                                 subquota_description  \n",
       "3                 Publicity of parliamentary activity  \n",
       "2            Consultancy, research and technical work  \n",
       "12              Automotive vehicle renting or charter  \n",
       "11            Aircraft renting or charter of aircraft  \n",
       "0   Maintenance of office supporting parliamentary...  "
      ]
     },
     "execution_count": 25,
     "metadata": {},
     "output_type": "execute_result"
    }
   ],
   "source": [
    "top_1_percent_subquota_ranking.head()"
   ]
  },
  {
   "cell_type": "code",
   "execution_count": 26,
   "metadata": {
    "collapsed": false
   },
   "outputs": [
    {
     "data": {
      "image/png": "[encoded data removed]",
      "text/plain": [
       "<matplotlib.figure.Figure at 0x111f8f908>"
      ]
     },
     "metadata": {},
     "output_type": "display_data"
    }
   ],
   "source": [
    "sns.barplot(x='subquota_description',\n",
    "            y='net_value',\n",
    "            data=top_1_percent_subquota_ranking.head())\n",
    "locs, labels = plt.xticks()\n",
    "plt.setp(labels, rotation=90); None"
   ]
  },
  {
   "cell_type": "markdown",
   "metadata": {},
   "source": [
    "This is the most expensive reimbursement from last year: R$189,600 for printing 120,000 units of something about the Elderly Statute."
   ]
  },
  {
   "cell_type": "code",
   "execution_count": 27,
   "metadata": {
    "collapsed": false
   },
   "outputs": [
    {
     "data": {
      "text/plain": [
       "document_id                                               5884288\n",
       "congressperson_name                           ARNALDO FARIA DE SÁ\n",
       "congressperson_id                                           73434\n",
       "congressperson_document                                       337\n",
       "term                                                         2015\n",
       "state                                                          SP\n",
       "party                                                         PTB\n",
       "term_id                                                        55\n",
       "subquota_number                                                 5\n",
       "subquota_description          Publicity of parliamentary activity\n",
       "subquota_group_id                                               0\n",
       "subquota_group_description                                    NaN\n",
       "supplier                                      GRÁFICA TRÊS PONTAS\n",
       "cnpj_cpf                                           54450705000130\n",
       "document_number                                          00012480\n",
       "document_type                                                   0\n",
       "issue_date                                    2015-12-18 00:00:00\n",
       "document_value                                             189600\n",
       "remark_value                                                    0\n",
       "net_value                                                  189600\n",
       "month                                                          12\n",
       "year                                                         2015\n",
       "installment                                                     0\n",
       "passenger                                                     NaN\n",
       "leg_of_the_trip                                               NaN\n",
       "batch_number                                              1254689\n",
       "reimbursement_number                                         5266\n",
       "reimbursement_value                                           NaN\n",
       "applicant_id                                                  292\n",
       "Name: 32353, dtype: object"
      ]
     },
     "execution_count": 27,
     "metadata": {},
     "output_type": "execute_result"
    }
   ],
   "source": [
    "most_expensive_reimbursement"
   ]
  },
  {
   "cell_type": "markdown",
   "metadata": {},
   "source": [
    "Found at camara.gov.br, the URL of this expense receipt, in PDF: http://www.camara.gov.br/cota-parlamentar/documentos/publ/292/2015/5884288.pdf"
   ]
  },
  {
   "cell_type": "markdown",
   "metadata": {},
   "source": [
    "## Description of each expense"
   ]
  },
  {
   "cell_type": "markdown",
   "metadata": {},
   "source": [
    "Let's try to match a document (PDF file) found at http://www.camara.gov.br/cota-parlamentar/index.jsp with this dataset. Can we generate URLs for the documents received for review?\n",
    "\n",
    "Taking the following PDF as an example: http://www.camara.gov.br/cota-parlamentar/documentos/publ/3016/2015/5651163.pdf"
   ]
  },
  {
   "cell_type": "code",
   "execution_count": 28,
   "metadata": {
    "collapsed": false
   },
   "outputs": [
    {
     "data": {
      "text/plain": [
       "document_id                                    5651163\n",
       "congressperson_name                     ADAIL CARNEIRO\n",
       "congressperson_id                               178864\n",
       "congressperson_document                             92\n",
       "term                                              2015\n",
       "state                                               CE\n",
       "party                                               PP\n",
       "term_id                                             55\n",
       "subquota_number                                      3\n",
       "subquota_description              Fuels and lubricants\n",
       "subquota_group_id                                    1\n",
       "subquota_group_description        Veículos Automotores\n",
       "supplier                      BRASAL COMBUSTíVEIS LTDA\n",
       "cnpj_cpf                                00097626000400\n",
       "document_number                                 572808\n",
       "document_type                                        0\n",
       "issue_date                         2015-04-08 00:00:00\n",
       "document_value                                     100\n",
       "remark_value                                         0\n",
       "net_value                                          100\n",
       "month                                                4\n",
       "year                                              2015\n",
       "installment                                          0\n",
       "passenger                                          NaN\n",
       "leg_of_the_trip                                    NaN\n",
       "batch_number                                   1182395\n",
       "reimbursement_number                              4997\n",
       "reimbursement_value                                NaN\n",
       "applicant_id                                      3016\n",
       "Name: 414, dtype: object"
      ]
     },
     "execution_count": 28,
     "metadata": {},
     "output_type": "execute_result"
    }
   ],
   "source": [
    "records = \\\n",
    "    (data['applicant_id'] == 3016) & \\\n",
    "    (data['month'] == 4) & \\\n",
    "    (data['subquota_number'] == 3)\n",
    "data[records].iloc[0]"
   ]
  },
  {
   "cell_type": "markdown",
   "metadata": {},
   "source": [
    "It works!\n",
    "\n",
    "From the document PDF, we could extract new features such as names of the products/services purchased, name of the seller, address of the business among other things."
   ]
  },
  {
   "cell_type": "code",
   "execution_count": 29,
   "metadata": {
    "collapsed": false
   },
   "outputs": [
    {
     "data": {
      "text/plain": [
       "document_id                                    5637835\n",
       "congressperson_name                      ARNALDO JORDY\n",
       "congressperson_id                               160602\n",
       "congressperson_document                             18\n",
       "term                                              2015\n",
       "state                                               PA\n",
       "party                                              PPS\n",
       "term_id                                             55\n",
       "subquota_number                                      3\n",
       "subquota_description              Fuels and lubricants\n",
       "subquota_group_id                                    1\n",
       "subquota_group_description        Veículos Automotores\n",
       "supplier                      POSTO SÃO DOMINGOS LTDA.\n",
       "cnpj_cpf                                63814339000141\n",
       "document_number                                 632604\n",
       "document_type                                        0\n",
       "issue_date                         2015-03-16 00:00:00\n",
       "document_value                                      20\n",
       "remark_value                                         0\n",
       "net_value                                           20\n",
       "month                                                3\n",
       "year                                              2015\n",
       "installment                                          0\n",
       "passenger                                          NaN\n",
       "leg_of_the_trip                                    NaN\n",
       "batch_number                                   1177939\n",
       "reimbursement_number                              4974\n",
       "reimbursement_value                                NaN\n",
       "applicant_id                                      2341\n",
       "Name: 33266, dtype: object"
      ]
     },
     "execution_count": 29,
     "metadata": {},
     "output_type": "execute_result"
    }
   ],
   "source": [
    "def document_url(record):\n",
    "    return 'http://www.camara.gov.br/cota-parlamentar/documentos/publ/%s/%s/%s.pdf' % \\\n",
    "        (record['applicant_id'], record['year'], record['document_id'])\n",
    "\n",
    "record = data[data['document_number'] == '632604'].iloc[0]\n",
    "record"
   ]
  },
  {
   "cell_type": "code",
   "execution_count": 30,
   "metadata": {
    "collapsed": false
   },
   "outputs": [
    {
     "name": "stdout",
     "output_type": "stream",
     "text": [
      "http://www.camara.gov.br/cota-parlamentar/documentos/publ/2341/2015/5637835.pdf\n"
     ]
    }
   ],
   "source": [
    "print(document_url(record))"
   ]
  },
  {
   "cell_type": "markdown",
   "metadata": {},
   "source": [
    "How about a random record? Is its `document_url` valid? YES!"
   ]
  },
  {
   "cell_type": "code",
   "execution_count": 31,
   "metadata": {
    "collapsed": false
   },
   "outputs": [
    {
     "name": "stdout",
     "output_type": "stream",
     "text": [
      "http://www.camara.gov.br/cota-parlamentar/documentos/publ/2398/2015/5635048.pdf\n"
     ]
    },
    {
     "data": {
      "text/plain": [
       "document_id                                  5635048\n",
       "congressperson_name                     SIBÁ MACHADO\n",
       "congressperson_id                             160613\n",
       "congressperson_document                           58\n",
       "term                                            2015\n",
       "state                                             AC\n",
       "party                                             PT\n",
       "term_id                                           55\n",
       "subquota_number                                   13\n",
       "subquota_description             Congressperson meal\n",
       "subquota_group_id                                  0\n",
       "subquota_group_description                       NaN\n",
       "supplier                      J. BEZERRA DA CUNHA ME\n",
       "cnpj_cpf                              04036977000110\n",
       "document_number                                15283\n",
       "document_type                                      0\n",
       "issue_date                       2015-02-28 00:00:00\n",
       "document_value                                   180\n",
       "remark_value                                       0\n",
       "net_value                                        180\n",
       "month                                              2\n",
       "year                                            2015\n",
       "installment                                        0\n",
       "passenger                                        NaN\n",
       "leg_of_the_trip                                  NaN\n",
       "batch_number                                 1176917\n",
       "reimbursement_number                            4973\n",
       "reimbursement_value                              NaN\n",
       "applicant_id                                    2398\n",
       "Name: 331877, dtype: object"
      ]
     },
     "execution_count": 31,
     "metadata": {},
     "output_type": "execute_result"
    }
   ],
   "source": [
    "record = data.sample(random_state=0).iloc[0]\n",
    "print(document_url(record))\n",
    "record"
   ]
  },
  {
   "cell_type": "markdown",
   "metadata": {},
   "source": [
    "## Who are these applicants?"
   ]
  },
  {
   "cell_type": "markdown",
   "metadata": {},
   "source": [
    "There were 803 different people receiving reimbursements last year."
   ]
  },
  {
   "cell_type": "code",
   "execution_count": 32,
   "metadata": {
    "collapsed": false
   },
   "outputs": [
    {
     "data": {
      "text/plain": [
       "803"
      ]
     },
     "execution_count": 32,
     "metadata": {},
     "output_type": "execute_result"
    }
   ],
   "source": [
    "len(data['applicant_id'].unique())"
   ]
  },
  {
   "cell_type": "code",
   "execution_count": 33,
   "metadata": {
    "collapsed": false
   },
   "outputs": [
    {
     "data": {
      "text/plain": [
       "803"
      ]
     },
     "execution_count": 33,
     "metadata": {},
     "output_type": "execute_result"
    }
   ],
   "source": [
    "len(data['congressperson_name'].cat.categories)"
   ]
  },
  {
   "cell_type": "code",
   "execution_count": 34,
   "metadata": {
    "collapsed": false
   },
   "outputs": [
    {
     "data": {
      "text/html": [
       "<div>\n",
       "<table border=\"1\" class=\"dataframe\">\n",
       "  <thead>\n",
       "    <tr style=\"text-align: right;\">\n",
       "      <th></th>\n",
       "      <th>applicant_id</th>\n",
       "      <th>net_value</th>\n",
       "    </tr>\n",
       "  </thead>\n",
       "  <tbody>\n",
       "    <tr>\n",
       "      <th>0</th>\n",
       "      <td>19</td>\n",
       "      <td>416089.93</td>\n",
       "    </tr>\n",
       "    <tr>\n",
       "      <th>1</th>\n",
       "      <td>74</td>\n",
       "      <td>396689.18</td>\n",
       "    </tr>\n",
       "    <tr>\n",
       "      <th>2</th>\n",
       "      <td>80</td>\n",
       "      <td>477709.44</td>\n",
       "    </tr>\n",
       "    <tr>\n",
       "      <th>3</th>\n",
       "      <td>84</td>\n",
       "      <td>22762.99</td>\n",
       "    </tr>\n",
       "    <tr>\n",
       "      <th>4</th>\n",
       "      <td>98</td>\n",
       "      <td>395691.19</td>\n",
       "    </tr>\n",
       "  </tbody>\n",
       "</table>\n",
       "</div>"
      ],
      "text/plain": [
       "  applicant_id  net_value\n",
       "0           19  416089.93\n",
       "1           74  396689.18\n",
       "2           80  477709.44\n",
       "3           84   22762.99\n",
       "4           98  395691.19"
      ]
     },
     "execution_count": 34,
     "metadata": {},
     "output_type": "execute_result"
    }
   ],
   "source": [
    "applicants_by_net_value = \\\n",
    "    pd.DataFrame(data.groupby(['applicant_id'], as_index=False).sum()[['applicant_id', 'net_value']])\n",
    "applicants_by_net_value.head()"
   ]
  },
  {
   "cell_type": "code",
   "execution_count": 35,
   "metadata": {
    "collapsed": false
   },
   "outputs": [
    {
     "data": {
      "text/html": [
       "<div>\n",
       "<table border=\"1\" class=\"dataframe\">\n",
       "  <thead>\n",
       "    <tr style=\"text-align: right;\">\n",
       "      <th></th>\n",
       "      <th>applicant_id</th>\n",
       "      <th>net_value</th>\n",
       "      <th>congressperson_name</th>\n",
       "      <th>party</th>\n",
       "      <th>state</th>\n",
       "    </tr>\n",
       "  </thead>\n",
       "  <tbody>\n",
       "    <tr>\n",
       "      <th>450</th>\n",
       "      <td>2333</td>\n",
       "      <td>542411.99</td>\n",
       "      <td>JHONATAN DE JESUS</td>\n",
       "      <td>PRB</td>\n",
       "      <td>RR</td>\n",
       "    </tr>\n",
       "    <tr>\n",
       "      <th>250</th>\n",
       "      <td>1818</td>\n",
       "      <td>537204.88</td>\n",
       "      <td>EDIO LOPES</td>\n",
       "      <td>PR</td>\n",
       "      <td>RR</td>\n",
       "    </tr>\n",
       "    <tr>\n",
       "      <th>216</th>\n",
       "      <td>1703</td>\n",
       "      <td>520499.10</td>\n",
       "      <td>WELLINGTON ROBERTO</td>\n",
       "      <td>PR</td>\n",
       "      <td>PB</td>\n",
       "    </tr>\n",
       "    <tr>\n",
       "      <th>404</th>\n",
       "      <td>2280</td>\n",
       "      <td>516710.27</td>\n",
       "      <td>VINICIUS GURGEL</td>\n",
       "      <td>PR</td>\n",
       "      <td>AP</td>\n",
       "    </tr>\n",
       "    <tr>\n",
       "      <th>117</th>\n",
       "      <td>1289</td>\n",
       "      <td>513407.27</td>\n",
       "      <td>NILTON CAPIXABA</td>\n",
       "      <td>PTB</td>\n",
       "      <td>RO</td>\n",
       "    </tr>\n",
       "    <tr>\n",
       "      <th>545</th>\n",
       "      <td>2473</td>\n",
       "      <td>510808.79</td>\n",
       "      <td>MARCOS ROGÉRIO</td>\n",
       "      <td>DEM</td>\n",
       "      <td>RO</td>\n",
       "    </tr>\n",
       "    <tr>\n",
       "      <th>456</th>\n",
       "      <td>2341</td>\n",
       "      <td>508400.84</td>\n",
       "      <td>ARNALDO JORDY</td>\n",
       "      <td>PPS</td>\n",
       "      <td>PA</td>\n",
       "    </tr>\n",
       "    <tr>\n",
       "      <th>508</th>\n",
       "      <td>2398</td>\n",
       "      <td>506268.40</td>\n",
       "      <td>SIBÁ MACHADO</td>\n",
       "      <td>PT</td>\n",
       "      <td>AC</td>\n",
       "    </tr>\n",
       "    <tr>\n",
       "      <th>666</th>\n",
       "      <td>2969</td>\n",
       "      <td>504966.44</td>\n",
       "      <td>SHÉRIDAN</td>\n",
       "      <td>PSDB</td>\n",
       "      <td>RR</td>\n",
       "    </tr>\n",
       "    <tr>\n",
       "      <th>286</th>\n",
       "      <td>1881</td>\n",
       "      <td>501329.70</td>\n",
       "      <td>MANOEL JUNIOR</td>\n",
       "      <td>PMDB</td>\n",
       "      <td>PB</td>\n",
       "    </tr>\n",
       "  </tbody>\n",
       "</table>\n",
       "</div>"
      ],
      "text/plain": [
       "     applicant_id  net_value congressperson_name party state\n",
       "450          2333  542411.99   JHONATAN DE JESUS   PRB    RR\n",
       "250          1818  537204.88          EDIO LOPES    PR    RR\n",
       "216          1703  520499.10  WELLINGTON ROBERTO    PR    PB\n",
       "404          2280  516710.27     VINICIUS GURGEL    PR    AP\n",
       "117          1289  513407.27     NILTON CAPIXABA   PTB    RO\n",
       "545          2473  510808.79      MARCOS ROGÉRIO   DEM    RO\n",
       "456          2341  508400.84       ARNALDO JORDY   PPS    PA\n",
       "508          2398  506268.40        SIBÁ MACHADO    PT    AC\n",
       "666          2969  504966.44            SHÉRIDAN  PSDB    RR\n",
       "286          1881  501329.70       MANOEL JUNIOR  PMDB    PB"
      ]
     },
     "execution_count": 35,
     "metadata": {},
     "output_type": "execute_result"
    }
   ],
   "source": [
    "congressperson_list = data[\n",
    "    ['applicant_id', 'congressperson_name', 'party', 'state']]\n",
    "congressperson_list = congressperson_list. \\\n",
    "    drop_duplicates('applicant_id', keep='first')\n",
    "ranking = pd.merge(applicants_by_net_value,\n",
    "                   congressperson_list,\n",
    "                   how='left',\n",
    "                   on='applicant_id').sort_values('net_value', ascending=False)\n",
    "ranking.head(10)"
   ]
  },
  {
   "cell_type": "code",
   "execution_count": 36,
   "metadata": {
    "collapsed": false
   },
   "outputs": [
    {
     "data": {
      "text/plain": [
       "count       803.000000\n",
       "mean     266087.234832\n",
       "std      189000.038242\n",
       "min       -1791.570000\n",
       "25%       33621.015000\n",
       "50%      362625.870000\n",
       "75%      429826.050000\n",
       "max      542411.990000\n",
       "Name: net_value, dtype: float64"
      ]
     },
     "execution_count": 36,
     "metadata": {},
     "output_type": "execute_result"
    }
   ],
   "source": [
    "ranking['net_value'].describe()"
   ]
  },
  {
   "cell_type": "code",
   "execution_count": 37,
   "metadata": {
    "collapsed": false
   },
   "outputs": [
    {
     "data": {
      "image/png": "[encoded data removed]",
      "text/plain": [
       "<matplotlib.figure.Figure at 0x11b4e8f98>"
      ]
     },
     "metadata": {},
     "output_type": "display_data"
    }
   ],
   "source": [
    "graph = sns.barplot(x='congressperson_name',\n",
    "                    y='net_value',\n",
    "                    data=ranking)\n",
    "graph.axes.get_xaxis().set_ticks([]); None"
   ]
  },
  {
   "cell_type": "code",
   "execution_count": 38,
   "metadata": {
    "collapsed": false
   },
   "outputs": [],
   "source": [
    "def x_label_generator(record):\n",
    "    return '%s (%s - %s)' % (record['congressperson_name'],\n",
    "                             record['party'],\n",
    "                             record['state'])\n",
    "\n",
    "ranking['x_label'] = ranking.apply(x_label_generator, axis=1)"
   ]
  },
  {
   "cell_type": "markdown",
   "metadata": {},
   "source": [
    "Apparently, politicians from states further away from Distrito Federal expent more. We could perform an analysis on distance to the capital and the home state from the politician."
   ]
  },
  {
   "cell_type": "code",
   "execution_count": 39,
   "metadata": {
    "collapsed": false
   },
   "outputs": [
    {
     "data": {
      "image/png": "[encoded data removed]",
      "text/plain": [
       "<matplotlib.figure.Figure at 0x114b1c438>"
      ]
     },
     "metadata": {},
     "output_type": "display_data"
    }
   ],
   "source": [
    "sns.barplot(x='x_label',\n",
    "            y='net_value',\n",
    "            data=ranking.head(30))\n",
    "locs, labels = plt.xticks()\n",
    "plt.setp(labels, rotation=90); None"
   ]
  },
  {
   "cell_type": "code",
   "execution_count": 40,
   "metadata": {
    "collapsed": false
   },
   "outputs": [
    {
     "data": {
      "text/plain": [
       "['ABEL MESQUITA JR.',\n",
       " 'ABELARDO CAMARINHA',\n",
       " 'ABELARDO LUPION',\n",
       " 'ACELINO POPÓ',\n",
       " 'ADAIL CARNEIRO',\n",
       " 'ADALBERTO CAVALCANTI',\n",
       " 'ADELMO CARNEIRO LEÃO',\n",
       " 'ADELSON BARRETO',\n",
       " 'ADEMIR CAMILO',\n",
       " 'ADILTON SACHETTI',\n",
       " 'ADRIAN',\n",
       " 'AELTON FREITAS',\n",
       " 'AFONSO FLORENCE',\n",
       " 'AFONSO HAMM',\n",
       " 'AFONSO MOTTA',\n",
       " 'AGUINALDO RIBEIRO',\n",
       " 'AKIRA OTSUBO',\n",
       " 'ALAN RICK',\n",
       " 'ALBERTO FILHO',\n",
       " 'ALBERTO FRAGA',\n",
       " 'ALCEU MOREIRA',\n",
       " 'ALESSANDRO MOLON',\n",
       " 'ALEX CANZIANI',\n",
       " 'ALEX MANENTE',\n",
       " 'ALEXANDRE BALDY',\n",
       " 'ALEXANDRE LEITE',\n",
       " 'ALEXANDRE ROSO',\n",
       " 'ALEXANDRE SANTOS',\n",
       " 'ALEXANDRE SERFIOTIS',\n",
       " 'ALEXANDRE SILVEIRA',\n",
       " 'ALEXANDRE TOLEDO',\n",
       " 'ALEXANDRE VALLE',\n",
       " 'ALFREDO KAEFER',\n",
       " 'ALFREDO NASCIMENTO',\n",
       " 'ALFREDO SIRKIS',\n",
       " 'ALICE PORTUGAL',\n",
       " 'ALIEL MACHADO',\n",
       " 'ALINE CORRÊA',\n",
       " 'ALMEIDA LIMA',\n",
       " 'ALTINEU CÔRTES',\n",
       " 'ALUISIO MENDES',\n",
       " 'AMAURI TEIXEIRA',\n",
       " 'AMIR LANDO',\n",
       " 'ANA PERUGINI',\n",
       " 'ANDERSON FERREIRA',\n",
       " 'ANDRE MOURA',\n",
       " 'ANDREIA ZITO',\n",
       " 'ANDRES SANCHEZ',\n",
       " 'ANDRÉ ABDON',\n",
       " 'ANDRÉ DE PAULA',\n",
       " 'ANDRÉ FIGUEIREDO',\n",
       " 'ANDRÉ FUFUCA',\n",
       " 'ANDRÉ ZACHAROW',\n",
       " 'ANGELA ALBINO',\n",
       " 'ANGELIM',\n",
       " 'ANGELO VANHONI',\n",
       " 'ANSELMO DE JESUS',\n",
       " 'ANTHONY GAROTINHO',\n",
       " 'ANTONIO BALHMANN',\n",
       " 'ANTONIO BRITO',\n",
       " 'ANTONIO BULHÕES',\n",
       " 'ANTONIO CARLOS MENDES THAME',\n",
       " 'ANTONIO IMBASSAHY',\n",
       " 'ANTÔNIA LÚCIA',\n",
       " 'ANTÔNIO ANDRADE',\n",
       " 'ANTÔNIO JÁCOME',\n",
       " 'ANÍBAL GOMES',\n",
       " 'ARIOSTO HOLANDA',\n",
       " 'ARLINDO CHINAGLIA',\n",
       " 'ARMANDO VERGÍLIO',\n",
       " 'ARNALDO FARIA DE SÁ',\n",
       " 'ARNALDO JARDIM',\n",
       " 'ARNALDO JORDY',\n",
       " 'ARNON BEZERRA',\n",
       " 'AROLDE DE OLIVEIRA',\n",
       " 'ARTHUR LIRA',\n",
       " 'ARTHUR OLIVEIRA MAIA',\n",
       " 'ARTHUR VIRGÍLIO BISNETO',\n",
       " 'ARTUR BRUNO',\n",
       " 'ASSIS CARVALHO',\n",
       " 'ASSIS DO COUTO',\n",
       " 'ASSIS MELO',\n",
       " 'AUGUSTO CARVALHO',\n",
       " 'AUGUSTO COUTINHO ',\n",
       " 'AUREO',\n",
       " 'BACELAR',\n",
       " 'BALEIA ROSSI',\n",
       " 'BEBETO',\n",
       " 'BENEDITA DA SILVA',\n",
       " 'BENITO GAMA',\n",
       " 'BENJAMIN MARANHÃO',\n",
       " 'BERINHO BANTIM',\n",
       " 'BERNARDO SANTANA DE VASCONCELLOS',\n",
       " 'BETINHO GOMES',\n",
       " 'BETINHO ROSADO',\n",
       " 'BETO ALBUQUERQUE',\n",
       " 'BETO FARO',\n",
       " 'BETO MANSUR',\n",
       " 'BETO ROSADO',\n",
       " 'BETO SALAME',\n",
       " 'BIFFI',\n",
       " 'BILAC PINTO',\n",
       " 'BOHN GASS',\n",
       " 'BONIFÁCIO DE ANDRADA',\n",
       " 'BRUNA FURLAN',\n",
       " 'BRUNNY',\n",
       " 'BRUNO ARAÚJO',\n",
       " 'BRUNO COVAS',\n",
       " 'BRUNO RODRIGUES',\n",
       " 'CABO DACIOLO',\n",
       " 'CABO SABINO',\n",
       " 'CABUÇU BORGES',\n",
       " 'CACÁ LEÃO',\n",
       " 'CAETANO',\n",
       " 'CAIO NARCIO',\n",
       " 'CAMILO COLA',\n",
       " 'CAPITÃO AUGUSTO',\n",
       " 'CAPITÃO FÁBIO ABREU',\n",
       " 'CARLOS ALBERTO LERÉIA',\n",
       " 'CARLOS ANDRADE',\n",
       " 'CARLOS BEZERRA',\n",
       " 'CARLOS EDUARDO CADOCA',\n",
       " 'CARLOS GOMES',\n",
       " 'CARLOS HENRIQUE GAGUIM',\n",
       " 'CARLOS MAGNO',\n",
       " 'CARLOS MANATO',\n",
       " 'CARLOS MARTINS',\n",
       " 'CARLOS MARUN',\n",
       " 'CARLOS MELLES',\n",
       " 'CARLOS SAMPAIO',\n",
       " 'CARLOS ZARATTINI',\n",
       " 'CARMEN ZANOTTO',\n",
       " 'CELSO JACOB',\n",
       " 'CELSO MALDANER',\n",
       " 'CELSO PANSERA',\n",
       " 'CELSO RUSSOMANNO',\n",
       " 'CESAR SOUZA',\n",
       " 'CEZAR SILVESTRI',\n",
       " 'CHICO ALENCAR',\n",
       " \"CHICO D'ANGELO\",\n",
       " 'CHICO DAS VERDURAS',\n",
       " 'CHICO LOPES',\n",
       " 'CHRISTIANE DE SOUZA YARED',\n",
       " 'CLARISSA GAROTINHO',\n",
       " 'CLAUDIO CAJADO',\n",
       " 'CLEBER VERDE',\n",
       " 'CLÁUDIO PUTY',\n",
       " 'CONCEIÇÃO SAMPAIO',\n",
       " 'COVATTI FILHO',\n",
       " 'CRISTIANE BRASIL',\n",
       " 'CÂNDIDO VACCAREZZA',\n",
       " 'CÉLIO SILVEIRA',\n",
       " 'CÉSAR HALUM',\n",
       " 'CÉSAR MESSIAS',\n",
       " 'CÍCERO ALMEIDA',\n",
       " 'DAGOBERTO',\n",
       " 'DALVA FIGUEIREDO',\n",
       " 'DAMIÃO FELICIANO',\n",
       " 'DANIEL ALMEIDA',\n",
       " 'DANIEL COELHO',\n",
       " 'DANIEL VILELA',\n",
       " 'DANILO CABRAL',\n",
       " 'DANILO FORTE',\n",
       " 'DANRLEI DE DEUS HINTERHOLZ',\n",
       " 'DARCÍSIO PERONDI',\n",
       " 'DAVI ALCOLUMBRE',\n",
       " 'DAVI ALVES SILVA JÚNIOR',\n",
       " 'DAVIDSON MAGALHÃES',\n",
       " 'DELEGADO EDSON MOREIRA',\n",
       " 'DELEGADO PROTÓGENES',\n",
       " 'DELEGADO WALDIR',\n",
       " 'DELEGADO ÉDER MAURO',\n",
       " 'DELEY',\n",
       " 'DENILSON TEIXEIRA',\n",
       " 'DEOCLIDES MACEDO',\n",
       " 'DEVANIR RIBEIRO',\n",
       " 'DIEGO ANDRADE',\n",
       " 'DIEGO GARCIA',\n",
       " 'DILCEU SPERAFICO',\n",
       " 'DIMAS FABIANO',\n",
       " 'DOMINGOS DUTRA',\n",
       " 'DOMINGOS NETO',\n",
       " 'DOMINGOS SÁVIO',\n",
       " 'DR. ADILSON SOARES',\n",
       " 'DR. CARLOS ALBERTO',\n",
       " 'DR. GRILO',\n",
       " 'DR. JORGE SILVA',\n",
       " 'DR. JOÃO',\n",
       " 'DR. LUIZ FERNANDO',\n",
       " 'DR. PAULO CÉSAR',\n",
       " 'DR. ROSINHA',\n",
       " 'DR. SINVAL MALHEIROS',\n",
       " 'DR. UBIALI',\n",
       " 'DRA. ELAINE ABISSAMRA',\n",
       " 'DUARTE NOGUEIRA',\n",
       " 'DUDIMAR PAXIUBA',\n",
       " 'DULCE MIRANDA',\n",
       " 'DÂMINA PEREIRA',\n",
       " 'DÉCIO LIMA',\n",
       " 'EDINHO ARAÚJO',\n",
       " 'EDINHO BEZ',\n",
       " 'EDIO LOPES',\n",
       " 'EDMAR ARRUDA',\n",
       " 'EDMILSON RODRIGUES',\n",
       " 'EDSON EZEQUIEL',\n",
       " 'EDSON PIMENTA',\n",
       " 'EDSON SANTOS',\n",
       " 'EDSON SILVA',\n",
       " 'EDUARDO BARBOSA',\n",
       " 'EDUARDO BOLSONARO',\n",
       " 'EDUARDO CUNHA',\n",
       " 'EDUARDO CURY',\n",
       " 'EDUARDO DA FONTE',\n",
       " 'EDUARDO GOMES',\n",
       " 'EDUARDO SCIARRA',\n",
       " 'EFRAIM FILHO',\n",
       " 'ELCIONE BARBALHO',\n",
       " 'ELEUSES PAIVA',\n",
       " 'ELI CORRÊA FILHO',\n",
       " 'ELIENE LIMA',\n",
       " 'ELISEU PADILHA',\n",
       " 'ELIZEU DIONIZIO',\n",
       " 'ELIZIANE GAMA',\n",
       " 'ELMAR NASCIMENTO',\n",
       " 'EMANUEL FERNANDES',\n",
       " 'EMILIANO JOSÉ',\n",
       " 'ENIO BACCI',\n",
       " 'ENIO VERRI',\n",
       " 'ERIKA KOKAY',\n",
       " 'ERIVELTON SANTANA',\n",
       " 'EROS BIONDINI',\n",
       " 'ESPERIDIÃO AMIN',\n",
       " 'EUDES XAVIER',\n",
       " 'EURICO JÚNIOR',\n",
       " 'EVAIR VIEIRA DE MELO',\n",
       " 'EVANDRO GUSSI',\n",
       " 'EVANDRO MILHOMEN',\n",
       " 'EVANDRO ROMAN',\n",
       " 'EXPEDITO NETTO',\n",
       " 'EZEQUIEL FONSECA',\n",
       " 'EZEQUIEL TEIXEIRA',\n",
       " 'FABIANO HORTA',\n",
       " 'FABIO GARCIA',\n",
       " 'FABIO REIS',\n",
       " 'FABRICIO OLIVEIRA',\n",
       " 'FAUSTO PINATO',\n",
       " 'FELIPE BORNIER',\n",
       " 'FELIPE MAIA',\n",
       " 'FERNANDO COELHO FILHO',\n",
       " 'FERNANDO FERRO',\n",
       " 'FERNANDO FRANCISCHINI',\n",
       " 'FERNANDO JORDÃO',\n",
       " 'FERNANDO MARRONI',\n",
       " 'FERNANDO MONTEIRO',\n",
       " 'FERNANDO TORRES',\n",
       " 'FERNANDO ZACHIA',\n",
       " 'FILIPE PEREIRA',\n",
       " 'FLAVIANO MELO',\n",
       " 'FLAVINHO',\n",
       " 'FLAVIO NOGUEIRA',\n",
       " 'FLORIANO PESARO',\n",
       " 'FLÁVIA MORAIS',\n",
       " 'FRANCISCO CHAGAS',\n",
       " 'FRANCISCO CHAPADINHA',\n",
       " 'FRANCISCO FLORIANO',\n",
       " 'FRANCISCO PRACIANO',\n",
       " 'FRANCISCO TENÓRIO',\n",
       " 'FRANKLIN LIMA',\n",
       " 'FÁBIO FARIA',\n",
       " 'FÁBIO MITIDIERI',\n",
       " 'FÁBIO RAMALHO',\n",
       " 'FÁBIO SOUSA',\n",
       " 'FÁBIO SOUTO',\n",
       " 'FÁBIO TRAD',\n",
       " 'FÁTIMA BEZERRA',\n",
       " 'FÁTIMA PELAES',\n",
       " 'FÉLIX MENDONÇA JÚNIOR',\n",
       " 'GABRIEL CHALITA',\n",
       " 'GABRIEL GUIMARÃES',\n",
       " 'GASTÃO VIEIRA',\n",
       " 'GENECIAS NORONHA',\n",
       " 'GEORGE HILTON',\n",
       " 'GEOVANIA DE SÁ',\n",
       " 'GERALDO RESENDE',\n",
       " 'GERALDO SIMÕES',\n",
       " 'GERALDO THADEU',\n",
       " 'GIACOBO',\n",
       " 'GILBERTO COUTINHO',\n",
       " 'GILBERTO NASCIMENTO',\n",
       " 'GIOVANI CHERINI',\n",
       " 'GIOVANI FELTES',\n",
       " 'GIOVANNI QUEIROZ',\n",
       " 'GIROTO',\n",
       " 'GIUSEPPE VECCI',\n",
       " 'GIVALDO CARIMBÃO',\n",
       " 'GIVALDO VIEIRA',\n",
       " 'GLADSON CAMELI',\n",
       " 'GLAUBER BRAGA',\n",
       " 'GONZAGA PATRIOTA',\n",
       " 'GORETE PEREIRA',\n",
       " 'GOULART',\n",
       " 'GUILHERME CAMPOS',\n",
       " 'GUILHERME MUSSI',\n",
       " 'GUSTAVO PETTA',\n",
       " 'HEITOR SCHUCH',\n",
       " 'HELCIO SILVA',\n",
       " 'HELDER SALOMÃO',\n",
       " 'HENRIQUE AFONSO',\n",
       " 'HENRIQUE EDUARDO ALVES',\n",
       " 'HENRIQUE FONTANA',\n",
       " 'HENRIQUE OLIVEIRA',\n",
       " 'HERCULANO PASSOS',\n",
       " 'HERMES PARCIANELLO',\n",
       " 'HERÁCLITO FORTES',\n",
       " 'HEULER CRUVINEL',\n",
       " 'HILDO ROCHA',\n",
       " 'HIRAN GONÇALVES',\n",
       " 'HISSA ABRAHÃO',\n",
       " 'HUGO LEAL',\n",
       " 'HUGO MOTTA',\n",
       " 'HUGO NAPOLEÃO',\n",
       " 'HUMBERTO MICHILES',\n",
       " 'HÉLIO LEITE',\n",
       " 'HÉLIO SANTOS',\n",
       " 'IARA BERNARDI',\n",
       " 'INDIO DA COSTA',\n",
       " 'INOCÊNCIO OLIVEIRA',\n",
       " 'IRACEMA PORTELLA',\n",
       " 'IRAJÁ ABREU',\n",
       " 'IRINY LOPES',\n",
       " 'IRMÃO LAZARO',\n",
       " 'IVAN VALENTE',\n",
       " 'IZALCI',\n",
       " 'JAIME MARTINS',\n",
       " 'JAIR BOLSONARO',\n",
       " 'JAIRO ATAÍDE',\n",
       " 'JANDIRA FEGHALI',\n",
       " 'JANETE CAPIBERIBE',\n",
       " 'JANETE ROCHA PIETÁ',\n",
       " 'JAQUELINE RORIZ',\n",
       " 'JARBAS VASCONCELOS',\n",
       " 'JEAN WYLLYS',\n",
       " 'JEFFERSON CAMPOS',\n",
       " 'JERÔNIMO GOERGEN',\n",
       " 'JESUS RODRIGUES',\n",
       " 'JHC',\n",
       " 'JHONATAN DE JESUS',\n",
       " 'JOAQUIM PASSARINHO',\n",
       " 'JONY MARCOS',\n",
       " 'JORGE BITTAR',\n",
       " 'JORGE BOEIRA',\n",
       " 'JORGE CÔRTE REAL',\n",
       " 'JORGE SOLLA',\n",
       " 'JORGE TADEU MUDALEN',\n",
       " 'JORGINHO MELLO',\n",
       " 'JOSE STÉDILE',\n",
       " 'JOSEPH BANDEIRA',\n",
       " 'JOSI NUNES',\n",
       " 'JOSIAS GOMES',\n",
       " 'JOSUÉ BENGTSON',\n",
       " 'JOSÉ AIRTON CIRILO',\n",
       " 'JOSÉ ANÍBAL',\n",
       " 'JOSÉ AUGUSTO MAIA',\n",
       " 'JOSÉ CARLOS ALELUIA',\n",
       " 'JOSÉ CARLOS ARAÚJO',\n",
       " 'JOSÉ CHAVES',\n",
       " 'JOSÉ FOGAÇA ',\n",
       " 'JOSÉ GUIMARÃES',\n",
       " 'JOSÉ HUMBERTO',\n",
       " 'JOSÉ LINHARES',\n",
       " 'JOSÉ MENTOR',\n",
       " 'JOSÉ NUNES',\n",
       " 'JOSÉ OTÁVIO GERMANO',\n",
       " 'JOSÉ PRIANTE',\n",
       " 'JOSÉ REINALDO',\n",
       " 'JOSÉ ROCHA',\n",
       " 'JOVAIR ARANTES',\n",
       " 'JOZI ARAÚJO',\n",
       " 'JOÃO ANANIAS',\n",
       " 'JOÃO ARRUDA',\n",
       " 'JOÃO BITTAR',\n",
       " 'JOÃO CALDAS',\n",
       " 'JOÃO CAMPOS',\n",
       " 'JOÃO CARLOS BACELAR',\n",
       " 'JOÃO CASTELO',\n",
       " 'JOÃO DADO',\n",
       " 'JOÃO DANIEL',\n",
       " 'JOÃO DERLY',\n",
       " 'JOÃO FERNANDO COUTINHO',\n",
       " 'JOÃO GUALBERTO',\n",
       " 'JOÃO LYRA',\n",
       " 'JOÃO MAGALHÃES',\n",
       " 'JOÃO MAIA',\n",
       " 'JOÃO MARCELO SOUZA',\n",
       " 'JOÃO PAULO KLEINÜBING',\n",
       " 'JOÃO PAULO LIMA',\n",
       " 'JOÃO PAULO PAPA',\n",
       " 'JOÃO PIZZOLATTI',\n",
       " 'JOÃO RODRIGUES',\n",
       " 'JULIO LOPES',\n",
       " 'JULIÃO AMIN',\n",
       " 'JUNIOR MARRECA',\n",
       " 'JUNJI ABE',\n",
       " 'JUSCELINO FILHO',\n",
       " 'JUTAHY JUNIOR',\n",
       " 'JÂNIO NATAL',\n",
       " 'JÉSSICA SALES',\n",
       " 'JÔ MORAES',\n",
       " 'JÚLIA MARINHO',\n",
       " 'JÚLIO CAMPOS',\n",
       " 'JÚLIO CESAR',\n",
       " 'JÚLIO DELGADO',\n",
       " 'JÚNIOR COIMBRA',\n",
       " 'KAIO MANIÇOBA',\n",
       " 'KEIKO OTA',\n",
       " 'LAEL VARELLA',\n",
       " 'LAERCIO OLIVEIRA',\n",
       " 'LAERTE BESSA',\n",
       " 'LAUDIVIO CARVALHO',\n",
       " 'LAURA CARNEIRO',\n",
       " 'LAURIETE',\n",
       " 'LEANDRE',\n",
       " 'LEANDRO VILELA',\n",
       " 'LELO COIMBRA',\n",
       " 'LEO DE BRITO',\n",
       " 'LEONARDO MONTEIRO',\n",
       " 'LEONARDO PICCIANI',\n",
       " 'LEONARDO QUINTÃO',\n",
       " 'LEOPOLDO MEYER',\n",
       " 'LEÔNIDAS CRISTINO',\n",
       " 'LIDERANÇA DO PSDB',\n",
       " 'LIDERANÇA DO PT',\n",
       " 'LILIAM SÁ',\n",
       " 'LINCOLN PORTELA',\n",
       " 'LINDOMAR GARÇON',\n",
       " 'LIRA MAIA',\n",
       " 'LOBBE NETO',\n",
       " 'LOURIVAL MENDES',\n",
       " 'LUCAS VERGILIO',\n",
       " 'LUCI CHOINACKI',\n",
       " 'LUCIANA SANTOS',\n",
       " 'LUCIANO CASTRO',\n",
       " 'LUCIANO DUCCI',\n",
       " 'LUCIANO PIZZATTO',\n",
       " 'LUCIO MOSQUINI',\n",
       " 'LUCIO VIEIRA LIMA',\n",
       " 'LUIS CARLOS HEINZE',\n",
       " 'LUIS TIBÉ',\n",
       " 'LUIZ ALBERTO',\n",
       " 'LUIZ ARGÔLO',\n",
       " 'LUIZ CARLOS',\n",
       " 'LUIZ CARLOS BUSATO',\n",
       " 'LUIZ CARLOS HAULY',\n",
       " 'LUIZ CARLOS RAMOS ',\n",
       " 'LUIZ CLÁUDIO',\n",
       " 'LUIZ COUTO',\n",
       " 'LUIZ DE DEUS',\n",
       " 'LUIZ FERNANDO FARIA',\n",
       " 'LUIZ FERNANDO MACHADO',\n",
       " 'LUIZ LAURO FILHO',\n",
       " 'LUIZ NISHIMORI',\n",
       " 'LUIZ OTAVIO',\n",
       " 'LUIZ PITIMAN',\n",
       " 'LUIZ SÉRGIO',\n",
       " 'LUIZA ERUNDINA',\n",
       " 'LUIZIANNE LINS',\n",
       " 'LÁZARO BOTELHO',\n",
       " 'LÉO OLIVEIRA',\n",
       " 'LÚCIO VALE',\n",
       " 'MACEDO',\n",
       " 'MAGDA MOFATTO',\n",
       " 'MAGELA',\n",
       " 'MAIA FILHO',\n",
       " 'MAJOR FÁBIO',\n",
       " 'MAJOR OLIMPIO',\n",
       " 'MANDETTA',\n",
       " 'MANOEL ANTUNES',\n",
       " 'MANOEL JUNIOR',\n",
       " 'MANOEL SALVIANO',\n",
       " 'MANUEL ROSA NECA',\n",
       " \"MANUELA D'ÁVILA\",\n",
       " 'MARA GABRILLI',\n",
       " 'MARCELINHO CARIOCA',\n",
       " 'MARCELO AGUIAR',\n",
       " 'MARCELO ALMEIDA',\n",
       " 'MARCELO ARO',\n",
       " 'MARCELO BELINATI',\n",
       " 'MARCELO CASTRO',\n",
       " 'MARCELO MATOS',\n",
       " 'MARCELO SQUASSONI',\n",
       " 'MARCELO ÁLVARO ANTÔNIO',\n",
       " 'MARCIO ALVINO',\n",
       " 'MARCIO BITTAR',\n",
       " 'MARCIO JUNQUEIRA',\n",
       " 'MARCIO MONTEIRO',\n",
       " 'MARCO ANTÔNIO CABRAL',\n",
       " 'MARCO MAIA',\n",
       " 'MARCO TEBALDI',\n",
       " 'MARCON',\n",
       " 'MARCONDES GADELHA',\n",
       " 'MARCOS ABRÃO',\n",
       " 'MARCOS LIMA',\n",
       " 'MARCOS MEDRADO',\n",
       " 'MARCOS MONTES',\n",
       " 'MARCOS REATEGUI',\n",
       " 'MARCOS ROGÉRIO',\n",
       " 'MARCOS ROTTA',\n",
       " 'MARCOS SOARES',\n",
       " 'MARCUS PESTANA',\n",
       " 'MARCUS VICENTE',\n",
       " 'MARGARIDA SALOMÃO',\n",
       " 'MARIA DO ROSÁRIO',\n",
       " 'MARIA HELENA',\n",
       " 'MARIA LUCIA PRANDI ',\n",
       " 'MARIANA CARVALHO',\n",
       " 'MARINALDO ROSENDO',\n",
       " 'MARINHA RAUPP',\n",
       " 'MARLLOS SAMPAIO',\n",
       " 'MARQUINHO MENDES',\n",
       " 'MARX BELTRÃO',\n",
       " 'MARÇAL FILHO',\n",
       " 'MASSAMI MIKI',\n",
       " 'MAURO BENEVIDES',\n",
       " 'MAURO LOPES',\n",
       " 'MAURO MARIANI',\n",
       " 'MAURO PEREIRA',\n",
       " 'MAURÍCIO ALMEIDA ',\n",
       " 'MAURÍCIO QUINTELLA LESSA',\n",
       " 'MAURÍCIO TRINDADE',\n",
       " 'MAX FILHO',\n",
       " 'MENDONÇA FILHO',\n",
       " 'MENDONÇA PRADO',\n",
       " 'MERLONG SOLANO',\n",
       " 'MIGUEL CORRÊA',\n",
       " 'MIGUEL HADDAD',\n",
       " 'MIGUEL LOMBARDI',\n",
       " 'MILTON MONTI',\n",
       " 'MIRIQUINHO BATISTA',\n",
       " 'MIRO TEIXEIRA',\n",
       " 'MISAEL VARELLA',\n",
       " 'MISSIONÁRIO JOSÉ OLIMPIO',\n",
       " 'MOEMA GRAMACHO',\n",
       " 'MOREIRA MENDES',\n",
       " 'MORONI TORGAN',\n",
       " 'MOSES RODRIGUES',\n",
       " 'MÁRCIO BIOLCHI',\n",
       " 'MÁRCIO FRANÇA',\n",
       " 'MÁRCIO MACÊDO',\n",
       " 'MÁRCIO MARINHO',\n",
       " 'MÁRIO FEITOZA',\n",
       " 'MÁRIO HERINGER',\n",
       " 'MÁRIO NEGROMONTE JR.',\n",
       " 'NARCIO RODRIGUES',\n",
       " 'NELSON MARCHEZAN JUNIOR',\n",
       " 'NELSON MARQUEZELLI',\n",
       " 'NELSON MEURER',\n",
       " 'NELSON NAHIM ',\n",
       " 'NELSON PADOVANI',\n",
       " 'NELSON PELLEGRINO',\n",
       " 'NEWTON CARDOSO',\n",
       " 'NEWTON CARDOSO JR',\n",
       " 'NEWTON LIMA',\n",
       " 'NICE LOBÃO',\n",
       " 'NILDA GONDIM',\n",
       " 'NILMÁRIO MIRANDA',\n",
       " 'NILSON LEITÃO',\n",
       " 'NILSON PINTO',\n",
       " 'NILTO TATTO',\n",
       " 'NILTON CAPIXABA',\n",
       " 'ODAIR CUNHA',\n",
       " 'ODELMO LEÃO',\n",
       " 'ODORICO MONTEIRO',\n",
       " 'ODÍLIO BALBINOTTI',\n",
       " 'OLIVEIRA FILHO',\n",
       " 'ONOFRE SANTO AGOSTINI',\n",
       " 'ONYX LORENZONI',\n",
       " 'ORLANDO SILVA',\n",
       " 'OSMAR BERTOLDI',\n",
       " 'OSMAR JÚNIOR',\n",
       " 'OSMAR SERRAGLIO',\n",
       " 'OSMAR TERRA',\n",
       " 'OSVALDO COELHO',\n",
       " 'OSVALDO REIS',\n",
       " 'OTAVIO LEITE',\n",
       " 'OTONIEL LIMA',\n",
       " 'OZIEL OLIVEIRA',\n",
       " 'PADRE JOÃO',\n",
       " 'PADRE TON',\n",
       " 'PAES LANDIM',\n",
       " 'PASTOR EURICO',\n",
       " 'PAUDERNEY AVELINO',\n",
       " 'PAULO ABI-ACKEL',\n",
       " 'PAULO AZI',\n",
       " 'PAULO BORNHAUSEN',\n",
       " 'PAULO FEIJÓ',\n",
       " 'PAULO FOLETTO',\n",
       " 'PAULO FREIRE',\n",
       " 'PAULO HENRIQUE LUSTOSA',\n",
       " 'PAULO MAGALHÃES',\n",
       " 'PAULO MALUF',\n",
       " 'PAULO PEREIRA DA SILVA',\n",
       " 'PAULO PIMENTA',\n",
       " 'PAULO RUBEM SANTIAGO',\n",
       " 'PAULO TEIXEIRA',\n",
       " 'PAULÃO',\n",
       " 'PDT',\n",
       " 'PEDRO CHAVES',\n",
       " 'PEDRO CUNHA LIMA',\n",
       " 'PEDRO EUGÊNIO',\n",
       " 'PEDRO FERNANDES',\n",
       " 'PEDRO NOVAIS',\n",
       " 'PEDRO PAULO',\n",
       " 'PEDRO UCZAI',\n",
       " 'PEDRO VILELA',\n",
       " 'PENNA',\n",
       " 'PEPE VARGAS',\n",
       " 'PERPÉTUA ALMEIDA',\n",
       " 'PINTO DE LUNA',\n",
       " 'PINTO ITAMARATY',\n",
       " 'POLICARPO',\n",
       " 'POMPEO DE MATTOS',\n",
       " 'PR. MARCO FELICIANO',\n",
       " 'PROFESSOR SETIMO',\n",
       " 'PROFESSOR SÉRGIO DE OLIVEIRA',\n",
       " 'PROFESSOR VICTÓRIO GALLI',\n",
       " 'PROFESSORA DORINHA SEABRA REZENDE',\n",
       " 'PROFESSORA MARCIVANIA',\n",
       " 'PROS',\n",
       " 'RAFAEL MOTTA',\n",
       " 'RAIMUNDO GOMES DE MATOS',\n",
       " 'RAQUEL MUNIZ',\n",
       " 'RATINHO JUNIOR',\n",
       " 'RAUL JUNGMANN',\n",
       " 'RAUL LIMA',\n",
       " 'REBECCA GARCIA',\n",
       " 'REGINALDO LOPES',\n",
       " 'REGUFFE',\n",
       " 'REINHOLD STEPHANES',\n",
       " 'REJANE DIAS',\n",
       " 'REMÍDIO MONAI',\n",
       " 'RENAN FILHO',\n",
       " 'RENATA ABREU',\n",
       " 'RENATO MOLLING',\n",
       " 'RENATO SIMÕES',\n",
       " 'RENZO BRAZ',\n",
       " 'RICARDO BARROS',\n",
       " 'RICARDO IZAR',\n",
       " 'RICARDO TEOBALDO ',\n",
       " 'RICARDO TRIPOLI',\n",
       " 'ROBERTO ALVES',\n",
       " 'ROBERTO BALESTRA',\n",
       " 'ROBERTO BRITTO',\n",
       " 'ROBERTO DE LUCENA',\n",
       " 'ROBERTO DORNER',\n",
       " 'ROBERTO FREIRE',\n",
       " 'ROBERTO GÓES',\n",
       " 'ROBERTO SALES',\n",
       " 'ROBERTO SANTIAGO',\n",
       " 'ROBERTO TEIXEIRA',\n",
       " 'ROCHA',\n",
       " 'RODRIGO BETHLEM',\n",
       " 'RODRIGO DE CASTRO',\n",
       " 'RODRIGO GARCIA',\n",
       " 'RODRIGO MAIA',\n",
       " 'RODRIGO MARTINS',\n",
       " 'RODRIGO PACHECO',\n",
       " 'ROGÉRIO CARVALHO',\n",
       " 'ROGÉRIO MARINHO',\n",
       " 'ROGÉRIO PENINHA MENDONÇA',\n",
       " 'ROGÉRIO ROSSO',\n",
       " 'ROMÁRIO',\n",
       " 'RONALDO BENEDET',\n",
       " 'RONALDO CAIADO',\n",
       " 'RONALDO CARLETTO',\n",
       " 'RONALDO FONSECA',\n",
       " 'RONALDO LESSA',\n",
       " 'RONALDO MARTINS',\n",
       " 'RONALDO NOGUEIRA',\n",
       " 'RONALDO ZULKE',\n",
       " 'ROSANE FERREIRA',\n",
       " 'ROSANGELA GOMES',\n",
       " 'ROSE DE FREITAS',\n",
       " 'ROSSONI',\n",
       " 'ROSY DE SOUSA',\n",
       " 'ROSÂNGELA CURADO',\n",
       " 'RUBENS BUENO',\n",
       " 'RUBENS OTONI',\n",
       " 'RUBENS PEREIRA JÚNIOR',\n",
       " 'RUI COSTA',\n",
       " 'RUY CARNEIRO',\n",
       " 'RÔMULO GOUVEIA',\n",
       " 'RÔNEY NEMER',\n",
       " 'SABINO CASTELO BRANCO',\n",
       " 'SALVADOR ZIMBALDI',\n",
       " 'SAMUEL MOREIRA',\n",
       " 'SANDES JÚNIOR',\n",
       " 'SANDRA ROSADO',\n",
       " 'SANDRO ALEX',\n",
       " 'SANDRO MABEL',\n",
       " 'SARAIVA FELIPE',\n",
       " 'SARNEY FILHO',\n",
       " 'SDD',\n",
       " 'SEBASTIÃO BALA ROCHA',\n",
       " 'SEBASTIÃO OLIVEIRA',\n",
       " 'SERGIO SOUZA ',\n",
       " 'SERGIO VIDIGAL',\n",
       " 'SERGIO ZVEITER',\n",
       " 'SEVERINO NINHO',\n",
       " 'SHÉRIDAN',\n",
       " 'SIBÁ MACHADO',\n",
       " 'SILAS BRASILEIRO',\n",
       " 'SILAS CÂMARA',\n",
       " 'SILAS FREIRE',\n",
       " 'SILVIO COSTA',\n",
       " 'SILVIO TORRES',\n",
       " 'SIMONE MORGADO',\n",
       " 'SIMPLÍCIO ARAÚJO',\n",
       " 'SIMÃO SESSIM',\n",
       " 'SORAYA SANTOS',\n",
       " 'STEFANO AGUIAR',\n",
       " 'STEPAN NERCESSIAN',\n",
       " 'SUBTENENTE GONZAGA',\n",
       " 'SUELI VIDIGAL',\n",
       " 'SÁGUAS MORAES',\n",
       " 'SÉRGIO BARRADAS CARNEIRO',\n",
       " 'SÉRGIO BRITO',\n",
       " 'SÉRGIO MORAES',\n",
       " 'SÉRGIO REIS',\n",
       " 'SÓSTENES CAVALCANTE',\n",
       " 'TADEU ALENCAR',\n",
       " 'TAKAYAMA',\n",
       " 'TAUMATURGO LIMA',\n",
       " 'TELMA PINHEIRO',\n",
       " 'TENENTE LÚCIO',\n",
       " 'TEREZA CRISTINA',\n",
       " 'THIAGO PEIXOTO',\n",
       " 'TIA ERON',\n",
       " 'TIRIRICA',\n",
       " 'TONINHO PINHEIRO',\n",
       " 'TONINHO WANDSCHEER',\n",
       " 'ULDURICO JUNIOR',\n",
       " 'URZENI ROCHA',\n",
       " 'VALADARES FILHO',\n",
       " 'VALDIR COLATTO',\n",
       " 'VALMIR ASSUNÇÃO',\n",
       " 'VALMIR PRASCIDELLI',\n",
       " 'VALTENIR PEREIRA',\n",
       " 'VANDER LOUBET',\n",
       " 'VANDERLEI MACRIS',\n",
       " 'VANDERLEI SIRAQUE',\n",
       " 'VAZ DE LIMA',\n",
       " 'VENEZIANO VITAL DO RÊGO',\n",
       " 'VICENTE ARRUDA',\n",
       " 'VICENTE CANDIDO',\n",
       " 'VICENTINHO',\n",
       " 'VICENTINHO JÚNIOR',\n",
       " 'VICTOR MENDES',\n",
       " 'VIEIRA DA CUNHA',\n",
       " 'VILALBA',\n",
       " 'VILMAR ROCHA',\n",
       " 'VILSON COVATTI',\n",
       " 'VINICIUS CARVALHO',\n",
       " 'VINICIUS GURGEL',\n",
       " 'VITOR LIPPI',\n",
       " 'VITOR PAULO',\n",
       " 'VITOR PENIDO',\n",
       " 'VITOR VALIM',\n",
       " 'WADIH DAMOUS',\n",
       " 'WADSON RIBEIRO',\n",
       " 'WALDENOR PEREIRA',\n",
       " 'WALDIR MARANHÃO',\n",
       " 'WALNEY ROCHA',\n",
       " 'WALTER ALVES',\n",
       " 'WALTER IHOSHI',\n",
       " 'WALTER TOSTA',\n",
       " 'WANDENKOLK GONÇALVES',\n",
       " 'WASHINGTON REIS',\n",
       " 'WELITON PRADO',\n",
       " 'WELLINGTON FAGUNDES',\n",
       " 'WELLINGTON ROBERTO',\n",
       " 'WELLINGTON SALGADO',\n",
       " 'WEVERTON ROCHA',\n",
       " 'WILLIAM DIB',\n",
       " 'WILLIAM WOO',\n",
       " 'WILSON BESERRA',\n",
       " 'WILSON FILHO',\n",
       " 'WLADIMIR COSTA',\n",
       " 'WOLNEY QUEIROZ',\n",
       " 'ZE CARLOS DA PESCA',\n",
       " 'ZECA CAVALCANTI',\n",
       " 'ZECA DIRCEU',\n",
       " 'ZECA DO PT',\n",
       " 'ZENAIDE MAIA',\n",
       " 'ZOINHO',\n",
       " 'ZÉ AUGUSTO NALIN',\n",
       " 'ZÉ CARLOS',\n",
       " 'ZÉ GERALDO',\n",
       " 'ZÉ SILVA',\n",
       " 'ZÉ VIEIRA',\n",
       " 'ÁTILA LINS',\n",
       " 'ÁTILA LIRA',\n",
       " 'ÂNGELO AGNOLIN',\n",
       " 'ÍRIS DE ARAÚJO']"
      ]
     },
     "execution_count": 40,
     "metadata": {},
     "output_type": "execute_result"
    }
   ],
   "source": [
    "list(congressperson_list['congressperson_name'].cat.categories)"
   ]
  },
  {
   "cell_type": "markdown",
   "metadata": {},
   "source": [
    "A few `congressperson_name`s I can't properly explain yet:"
   ]
  },
  {
   "cell_type": "code",
   "execution_count": 41,
   "metadata": {
    "collapsed": false
   },
   "outputs": [
    {
     "name": "stdout",
     "output_type": "stream",
     "text": [
      "http://www.camara.gov.br/cota-parlamentar/documentos/publ/2864/2015/5700427.pdf\n"
     ]
    }
   ],
   "source": [
    "sdd = data[data['congressperson_name'] == 'SDD'].sample(random_state=0).iloc[0]\n",
    "print(document_url(sdd))"
   ]
  },
  {
   "cell_type": "markdown",
   "metadata": {},
   "source": [
    "721 expenses reimbursed to parties."
   ]
  },
  {
   "cell_type": "code",
   "execution_count": 42,
   "metadata": {
    "collapsed": false
   },
   "outputs": [
    {
     "data": {
      "text/html": [
       "<div>\n",
       "<table border=\"1\" class=\"dataframe\">\n",
       "  <thead>\n",
       "    <tr style=\"text-align: right;\">\n",
       "      <th></th>\n",
       "      <th>applicant_id</th>\n",
       "      <th>congressperson_name</th>\n",
       "      <th>party</th>\n",
       "      <th>state</th>\n",
       "    </tr>\n",
       "  </thead>\n",
       "  <tbody>\n",
       "    <tr>\n",
       "      <th>206216</th>\n",
       "      <td>2442</td>\n",
       "      <td>LIDERANÇA DO PSDB</td>\n",
       "      <td>NaN</td>\n",
       "      <td>NaN</td>\n",
       "    </tr>\n",
       "    <tr>\n",
       "      <th>206345</th>\n",
       "      <td>2439</td>\n",
       "      <td>LIDERANÇA DO PT</td>\n",
       "      <td>NaN</td>\n",
       "      <td>NaN</td>\n",
       "    </tr>\n",
       "    <tr>\n",
       "      <th>286699</th>\n",
       "      <td>2715</td>\n",
       "      <td>PDT</td>\n",
       "      <td>NaN</td>\n",
       "      <td>NaN</td>\n",
       "    </tr>\n",
       "    <tr>\n",
       "      <th>294136</th>\n",
       "      <td>2865</td>\n",
       "      <td>PROS</td>\n",
       "      <td>NaN</td>\n",
       "      <td>NaN</td>\n",
       "    </tr>\n",
       "    <tr>\n",
       "      <th>326358</th>\n",
       "      <td>2864</td>\n",
       "      <td>SDD</td>\n",
       "      <td>NaN</td>\n",
       "      <td>NaN</td>\n",
       "    </tr>\n",
       "  </tbody>\n",
       "</table>\n",
       "</div>"
      ],
      "text/plain": [
       "       applicant_id congressperson_name party state\n",
       "206216         2442   LIDERANÇA DO PSDB   NaN   NaN\n",
       "206345         2439     LIDERANÇA DO PT   NaN   NaN\n",
       "286699         2715                 PDT   NaN   NaN\n",
       "294136         2865                PROS   NaN   NaN\n",
       "326358         2864                 SDD   NaN   NaN"
      ]
     },
     "execution_count": 42,
     "metadata": {},
     "output_type": "execute_result"
    }
   ],
   "source": [
    "parties = congressperson_list[congressperson_list['party'].isnull()]\n",
    "parties"
   ]
  },
  {
   "cell_type": "code",
   "execution_count": 43,
   "metadata": {
    "collapsed": false
   },
   "outputs": [
    {
     "data": {
      "text/plain": [
       "721"
      ]
     },
     "execution_count": 43,
     "metadata": {},
     "output_type": "execute_result"
    }
   ],
   "source": [
    "party_expenses = data[data['applicant_id'].isin(parties['applicant_id'])]\n",
    "len(party_expenses)"
   ]
  },
  {
   "cell_type": "code",
   "execution_count": 44,
   "metadata": {
    "collapsed": false
   },
   "outputs": [
    {
     "data": {
      "text/html": [
       "<div>\n",
       "<table border=\"1\" class=\"dataframe\">\n",
       "  <thead>\n",
       "    <tr style=\"text-align: right;\">\n",
       "      <th></th>\n",
       "      <th>document_id</th>\n",
       "      <th>congressperson_name</th>\n",
       "      <th>congressperson_id</th>\n",
       "      <th>congressperson_document</th>\n",
       "      <th>term</th>\n",
       "      <th>state</th>\n",
       "      <th>party</th>\n",
       "      <th>term_id</th>\n",
       "      <th>subquota_number</th>\n",
       "      <th>subquota_description</th>\n",
       "      <th>...</th>\n",
       "      <th>net_value</th>\n",
       "      <th>month</th>\n",
       "      <th>year</th>\n",
       "      <th>installment</th>\n",
       "      <th>passenger</th>\n",
       "      <th>leg_of_the_trip</th>\n",
       "      <th>batch_number</th>\n",
       "      <th>reimbursement_number</th>\n",
       "      <th>reimbursement_value</th>\n",
       "      <th>applicant_id</th>\n",
       "    </tr>\n",
       "  </thead>\n",
       "  <tbody>\n",
       "    <tr>\n",
       "      <th>206216</th>\n",
       "      <td>5623603</td>\n",
       "      <td>LIDERANÇA DO PSDB</td>\n",
       "      <td>NaN</td>\n",
       "      <td>NaN</td>\n",
       "      <td>0</td>\n",
       "      <td>NaN</td>\n",
       "      <td>NaN</td>\n",
       "      <td>NaN</td>\n",
       "      <td>3</td>\n",
       "      <td>Fuels and lubricants</td>\n",
       "      <td>...</td>\n",
       "      <td>106.20</td>\n",
       "      <td>3</td>\n",
       "      <td>2015</td>\n",
       "      <td>0</td>\n",
       "      <td>NaN</td>\n",
       "      <td>NaN</td>\n",
       "      <td>1173314</td>\n",
       "      <td>4958</td>\n",
       "      <td>NaN</td>\n",
       "      <td>2442</td>\n",
       "    </tr>\n",
       "    <tr>\n",
       "      <th>206217</th>\n",
       "      <td>5711868</td>\n",
       "      <td>LIDERANÇA DO PSDB</td>\n",
       "      <td>NaN</td>\n",
       "      <td>NaN</td>\n",
       "      <td>0</td>\n",
       "      <td>NaN</td>\n",
       "      <td>NaN</td>\n",
       "      <td>NaN</td>\n",
       "      <td>3</td>\n",
       "      <td>Fuels and lubricants</td>\n",
       "      <td>...</td>\n",
       "      <td>137.20</td>\n",
       "      <td>6</td>\n",
       "      <td>2015</td>\n",
       "      <td>0</td>\n",
       "      <td>NaN</td>\n",
       "      <td>NaN</td>\n",
       "      <td>1201648</td>\n",
       "      <td>5066</td>\n",
       "      <td>NaN</td>\n",
       "      <td>2442</td>\n",
       "    </tr>\n",
       "    <tr>\n",
       "      <th>206218</th>\n",
       "      <td>5623622</td>\n",
       "      <td>LIDERANÇA DO PSDB</td>\n",
       "      <td>NaN</td>\n",
       "      <td>NaN</td>\n",
       "      <td>0</td>\n",
       "      <td>NaN</td>\n",
       "      <td>NaN</td>\n",
       "      <td>NaN</td>\n",
       "      <td>3</td>\n",
       "      <td>Fuels and lubricants</td>\n",
       "      <td>...</td>\n",
       "      <td>115.88</td>\n",
       "      <td>2</td>\n",
       "      <td>2015</td>\n",
       "      <td>0</td>\n",
       "      <td>NaN</td>\n",
       "      <td>NaN</td>\n",
       "      <td>1173310</td>\n",
       "      <td>4964</td>\n",
       "      <td>NaN</td>\n",
       "      <td>2442</td>\n",
       "    </tr>\n",
       "    <tr>\n",
       "      <th>206219</th>\n",
       "      <td>5673529</td>\n",
       "      <td>LIDERANÇA DO PSDB</td>\n",
       "      <td>NaN</td>\n",
       "      <td>NaN</td>\n",
       "      <td>0</td>\n",
       "      <td>NaN</td>\n",
       "      <td>NaN</td>\n",
       "      <td>NaN</td>\n",
       "      <td>3</td>\n",
       "      <td>Fuels and lubricants</td>\n",
       "      <td>...</td>\n",
       "      <td>96.90</td>\n",
       "      <td>5</td>\n",
       "      <td>2015</td>\n",
       "      <td>0</td>\n",
       "      <td>NaN</td>\n",
       "      <td>NaN</td>\n",
       "      <td>1188923</td>\n",
       "      <td>5025</td>\n",
       "      <td>NaN</td>\n",
       "      <td>2442</td>\n",
       "    </tr>\n",
       "    <tr>\n",
       "      <th>206220</th>\n",
       "      <td>5719383</td>\n",
       "      <td>LIDERANÇA DO PSDB</td>\n",
       "      <td>NaN</td>\n",
       "      <td>NaN</td>\n",
       "      <td>0</td>\n",
       "      <td>NaN</td>\n",
       "      <td>NaN</td>\n",
       "      <td>NaN</td>\n",
       "      <td>3</td>\n",
       "      <td>Fuels and lubricants</td>\n",
       "      <td>...</td>\n",
       "      <td>118.61</td>\n",
       "      <td>6</td>\n",
       "      <td>2015</td>\n",
       "      <td>0</td>\n",
       "      <td>NaN</td>\n",
       "      <td>NaN</td>\n",
       "      <td>1203914</td>\n",
       "      <td>5073</td>\n",
       "      <td>NaN</td>\n",
       "      <td>2442</td>\n",
       "    </tr>\n",
       "  </tbody>\n",
       "</table>\n",
       "<p>5 rows × 29 columns</p>\n",
       "</div>"
      ],
      "text/plain": [
       "       document_id congressperson_name congressperson_id  \\\n",
       "206216     5623603   LIDERANÇA DO PSDB               NaN   \n",
       "206217     5711868   LIDERANÇA DO PSDB               NaN   \n",
       "206218     5623622   LIDERANÇA DO PSDB               NaN   \n",
       "206219     5673529   LIDERANÇA DO PSDB               NaN   \n",
       "206220     5719383   LIDERANÇA DO PSDB               NaN   \n",
       "\n",
       "       congressperson_document  term state party term_id subquota_number  \\\n",
       "206216                     NaN     0   NaN   NaN     NaN               3   \n",
       "206217                     NaN     0   NaN   NaN     NaN               3   \n",
       "206218                     NaN     0   NaN   NaN     NaN               3   \n",
       "206219                     NaN     0   NaN   NaN     NaN               3   \n",
       "206220                     NaN     0   NaN   NaN     NaN               3   \n",
       "\n",
       "        subquota_description      ...      net_value month  year installment  \\\n",
       "206216  Fuels and lubricants      ...         106.20     3  2015           0   \n",
       "206217  Fuels and lubricants      ...         137.20     6  2015           0   \n",
       "206218  Fuels and lubricants      ...         115.88     2  2015           0   \n",
       "206219  Fuels and lubricants      ...          96.90     5  2015           0   \n",
       "206220  Fuels and lubricants      ...         118.61     6  2015           0   \n",
       "\n",
       "       passenger leg_of_the_trip batch_number  reimbursement_number  \\\n",
       "206216       NaN             NaN      1173314                  4958   \n",
       "206217       NaN             NaN      1201648                  5066   \n",
       "206218       NaN             NaN      1173310                  4964   \n",
       "206219       NaN             NaN      1188923                  5025   \n",
       "206220       NaN             NaN      1203914                  5073   \n",
       "\n",
       "        reimbursement_value  applicant_id  \n",
       "206216                  NaN          2442  \n",
       "206217                  NaN          2442  \n",
       "206218                  NaN          2442  \n",
       "206219                  NaN          2442  \n",
       "206220                  NaN          2442  \n",
       "\n",
       "[5 rows x 29 columns]"
      ]
     },
     "execution_count": 44,
     "metadata": {},
     "output_type": "execute_result"
    }
   ],
   "source": [
    "party_expenses.head()"
   ]
  },
  {
   "cell_type": "markdown",
   "metadata": {},
   "source": [
    "## Expenses abroad"
   ]
  },
  {
   "cell_type": "markdown",
   "metadata": {},
   "source": [
    "Are the expenses made outside of Brazil easily identifiable?"
   ]
  },
  {
   "cell_type": "code",
   "execution_count": 45,
   "metadata": {
    "collapsed": false
   },
   "outputs": [
    {
     "data": {
      "text/plain": [
       "48268"
      ]
     },
     "execution_count": 45,
     "metadata": {},
     "output_type": "execute_result"
    }
   ],
   "source": [
    "wo_cnpj_cpf = data[data['cnpj_cpf'].isnull()]\n",
    "len(wo_cnpj_cpf)"
   ]
  },
  {
   "cell_type": "code",
   "execution_count": 46,
   "metadata": {
    "collapsed": false
   },
   "outputs": [
    {
     "data": {
      "text/html": [
       "<div>\n",
       "<table border=\"1\" class=\"dataframe\">\n",
       "  <thead>\n",
       "    <tr style=\"text-align: right;\">\n",
       "      <th></th>\n",
       "      <th>document_id</th>\n",
       "      <th>congressperson_name</th>\n",
       "      <th>congressperson_id</th>\n",
       "      <th>congressperson_document</th>\n",
       "      <th>term</th>\n",
       "      <th>state</th>\n",
       "      <th>party</th>\n",
       "      <th>term_id</th>\n",
       "      <th>subquota_number</th>\n",
       "      <th>subquota_description</th>\n",
       "      <th>...</th>\n",
       "      <th>net_value</th>\n",
       "      <th>month</th>\n",
       "      <th>year</th>\n",
       "      <th>installment</th>\n",
       "      <th>passenger</th>\n",
       "      <th>leg_of_the_trip</th>\n",
       "      <th>batch_number</th>\n",
       "      <th>reimbursement_number</th>\n",
       "      <th>reimbursement_value</th>\n",
       "      <th>applicant_id</th>\n",
       "    </tr>\n",
       "  </thead>\n",
       "  <tbody>\n",
       "    <tr>\n",
       "      <th>92</th>\n",
       "      <td>NaN</td>\n",
       "      <td>ABEL MESQUITA JR.</td>\n",
       "      <td>178957</td>\n",
       "      <td>1</td>\n",
       "      <td>2015</td>\n",
       "      <td>RR</td>\n",
       "      <td>DEM</td>\n",
       "      <td>55</td>\n",
       "      <td>10</td>\n",
       "      <td>Telecommunication</td>\n",
       "      <td>...</td>\n",
       "      <td>99.44</td>\n",
       "      <td>6</td>\n",
       "      <td>2015</td>\n",
       "      <td>0</td>\n",
       "      <td>NaN</td>\n",
       "      <td>NaN</td>\n",
       "      <td>0</td>\n",
       "      <td>0</td>\n",
       "      <td>NaN</td>\n",
       "      <td>3074</td>\n",
       "    </tr>\n",
       "    <tr>\n",
       "      <th>93</th>\n",
       "      <td>NaN</td>\n",
       "      <td>ABEL MESQUITA JR.</td>\n",
       "      <td>178957</td>\n",
       "      <td>1</td>\n",
       "      <td>2015</td>\n",
       "      <td>RR</td>\n",
       "      <td>DEM</td>\n",
       "      <td>55</td>\n",
       "      <td>10</td>\n",
       "      <td>Telecommunication</td>\n",
       "      <td>...</td>\n",
       "      <td>49.62</td>\n",
       "      <td>7</td>\n",
       "      <td>2015</td>\n",
       "      <td>0</td>\n",
       "      <td>NaN</td>\n",
       "      <td>NaN</td>\n",
       "      <td>0</td>\n",
       "      <td>0</td>\n",
       "      <td>NaN</td>\n",
       "      <td>3074</td>\n",
       "    </tr>\n",
       "    <tr>\n",
       "      <th>94</th>\n",
       "      <td>NaN</td>\n",
       "      <td>ABEL MESQUITA JR.</td>\n",
       "      <td>178957</td>\n",
       "      <td>1</td>\n",
       "      <td>2015</td>\n",
       "      <td>RR</td>\n",
       "      <td>DEM</td>\n",
       "      <td>55</td>\n",
       "      <td>10</td>\n",
       "      <td>Telecommunication</td>\n",
       "      <td>...</td>\n",
       "      <td>16.26</td>\n",
       "      <td>3</td>\n",
       "      <td>2015</td>\n",
       "      <td>0</td>\n",
       "      <td>NaN</td>\n",
       "      <td>NaN</td>\n",
       "      <td>0</td>\n",
       "      <td>0</td>\n",
       "      <td>NaN</td>\n",
       "      <td>3074</td>\n",
       "    </tr>\n",
       "    <tr>\n",
       "      <th>95</th>\n",
       "      <td>NaN</td>\n",
       "      <td>ABEL MESQUITA JR.</td>\n",
       "      <td>178957</td>\n",
       "      <td>1</td>\n",
       "      <td>2015</td>\n",
       "      <td>RR</td>\n",
       "      <td>DEM</td>\n",
       "      <td>55</td>\n",
       "      <td>10</td>\n",
       "      <td>Telecommunication</td>\n",
       "      <td>...</td>\n",
       "      <td>177.05</td>\n",
       "      <td>4</td>\n",
       "      <td>2015</td>\n",
       "      <td>0</td>\n",
       "      <td>NaN</td>\n",
       "      <td>NaN</td>\n",
       "      <td>0</td>\n",
       "      <td>0</td>\n",
       "      <td>NaN</td>\n",
       "      <td>3074</td>\n",
       "    </tr>\n",
       "    <tr>\n",
       "      <th>96</th>\n",
       "      <td>NaN</td>\n",
       "      <td>ABEL MESQUITA JR.</td>\n",
       "      <td>178957</td>\n",
       "      <td>1</td>\n",
       "      <td>2015</td>\n",
       "      <td>RR</td>\n",
       "      <td>DEM</td>\n",
       "      <td>55</td>\n",
       "      <td>10</td>\n",
       "      <td>Telecommunication</td>\n",
       "      <td>...</td>\n",
       "      <td>115.54</td>\n",
       "      <td>3</td>\n",
       "      <td>2015</td>\n",
       "      <td>0</td>\n",
       "      <td>NaN</td>\n",
       "      <td>NaN</td>\n",
       "      <td>0</td>\n",
       "      <td>0</td>\n",
       "      <td>NaN</td>\n",
       "      <td>3074</td>\n",
       "    </tr>\n",
       "  </tbody>\n",
       "</table>\n",
       "<p>5 rows × 29 columns</p>\n",
       "</div>"
      ],
      "text/plain": [
       "   document_id congressperson_name congressperson_id congressperson_document  \\\n",
       "92         NaN   ABEL MESQUITA JR.            178957                       1   \n",
       "93         NaN   ABEL MESQUITA JR.            178957                       1   \n",
       "94         NaN   ABEL MESQUITA JR.            178957                       1   \n",
       "95         NaN   ABEL MESQUITA JR.            178957                       1   \n",
       "96         NaN   ABEL MESQUITA JR.            178957                       1   \n",
       "\n",
       "    term state party term_id subquota_number subquota_description  \\\n",
       "92  2015    RR   DEM      55              10    Telecommunication   \n",
       "93  2015    RR   DEM      55              10    Telecommunication   \n",
       "94  2015    RR   DEM      55              10    Telecommunication   \n",
       "95  2015    RR   DEM      55              10    Telecommunication   \n",
       "96  2015    RR   DEM      55              10    Telecommunication   \n",
       "\n",
       "        ...      net_value month  year installment passenger leg_of_the_trip  \\\n",
       "92      ...          99.44     6  2015           0       NaN             NaN   \n",
       "93      ...          49.62     7  2015           0       NaN             NaN   \n",
       "94      ...          16.26     3  2015           0       NaN             NaN   \n",
       "95      ...         177.05     4  2015           0       NaN             NaN   \n",
       "96      ...         115.54     3  2015           0       NaN             NaN   \n",
       "\n",
       "   batch_number  reimbursement_number  reimbursement_value  applicant_id  \n",
       "92            0                     0                  NaN          3074  \n",
       "93            0                     0                  NaN          3074  \n",
       "94            0                     0                  NaN          3074  \n",
       "95            0                     0                  NaN          3074  \n",
       "96            0                     0                  NaN          3074  \n",
       "\n",
       "[5 rows x 29 columns]"
      ]
     },
     "execution_count": 46,
     "metadata": {},
     "output_type": "execute_result"
    }
   ],
   "source": [
    "wo_cnpj_cpf.head()"
   ]
  },
  {
   "cell_type": "code",
   "execution_count": 47,
   "metadata": {
    "collapsed": false
   },
   "outputs": [
    {
     "data": {
      "text/plain": [
       "document_id                                             NaN\n",
       "congressperson_name                             MAURO LOPES\n",
       "congressperson_id                                     74749\n",
       "congressperson_document                                 252\n",
       "term                                                   2015\n",
       "state                                                    MG\n",
       "party                                                  PMDB\n",
       "term_id                                                  55\n",
       "subquota_number                                          11\n",
       "subquota_description                        Postal services\n",
       "subquota_group_id                                         0\n",
       "subquota_group_description                              NaN\n",
       "supplier                      CORREIOS - SEDEX CONVENCIONAL\n",
       "cnpj_cpf                                                NaN\n",
       "document_number                               RSP : 2106004\n",
       "document_type                                             1\n",
       "issue_date                       2015-01-19 12:39:05.247000\n",
       "document_value                                        30.04\n",
       "remark_value                                              0\n",
       "net_value                                             30.04\n",
       "month                                                     1\n",
       "year                                                   2015\n",
       "installment                                               0\n",
       "passenger                                               NaN\n",
       "leg_of_the_trip                                         NaN\n",
       "batch_number                                              0\n",
       "reimbursement_number                                      0\n",
       "reimbursement_value                                     NaN\n",
       "applicant_id                                           1125\n",
       "Name: 251309, dtype: object"
      ]
     },
     "execution_count": 47,
     "metadata": {},
     "output_type": "execute_result"
    }
   ],
   "source": [
    "wo_cnpj_cpf.sample(random_state=10).iloc[0]"
   ]
  },
  {
   "cell_type": "markdown",
   "metadata": {},
   "source": [
    "We could match politicians' location (from oficial agenda and social networks GPS info) with their expenses in a future analysis."
   ]
  },
  {
   "cell_type": "code",
   "execution_count": 48,
   "metadata": {
    "collapsed": false,
    "scrolled": true
   },
   "outputs": [
    {
     "data": {
      "text/plain": [
       "array(['CELULAR FUNCIONAL', 'RAMAL', 'CORREIOS - SEDEX CONVENCIONAL',\n",
       "       'IMÓVEL FUNCIONAL', 'CORREIOS - CARTA COMERCIAL',\n",
       "       'CORREIOS - ENCOMENDA PAC', 'CORREIOS - SEDEX 10',\n",
       "       'CORREIOS - SEDEX 10 COM AR',\n",
       "       'CORREIOS - SEDEX CONVENCIONAL COM AR',\n",
       "       'CORREIOS - CARTA REGISTRADA', 'CORREIOS - CARTA REGISTRADA COM AR',\n",
       "       'CORREIOS - ENCOMENDA PAC COM AR', 'CORREIOS - SEDEX 12',\n",
       "       'CORREIOS - TELEGRAMA COM CONFIRMAÇÃO', 'CORREIOS - EMS MERCADORIA',\n",
       "       'CORREIOS - EMS MERCADORIA COM AR', 'CORREIOS - TELEGRAMA',\n",
       "       'CORREIOS - MALA DIRETA POSTAL BÁSICA',\n",
       "       'CORREIOS - SEDEX 12 COM AR', 'CORREIOS - EMS DOCUMENTO',\n",
       "       'CORREIOS - SEDEX MUNDI', 'CopaAirlines', 'Bellagio',\n",
       "       'COLOSSEUM BAR', 'DGI', \"GORDON RAMSAY'S\", \"JOHNNY ROCKET'S\",\n",
       "       'MANDALAY BAY SHOWROOM', 'SHAKE SHACK', 'STARBUCKS STORE',\n",
       "       'Bellagio Las Vegas', 'AceCab', 'Anlv Cab', 'Cash Selected',\n",
       "       'VeriFone', 'CORREIOS - MALA DIRETA POSTAL DOMICILIÁRIA',\n",
       "       'Le pain Quat idien', 'Pollo Cabana', 'Union Station', \"Willy K's\",\n",
       "       'HOLYDAY INN', 'CORREIOS - TELEGRAMA COM CÓPIA',\n",
       "       'CORREIOS - TELEGRAMA COM CÓPIA E CONFIRMAÇÃO',\n",
       "       'CORREIOS - DOCUMENTO PRIORITÁRIO REGISTRADO COM AR',\n",
       "       'El Viejo Y El Mar', 'Hotelera San Francisco S.A',\n",
       "       'Intercity Premiun', 'CORREIOS - SEDEX HOJE',\n",
       "       'CORREIOS - SEDEX HOJE COM AR', 'GOL LINHAS AÉREAS',\n",
       "       'TAM LINHAS AÉREAS S.A.', 'DAZZLER HOTEL MONTEVIDEO',\n",
       "       'ACADEMIC TRAVEL TURISMO LTDA', 'DA PENTELLA', 'RESTAURANTE PATRIA',\n",
       "       'CORREIOS - DOCUMENTO PRIORITÁRIO', 'CORREIOS - MALOTE',\n",
       "       'PRESIDENT AND FELLOWS OF HARVARD COLLEGE',\n",
       "       'PRESIDENT AND FELLOWS OF HAVARD', 'AMERICAN AIRLINES',\n",
       "       'DELTA AIR LINES', 'PARK LANE HOTEL', 'PARK LANE HOTEL NEW YORK',\n",
       "       'CORREIOS - EMS DOCUMENTO COM AR', 'BIROME S.A LA PERDIZ',\n",
       "       'PARRILHA EL FOGON S.A', 'CORREIOS - MERCADORIA ECONÔMICA', 'EL AL',\n",
       "       'TAP AIR', 'TAP PORTUGAL', 'Despesa alimentação Israel',\n",
       "       'PADIGLIONE GIAPPONE', 'AIRPORT HOTEL & CONFERENCE CENTRE',\n",
       "       'Citadines Apart Hotel',\n",
       "       'DAN PANORAMA TEL AVIV HOTEL & CONVENTION CENTER',\n",
       "       'Hotel Trip Lisboa', \"STARHOTELS L'ITÁLIA NEL CUORE\",\n",
       "       'TRYP BY WYNDHAM LISBOA AEROPORTO',\n",
       "       'CASA TUA CUCINA DELLE PROVINCE TOSCANE',\n",
       "       'Jo cintra Tailor Made Tours', 'decolar.com',\n",
       "       'CORREIOS - DOCUMENTO PRIORITÁRIO REGISTRADO', 'LUMIAR TURISMO',\n",
       "       'AMUSH S.A', 'LA CHACRA DEL PUERTO',\n",
       "       'LA PARRILLA DE WILIMAN GUAVIARE S.A', 'Dazzler Hotel Montevideo',\n",
       "       'Renata Teixeira Taiana ME', 'TAM LINHAS AÉREAS S/A',\n",
       "       'Arecenter S.A.', 'DAZZLER Hotel Montevideo',\n",
       "       'Uno Buenos Aires Suites', 'Cabana Veronica', 'Cafe Patria',\n",
       "       'Camelia', 'Don Peperone', 'La Compania del Oriente', 'La Criolla',\n",
       "       'BOUDIN BAKERY - San Francisco', 'Cafe Bellini - San Francisco',\n",
       "       'California Pizza Kitchen',\n",
       "       'DGI - Internacional Meal Company Panama S.A.',\n",
       "       'DGI - Internacional Meal Company Panamá S.A.', 'IL CARPACCIO',\n",
       "       'MAPISA S.A.', 'The Academy Cafe - San Francisco  CA',\n",
       "       'The Cheesecake Factory Restaurants Natiowide',\n",
       "       'Tomokazu Japanese Cusine',\n",
       "       \"Whole Foods Market - America's Healthiest Grocery Store\",\n",
       "       'Crowne Polaza San Francisco International Airport - Burlingame, CA - EUA',\n",
       "       'INTERCONTINETAL MARK HOPKINS SAN FRANCISCO - ONE NOB HILL',\n",
       "       'Pacific Inn of Redwood City - CA - EUA',\n",
       "       'SFMTA - San Francisco  - CA', 'UBER TAXI  - San Francisco  CA',\n",
       "       'UBER Taxi - San Francisco  CA', 'UBER Taxi - SanFrancisco  CA',\n",
       "       'UNITED BRASIL', \"Fishbeck's Shell\", 'Houston St. Bistrô',\n",
       "       'Oceanaire Seafood Room', 'Restaurant Las Canarias', 'STARBUCKS',\n",
       "       'Wildcat Express', 'ZORI BISTRO', 'FRTOPERADORA DE TURISMO LTDA',\n",
       "       'JW MARRIOT HOTEL', 'CAFE PATRIA',\n",
       "       'CENTER ON THE DEVELOPING CHILD - NCPI', 'EXPOUY S.A',\n",
       "       'El Palenque', 'Frog Maxi Shop', 'Pablo Andrés Paleo Inzaurralde',\n",
       "       'AK design hotel', 'Mercat Taxi', 'cutcsa', 'KLM CIA REAL',\n",
       "       'JET HOTEL', 'KLIMA HOTEL MILANO FIERE', 'NH EMBASCIATORI',\n",
       "       'NH TORINO EMBASCIATORI', 'CONSORZIO TORINESE AUTOSERVIZI',\n",
       "       'IT TAXI', 'PRONTO TAXIS5737.IT', 'RADIO TAXI', 'RADIO TAXI 6969',\n",
       "       'SCARICA L´APP TAXI', 'TAXIBLU', 'TRENITALIA', 'GARCIA',\n",
       "       'DAZZLER MONTEVIDEO', 'kempinsk hotel bristol',\n",
       "       'A & S TURISMO E EXCURSÕES LTDA', 'A&S TURISMO E EXCURSÕES LTDA',\n",
       "       'ASCANIO TOUR', 'Hotel Nacional de Cuba', 'HAPPENING STGO',\n",
       "       'PARK PLAZA HOTEL - SANTIAGO/CHILE', 'Café Patria',\n",
       "       'dazzler hotel montevideo', '7 ELEVEN',\n",
       "       'CORREIOS - LEVE INTERNACIONAL',\n",
       "       'KLEVITZ E KLAS VIAGENS E TURISMO LTDA EPP', 'ELIOR ROISSY SARL',\n",
       "       \"SARL L' EQUIPE VOUS REMERCIE\", 'NICKS LIGHTHOUSE', 'NOLA',\n",
       "       'TACOLICIOUS', 'THE CHEESECAKE FACTORY', 'THE VOYA RESTAURANT',\n",
       "       'PACIFIC EURO HOTEL OF REDWOOD CITY', 'Gol Linhas Aereas',\n",
       "       'TAM LINHAS AÉREAS.', 'NÚCLEO CIÊNCIA PELA INFÂNCIA',\n",
       "       'CENTER ON THE  DEVELOPING CHILD', 'CENTER ON THE DEVELOPING CHILD',\n",
       "       'SHERATON COMMANDER HOTEL-CAMBRIDGE',\n",
       "       'COPA – COMPANIA PANAMERICA DE AVIAÇÃO S.A (COPA AIRLINES)',\n",
       "       'BARCELONA', 'COMMITTEE', 'CROWNE PLAZA-MANHATTAN', 'GIULIA',\n",
       "       'LEGAL SEA FOODS', 'MET BACK BAY', 'RUSSELL HOUSE',\n",
       "       \"SARDI'S RESTAURANT\", 'TOP OF THE HUB', 'VINO VOLO',\n",
       "       'DAMUS LIMOUSINE SERVICE', 'AIRFRANCE', 'AIRFRRANCE',\n",
       "       'PARRILLADA EL FOGON S.A', 'Delta Air Lines', 'HOTEL NACIONAL',\n",
       "       'CORREIOS - (EM DESUSO) MALA DIRETA POSTAL ESPECIAL', 'El Fogón',\n",
       "       'EL FOGÓN', 'ESTANCIA DEL PUERTO', 'La Chacra Del Puerto',\n",
       "       'PATRIA EXPRESS', 'THE FAMOUS GROUSE', 'Radio Taxi Comunitario',\n",
       "       'Táxi', 'Taxi', 'TAXI', 'VOYENTAXI', 'Voyentaxi', 'HOLIDAY INN',\n",
       "       'DAKOTA', 'DAKOTA ESTRELLA BRILHANTE SA', 'EL PALENQUE', 'HRU S.A',\n",
       "       'Restaurant 1921', 'SOFITEL', 'SOFTEL LUXURY HOTELS', 'DAZZLER',\n",
       "       'BORGATTA', 'EL VIEJO Y EL MAR', 'PUNTA CUORE',\n",
       "       'UNO BUENOS AIRS SUITES', 'DAKOTA ESTRELLA BRILHANTE S.A.',\n",
       "       'Center on the Developing Child Harvard University',\n",
       "       'ARCOS DORADOS URUGUAY S.A.', 'arcos dorados uruguay sa',\n",
       "       'BIARRITZ SRL', 'DAKOTA ESTRELA BRILHANTE S.A.',\n",
       "       'dakota estrella brillante sa', 'Burguer Redwood City',\n",
       "       \"Marina's Cafe\", 'The Cheesecake Factory SS', 'The Voya Restaurant',\n",
       "       'THE EURO PACIFIC HOTEL', 'THE PACIFIC EURO HOTEL',\n",
       "       'A Yellow TaxiCabs', 'SF TOWN TAXI', 'Taxicab Fare',\n",
       "       'Yellow CAB Cooperative', 'YELLOW CARD SRVS'], dtype=object)"
      ]
     },
     "execution_count": 48,
     "metadata": {},
     "output_type": "execute_result"
    }
   ],
   "source": [
    "wo_cnpj_cpf['supplier'].unique()"
   ]
  },
  {
   "cell_type": "markdown",
   "metadata": {},
   "source": [
    "Let's see how one that we know for sure being from another country, try to find specificities. Aparently, nothing special about it."
   ]
  },
  {
   "cell_type": "code",
   "execution_count": 49,
   "metadata": {
    "collapsed": false
   },
   "outputs": [
    {
     "data": {
      "text/plain": [
       "document_id                                                             5773449\n",
       "congressperson_name                                               DOMINGOS NETO\n",
       "congressperson_id                                                        143632\n",
       "congressperson_document                                                      97\n",
       "term                                                                       2015\n",
       "state                                                                        CE\n",
       "party                                                                       PSD\n",
       "term_id                                                                      55\n",
       "subquota_number                                                              14\n",
       "subquota_description          Lodging, except for congressperson from Distri...\n",
       "subquota_group_id                                                             0\n",
       "subquota_group_description                                                  NaN\n",
       "supplier                                               Dazzler Hotel Montevideo\n",
       "cnpj_cpf                                                                    NaN\n",
       "document_number                                                           37264\n",
       "document_type                                                                 3\n",
       "issue_date                                                  2015-08-18 00:00:00\n",
       "document_value                                                           706.54\n",
       "remark_value                                                                  0\n",
       "net_value                                                                706.54\n",
       "month                                                                         8\n",
       "year                                                                       2015\n",
       "installment                                                                   0\n",
       "passenger                                                                   NaN\n",
       "leg_of_the_trip                                                             NaN\n",
       "batch_number                                                            1220672\n",
       "reimbursement_number                                                       5137\n",
       "reimbursement_value                                                         NaN\n",
       "applicant_id                                                               2329\n",
       "Name: 94608, dtype: object"
      ]
     },
     "execution_count": 49,
     "metadata": {},
     "output_type": "execute_result"
    }
   ],
   "source": [
    "montevideo_expense = wo_cnpj_cpf[wo_cnpj_cpf['supplier'] == 'Dazzler Hotel Montevideo'].iloc[0]\n",
    "montevideo_expense"
   ]
  },
  {
   "cell_type": "code",
   "execution_count": 50,
   "metadata": {
    "collapsed": false
   },
   "outputs": [
    {
     "name": "stdout",
     "output_type": "stream",
     "text": [
      "http://www.camara.gov.br/cota-parlamentar/documentos/publ/2329/2015/5773449.pdf\n"
     ]
    }
   ],
   "source": [
    "print(document_url(montevideo_expense))"
   ]
  },
  {
   "cell_type": "code",
   "execution_count": 51,
   "metadata": {
    "collapsed": false
   },
   "outputs": [
    {
     "name": "stderr",
     "output_type": "stream",
     "text": [
      "/Users/irio/anaconda3/envs/serenata_de_amor/lib/python3.5/site-packages/ipykernel/__main__.py:1: SettingWithCopyWarning: \n",
      "A value is trying to be set on a copy of a slice from a DataFrame.\n",
      "Try using .loc[row_indexer,col_indexer] = value instead\n",
      "\n",
      "See the caveats in the documentation: http://pandas.pydata.org/pandas-docs/stable/indexing.html#indexing-view-versus-copy\n",
      "  if __name__ == '__main__':\n"
     ]
    },
    {
     "data": {
      "text/html": [
       "<div>\n",
       "<table border=\"1\" class=\"dataframe\">\n",
       "  <thead>\n",
       "    <tr style=\"text-align: right;\">\n",
       "      <th></th>\n",
       "      <th>supplier</th>\n",
       "      <th>applicant_id</th>\n",
       "    </tr>\n",
       "  </thead>\n",
       "  <tbody>\n",
       "    <tr>\n",
       "      <th>33</th>\n",
       "      <td>celular funcional</td>\n",
       "      <td>12244</td>\n",
       "    </tr>\n",
       "    <tr>\n",
       "      <th>66</th>\n",
       "      <td>correios - sedex convencional</td>\n",
       "      <td>10163</td>\n",
       "    </tr>\n",
       "    <tr>\n",
       "      <th>169</th>\n",
       "      <td>ramal</td>\n",
       "      <td>6238</td>\n",
       "    </tr>\n",
       "    <tr>\n",
       "      <th>45</th>\n",
       "      <td>correios - carta comercial</td>\n",
       "      <td>5870</td>\n",
       "    </tr>\n",
       "    <tr>\n",
       "      <th>55</th>\n",
       "      <td>correios - encomenda pac</td>\n",
       "      <td>3207</td>\n",
       "    </tr>\n",
       "  </tbody>\n",
       "</table>\n",
       "</div>"
      ],
      "text/plain": [
       "                          supplier  applicant_id\n",
       "33               celular funcional         12244\n",
       "66   correios - sedex convencional         10163\n",
       "169                          ramal          6238\n",
       "45      correios - carta comercial          5870\n",
       "55        correios - encomenda pac          3207"
      ]
     },
     "execution_count": 51,
     "metadata": {},
     "output_type": "execute_result"
    }
   ],
   "source": [
    "wo_cnpj_cpf['supplier'] = wo_cnpj_cpf['supplier'].str.lower()\n",
    "ranking_suppliers_wo_cnpj = wo_cnpj_cpf. \\\n",
    "    groupby('supplier', as_index=False). \\\n",
    "    count()[['supplier', 'applicant_id']]. \\\n",
    "    sort_values('applicant_id', ascending=False)\n",
    "ranking_suppliers_wo_cnpj.head()"
   ]
  },
  {
   "cell_type": "code",
   "execution_count": 52,
   "metadata": {
    "collapsed": false,
    "scrolled": true
   },
   "outputs": [
    {
     "data": {
      "text/html": [
       "<div>\n",
       "<table border=\"1\" class=\"dataframe\">\n",
       "  <thead>\n",
       "    <tr style=\"text-align: right;\">\n",
       "      <th></th>\n",
       "      <th>supplier</th>\n",
       "      <th>applicant_id</th>\n",
       "    </tr>\n",
       "  </thead>\n",
       "  <tbody>\n",
       "    <tr>\n",
       "      <th>87</th>\n",
       "      <td>dazzler hotel montevideo</td>\n",
       "      <td>27</td>\n",
       "    </tr>\n",
       "    <tr>\n",
       "      <th>216</th>\n",
       "      <td>verifone</td>\n",
       "      <td>11</td>\n",
       "    </tr>\n",
       "    <tr>\n",
       "      <th>174</th>\n",
       "      <td>russell house</td>\n",
       "      <td>7</td>\n",
       "    </tr>\n",
       "    <tr>\n",
       "      <th>124</th>\n",
       "      <td>it taxi</td>\n",
       "      <td>5</td>\n",
       "    </tr>\n",
       "    <tr>\n",
       "      <th>193</th>\n",
       "      <td>taxi</td>\n",
       "      <td>4</td>\n",
       "    </tr>\n",
       "    <tr>\n",
       "      <th>18</th>\n",
       "      <td>bellagio</td>\n",
       "      <td>4</td>\n",
       "    </tr>\n",
       "    <tr>\n",
       "      <th>98</th>\n",
       "      <td>el palenque</td>\n",
       "      <td>4</td>\n",
       "    </tr>\n",
       "    <tr>\n",
       "      <th>36</th>\n",
       "      <td>center on the developing child - ncpi</td>\n",
       "      <td>3</td>\n",
       "    </tr>\n",
       "    <tr>\n",
       "      <th>37</th>\n",
       "      <td>center on the developing child harvard university</td>\n",
       "      <td>3</td>\n",
       "    </tr>\n",
       "    <tr>\n",
       "      <th>99</th>\n",
       "      <td>el viejo y el mar</td>\n",
       "      <td>3</td>\n",
       "    </tr>\n",
       "    <tr>\n",
       "      <th>148</th>\n",
       "      <td>nola</td>\n",
       "      <td>3</td>\n",
       "    </tr>\n",
       "    <tr>\n",
       "      <th>27</th>\n",
       "      <td>cafe patria</td>\n",
       "      <td>3</td>\n",
       "    </tr>\n",
       "    <tr>\n",
       "      <th>149</th>\n",
       "      <td>núcleo ciência pela infância</td>\n",
       "      <td>3</td>\n",
       "    </tr>\n",
       "    <tr>\n",
       "      <th>109</th>\n",
       "      <td>gol linhas aéreas</td>\n",
       "      <td>3</td>\n",
       "    </tr>\n",
       "    <tr>\n",
       "      <th>154</th>\n",
       "      <td>padiglione giappone</td>\n",
       "      <td>2</td>\n",
       "    </tr>\n",
       "    <tr>\n",
       "      <th>130</th>\n",
       "      <td>klevitz e klas viagens e turismo ltda epp</td>\n",
       "      <td>2</td>\n",
       "    </tr>\n",
       "    <tr>\n",
       "      <th>133</th>\n",
       "      <td>la chacra del puerto</td>\n",
       "      <td>2</td>\n",
       "    </tr>\n",
       "    <tr>\n",
       "      <th>88</th>\n",
       "      <td>dazzler montevideo</td>\n",
       "      <td>2</td>\n",
       "    </tr>\n",
       "    <tr>\n",
       "      <th>155</th>\n",
       "      <td>park lane hotel</td>\n",
       "      <td>2</td>\n",
       "    </tr>\n",
       "    <tr>\n",
       "      <th>163</th>\n",
       "      <td>president and fellows of havard</td>\n",
       "      <td>2</td>\n",
       "    </tr>\n",
       "    <tr>\n",
       "      <th>77</th>\n",
       "      <td>cutcsa</td>\n",
       "      <td>2</td>\n",
       "    </tr>\n",
       "    <tr>\n",
       "      <th>167</th>\n",
       "      <td>radio taxi 6969</td>\n",
       "      <td>2</td>\n",
       "    </tr>\n",
       "    <tr>\n",
       "      <th>97</th>\n",
       "      <td>el fogón</td>\n",
       "      <td>2</td>\n",
       "    </tr>\n",
       "    <tr>\n",
       "      <th>173</th>\n",
       "      <td>restaurante patria</td>\n",
       "      <td>2</td>\n",
       "    </tr>\n",
       "    <tr>\n",
       "      <th>90</th>\n",
       "      <td>delta air lines</td>\n",
       "      <td>2</td>\n",
       "    </tr>\n",
       "    <tr>\n",
       "      <th>187</th>\n",
       "      <td>tacolicious</td>\n",
       "      <td>2</td>\n",
       "    </tr>\n",
       "    <tr>\n",
       "      <th>165</th>\n",
       "      <td>punta cuore</td>\n",
       "      <td>2</td>\n",
       "    </tr>\n",
       "    <tr>\n",
       "      <th>112</th>\n",
       "      <td>holiday inn</td>\n",
       "      <td>2</td>\n",
       "    </tr>\n",
       "    <tr>\n",
       "      <th>214</th>\n",
       "      <td>uno buenos aires suites</td>\n",
       "      <td>2</td>\n",
       "    </tr>\n",
       "    <tr>\n",
       "      <th>203</th>\n",
       "      <td>the voya restaurant</td>\n",
       "      <td>2</td>\n",
       "    </tr>\n",
       "    <tr>\n",
       "      <th>...</th>\n",
       "      <td>...</td>\n",
       "      <td>...</td>\n",
       "    </tr>\n",
       "    <tr>\n",
       "      <th>127</th>\n",
       "      <td>johnny rocket's</td>\n",
       "      <td>1</td>\n",
       "    </tr>\n",
       "    <tr>\n",
       "      <th>128</th>\n",
       "      <td>jw marriot hotel</td>\n",
       "      <td>1</td>\n",
       "    </tr>\n",
       "    <tr>\n",
       "      <th>129</th>\n",
       "      <td>kempinsk hotel bristol</td>\n",
       "      <td>1</td>\n",
       "    </tr>\n",
       "    <tr>\n",
       "      <th>131</th>\n",
       "      <td>klima hotel milano fiere</td>\n",
       "      <td>1</td>\n",
       "    </tr>\n",
       "    <tr>\n",
       "      <th>132</th>\n",
       "      <td>klm cia real</td>\n",
       "      <td>1</td>\n",
       "    </tr>\n",
       "    <tr>\n",
       "      <th>134</th>\n",
       "      <td>la compania del oriente</td>\n",
       "      <td>1</td>\n",
       "    </tr>\n",
       "    <tr>\n",
       "      <th>135</th>\n",
       "      <td>la criolla</td>\n",
       "      <td>1</td>\n",
       "    </tr>\n",
       "    <tr>\n",
       "      <th>113</th>\n",
       "      <td>holyday inn</td>\n",
       "      <td>1</td>\n",
       "    </tr>\n",
       "    <tr>\n",
       "      <th>111</th>\n",
       "      <td>happening stgo</td>\n",
       "      <td>1</td>\n",
       "    </tr>\n",
       "    <tr>\n",
       "      <th>84</th>\n",
       "      <td>damus limousine service</td>\n",
       "      <td>1</td>\n",
       "    </tr>\n",
       "    <tr>\n",
       "      <th>96</th>\n",
       "      <td>el al</td>\n",
       "      <td>1</td>\n",
       "    </tr>\n",
       "    <tr>\n",
       "      <th>85</th>\n",
       "      <td>dan panorama tel aviv hotel &amp; convention center</td>\n",
       "      <td>1</td>\n",
       "    </tr>\n",
       "    <tr>\n",
       "      <th>86</th>\n",
       "      <td>dazzler</td>\n",
       "      <td>1</td>\n",
       "    </tr>\n",
       "    <tr>\n",
       "      <th>89</th>\n",
       "      <td>decolar.com</td>\n",
       "      <td>1</td>\n",
       "    </tr>\n",
       "    <tr>\n",
       "      <th>91</th>\n",
       "      <td>despesa alimentação israel</td>\n",
       "      <td>1</td>\n",
       "    </tr>\n",
       "    <tr>\n",
       "      <th>92</th>\n",
       "      <td>dgi</td>\n",
       "      <td>1</td>\n",
       "    </tr>\n",
       "    <tr>\n",
       "      <th>93</th>\n",
       "      <td>dgi - internacional meal company panama s.a.</td>\n",
       "      <td>1</td>\n",
       "    </tr>\n",
       "    <tr>\n",
       "      <th>94</th>\n",
       "      <td>dgi - internacional meal company panamá s.a.</td>\n",
       "      <td>1</td>\n",
       "    </tr>\n",
       "    <tr>\n",
       "      <th>95</th>\n",
       "      <td>don peperone</td>\n",
       "      <td>1</td>\n",
       "    </tr>\n",
       "    <tr>\n",
       "      <th>100</th>\n",
       "      <td>elior roissy sarl</td>\n",
       "      <td>1</td>\n",
       "    </tr>\n",
       "    <tr>\n",
       "      <th>110</th>\n",
       "      <td>gordon ramsay's</td>\n",
       "      <td>1</td>\n",
       "    </tr>\n",
       "    <tr>\n",
       "      <th>101</th>\n",
       "      <td>estancia del puerto</td>\n",
       "      <td>1</td>\n",
       "    </tr>\n",
       "    <tr>\n",
       "      <th>102</th>\n",
       "      <td>expouy s.a</td>\n",
       "      <td>1</td>\n",
       "    </tr>\n",
       "    <tr>\n",
       "      <th>103</th>\n",
       "      <td>fishbeck's shell</td>\n",
       "      <td>1</td>\n",
       "    </tr>\n",
       "    <tr>\n",
       "      <th>104</th>\n",
       "      <td>frog maxi shop</td>\n",
       "      <td>1</td>\n",
       "    </tr>\n",
       "    <tr>\n",
       "      <th>105</th>\n",
       "      <td>frtoperadora de turismo ltda</td>\n",
       "      <td>1</td>\n",
       "    </tr>\n",
       "    <tr>\n",
       "      <th>106</th>\n",
       "      <td>garcia</td>\n",
       "      <td>1</td>\n",
       "    </tr>\n",
       "    <tr>\n",
       "      <th>107</th>\n",
       "      <td>giulia</td>\n",
       "      <td>1</td>\n",
       "    </tr>\n",
       "    <tr>\n",
       "      <th>108</th>\n",
       "      <td>gol linhas aereas</td>\n",
       "      <td>1</td>\n",
       "    </tr>\n",
       "    <tr>\n",
       "      <th>224</th>\n",
       "      <td>zori bistro</td>\n",
       "      <td>1</td>\n",
       "    </tr>\n",
       "  </tbody>\n",
       "</table>\n",
       "<p>191 rows × 2 columns</p>\n",
       "</div>"
      ],
      "text/plain": [
       "                                              supplier  applicant_id\n",
       "87                            dazzler hotel montevideo            27\n",
       "216                                           verifone            11\n",
       "174                                      russell house             7\n",
       "124                                            it taxi             5\n",
       "193                                               taxi             4\n",
       "18                                            bellagio             4\n",
       "98                                         el palenque             4\n",
       "36               center on the developing child - ncpi             3\n",
       "37   center on the developing child harvard university             3\n",
       "99                                   el viejo y el mar             3\n",
       "148                                               nola             3\n",
       "27                                         cafe patria             3\n",
       "149                       núcleo ciência pela infância             3\n",
       "109                                  gol linhas aéreas             3\n",
       "154                                padiglione giappone             2\n",
       "130          klevitz e klas viagens e turismo ltda epp             2\n",
       "133                               la chacra del puerto             2\n",
       "88                                  dazzler montevideo             2\n",
       "155                                    park lane hotel             2\n",
       "163                    president and fellows of havard             2\n",
       "77                                              cutcsa             2\n",
       "167                                    radio taxi 6969             2\n",
       "97                                            el fogón             2\n",
       "173                                 restaurante patria             2\n",
       "90                                     delta air lines             2\n",
       "187                                        tacolicious             2\n",
       "165                                        punta cuore             2\n",
       "112                                        holiday inn             2\n",
       "214                            uno buenos aires suites             2\n",
       "203                                the voya restaurant             2\n",
       "..                                                 ...           ...\n",
       "127                                    johnny rocket's             1\n",
       "128                                   jw marriot hotel             1\n",
       "129                             kempinsk hotel bristol             1\n",
       "131                           klima hotel milano fiere             1\n",
       "132                                       klm cia real             1\n",
       "134                            la compania del oriente             1\n",
       "135                                         la criolla             1\n",
       "113                                        holyday inn             1\n",
       "111                                     happening stgo             1\n",
       "84                             damus limousine service             1\n",
       "96                                               el al             1\n",
       "85     dan panorama tel aviv hotel & convention center             1\n",
       "86                                             dazzler             1\n",
       "89                                         decolar.com             1\n",
       "91                          despesa alimentação israel             1\n",
       "92                                                 dgi             1\n",
       "93        dgi - internacional meal company panama s.a.             1\n",
       "94        dgi - internacional meal company panamá s.a.             1\n",
       "95                                        don peperone             1\n",
       "100                                  elior roissy sarl             1\n",
       "110                                    gordon ramsay's             1\n",
       "101                                estancia del puerto             1\n",
       "102                                         expouy s.a             1\n",
       "103                                   fishbeck's shell             1\n",
       "104                                     frog maxi shop             1\n",
       "105                       frtoperadora de turismo ltda             1\n",
       "106                                             garcia             1\n",
       "107                                             giulia             1\n",
       "108                                  gol linhas aereas             1\n",
       "224                                        zori bistro             1\n",
       "\n",
       "[191 rows x 2 columns]"
      ]
     },
     "execution_count": 52,
     "metadata": {},
     "output_type": "execute_result"
    }
   ],
   "source": [
    "expenses_in_brazil = ranking_suppliers_wo_cnpj['supplier'].str.contains('correios') | \\\n",
    "    ranking_suppliers_wo_cnpj['supplier'].isin([\n",
    "            'celular funcional',\n",
    "            'imóvel funcional',\n",
    "            'ramal'])\n",
    "ranking_suppliers_wo_cnpj[~expenses_in_brazil]"
   ]
  },
  {
   "cell_type": "code",
   "execution_count": 53,
   "metadata": {
    "collapsed": false
   },
   "outputs": [
    {
     "data": {
      "text/plain": [
       "document_id                               5660757\n",
       "congressperson_name                  AFONSO MOTTA\n",
       "congressperson_id                          178835\n",
       "congressperson_document                       490\n",
       "term                                         2015\n",
       "state                                          RS\n",
       "party                                         PDT\n",
       "term_id                                        55\n",
       "subquota_number                                13\n",
       "subquota_description          Congressperson meal\n",
       "subquota_group_id                               0\n",
       "subquota_group_description                    NaN\n",
       "supplier                          GORDON RAMSAY'S\n",
       "cnpj_cpf                                      NaN\n",
       "document_number                           8881096\n",
       "document_type                                   2\n",
       "issue_date                    2015-04-14 00:00:00\n",
       "document_value                              83.45\n",
       "remark_value                                    0\n",
       "net_value                                   83.45\n",
       "month                                           4\n",
       "year                                         2015\n",
       "installment                                     0\n",
       "passenger                                     NaN\n",
       "leg_of_the_trip                               NaN\n",
       "batch_number                              1184874\n",
       "reimbursement_number                         5009\n",
       "reimbursement_value                           NaN\n",
       "applicant_id                                 2880\n",
       "Name: 7363, dtype: object"
      ]
     },
     "execution_count": 53,
     "metadata": {},
     "output_type": "execute_result"
    }
   ],
   "source": [
    "expense = data[data['supplier'].str.lower() == 'gordon ramsay\\'s'].iloc[0]\n",
    "expense"
   ]
  },
  {
   "cell_type": "code",
   "execution_count": 54,
   "metadata": {
    "collapsed": false
   },
   "outputs": [
    {
     "name": "stdout",
     "output_type": "stream",
     "text": [
      "http://www.camara.gov.br/cota-parlamentar/documentos/publ/2880/2015/5660757.pdf\n"
     ]
    }
   ],
   "source": [
    "print(document_url(expense))"
   ]
  },
  {
   "cell_type": "code",
   "execution_count": null,
   "metadata": {
    "collapsed": true
   },
   "outputs": [],
   "source": []
  }
 ],
 "metadata": {
  "kernelspec": {
   "display_name": "Python 3",
   "language": "python3",
   "name": "python3"
  },
  "language_info": {
   "codemirror_mode": {
    "name": "ipython",
    "version": 3
   },
   "file_extension": ".py",
   "mimetype": "text/x-python",
   "name": "python",
   "nbconvert_exporter": "python",
   "pygments_lexer": "ipython3",
   "version": "3.5.2"
  }
 },
 "nbformat": 4,
 "nbformat_minor": 0
}
