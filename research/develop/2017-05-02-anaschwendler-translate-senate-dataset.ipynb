{
 "cells": [
  {
   "cell_type": "markdown",
   "metadata": {},
   "source": [
    "# Translating the Senate dataset\n",
    "As we say in [this article](https://medium.com/data-science-brigade/expandindo-a-serenata-de-amor-para-outras-esferas-48bed204d36d), we are expanding our project to other datasets, the first one will be the Senate Quota dataset."
   ]
  },
  {
   "cell_type": "code",
   "execution_count": 1,
   "metadata": {},
   "outputs": [
    {
     "data": {
      "text/plain": [
       "(6156, 10)"
      ]
     },
     "execution_count": 1,
     "metadata": {},
     "output_type": "execute_result"
    }
   ],
   "source": [
    "import pandas as pd\n",
    "\n",
    "data = pd.read_csv('../data/senate_2017.csv',sep=';',encoding = \"ISO-8859-1\", skiprows=1)\n",
    "data.columns = map(str.lower, data.columns)\n",
    "data.shape"
   ]
  },
  {
   "cell_type": "code",
   "execution_count": 2,
   "metadata": {},
   "outputs": [
    {
     "data": {
      "text/html": [
       "<div>\n",
       "<table border=\"1\" class=\"dataframe\">\n",
       "  <thead>\n",
       "    <tr style=\"text-align: right;\">\n",
       "      <th></th>\n",
       "      <th>ano</th>\n",
       "      <th>mes</th>\n",
       "      <th>senador</th>\n",
       "      <th>tipo_despesa</th>\n",
       "      <th>cnpj_cpf</th>\n",
       "      <th>fornecedor</th>\n",
       "      <th>documento</th>\n",
       "      <th>data</th>\n",
       "      <th>detalhamento</th>\n",
       "      <th>valor_reembolsado</th>\n",
       "    </tr>\n",
       "  </thead>\n",
       "  <tbody>\n",
       "    <tr>\n",
       "      <th>0</th>\n",
       "      <td>2017</td>\n",
       "      <td>1</td>\n",
       "      <td>ACIR GURGACZ</td>\n",
       "      <td>Aluguel de imóveis para escritório político, c...</td>\n",
       "      <td>05.914.650/0001-66</td>\n",
       "      <td>ELETROBRÁS DISTRIBUIÇÃO RONDÔNIA</td>\n",
       "      <td>000034079</td>\n",
       "      <td>18/01/2017</td>\n",
       "      <td>Despesa com pagamento de energia elétrica para...</td>\n",
       "      <td>97</td>\n",
       "    </tr>\n",
       "    <tr>\n",
       "      <th>1</th>\n",
       "      <td>2017</td>\n",
       "      <td>1</td>\n",
       "      <td>ACIR GURGACZ</td>\n",
       "      <td>Aluguel de imóveis para escritório político, c...</td>\n",
       "      <td>004.948.028-63</td>\n",
       "      <td>GILBERTO PISELO DO NASCIMENTO</td>\n",
       "      <td>001/17</td>\n",
       "      <td>17/01/2017</td>\n",
       "      <td>Despesa com aluguel de imóvel para uso do escr...</td>\n",
       "      <td>6000</td>\n",
       "    </tr>\n",
       "    <tr>\n",
       "      <th>2</th>\n",
       "      <td>2017</td>\n",
       "      <td>1</td>\n",
       "      <td>ACIR GURGACZ</td>\n",
       "      <td>Aluguel de imóveis para escritório político, c...</td>\n",
       "      <td>05.423.963/0001-11</td>\n",
       "      <td>OI MÓVEL S.A.</td>\n",
       "      <td>744526352</td>\n",
       "      <td>18/01/2017</td>\n",
       "      <td>Despesa com pagamento de telefone celular para...</td>\n",
       "      <td>418,04</td>\n",
       "    </tr>\n",
       "    <tr>\n",
       "      <th>3</th>\n",
       "      <td>2017</td>\n",
       "      <td>1</td>\n",
       "      <td>ACIR GURGACZ</td>\n",
       "      <td>Passagens aéreas, aquáticas e terrestres nacio...</td>\n",
       "      <td>13.419.034/0001-67</td>\n",
       "      <td>e-Destinos.com.br</td>\n",
       "      <td>2LLTII</td>\n",
       "      <td>23/01/2017</td>\n",
       "      <td>Companhia Aérea: LATAM, Localizador: 2LLTII. P...</td>\n",
       "      <td>1958,95</td>\n",
       "    </tr>\n",
       "    <tr>\n",
       "      <th>4</th>\n",
       "      <td>2017</td>\n",
       "      <td>1</td>\n",
       "      <td>ACIR GURGACZ</td>\n",
       "      <td>Passagens aéreas, aquáticas e terrestres nacio...</td>\n",
       "      <td>63.764.211/0001-10</td>\n",
       "      <td>TRANSCONTINENTAL AGÊNCIA DE VIAGENS LTDA</td>\n",
       "      <td>2QXSBC</td>\n",
       "      <td>24/01/2017</td>\n",
       "      <td>Companhia Aérea: LATAM, Localizador: 2QXSBC. P...</td>\n",
       "      <td>1178,67</td>\n",
       "    </tr>\n",
       "  </tbody>\n",
       "</table>\n",
       "</div>"
      ],
      "text/plain": [
       "    ano  mes       senador                                       tipo_despesa  \\\n",
       "0  2017    1  ACIR GURGACZ  Aluguel de imóveis para escritório político, c...   \n",
       "1  2017    1  ACIR GURGACZ  Aluguel de imóveis para escritório político, c...   \n",
       "2  2017    1  ACIR GURGACZ  Aluguel de imóveis para escritório político, c...   \n",
       "3  2017    1  ACIR GURGACZ  Passagens aéreas, aquáticas e terrestres nacio...   \n",
       "4  2017    1  ACIR GURGACZ  Passagens aéreas, aquáticas e terrestres nacio...   \n",
       "\n",
       "             cnpj_cpf                                fornecedor  documento  \\\n",
       "0  05.914.650/0001-66          ELETROBRÁS DISTRIBUIÇÃO RONDÔNIA  000034079   \n",
       "1      004.948.028-63             GILBERTO PISELO DO NASCIMENTO     001/17   \n",
       "2  05.423.963/0001-11                             OI MÓVEL S.A.  744526352   \n",
       "3  13.419.034/0001-67                         e-Destinos.com.br     2LLTII   \n",
       "4  63.764.211/0001-10  TRANSCONTINENTAL AGÊNCIA DE VIAGENS LTDA     2QXSBC   \n",
       "\n",
       "         data                                       detalhamento  \\\n",
       "0  18/01/2017  Despesa com pagamento de energia elétrica para...   \n",
       "1  17/01/2017  Despesa com aluguel de imóvel para uso do escr...   \n",
       "2  18/01/2017  Despesa com pagamento de telefone celular para...   \n",
       "3  23/01/2017  Companhia Aérea: LATAM, Localizador: 2LLTII. P...   \n",
       "4  24/01/2017  Companhia Aérea: LATAM, Localizador: 2QXSBC. P...   \n",
       "\n",
       "  valor_reembolsado  \n",
       "0                97  \n",
       "1              6000  \n",
       "2            418,04  \n",
       "3           1958,95  \n",
       "4           1178,67  "
      ]
     },
     "execution_count": 2,
     "metadata": {},
     "output_type": "execute_result"
    }
   ],
   "source": [
    "data.head()"
   ]
  },
  {
   "cell_type": "code",
   "execution_count": 3,
   "metadata": {},
   "outputs": [
    {
     "data": {
      "text/plain": [
       "ano                                                               2017\n",
       "mes                                                                  1\n",
       "senador                                                   ACIR GURGACZ\n",
       "tipo_despesa         Aluguel de imóveis para escritório político, c...\n",
       "cnpj_cpf                                            05.914.650/0001-66\n",
       "fornecedor                            ELETROBRÁS DISTRIBUIÇÃO RONDÔNIA\n",
       "documento                                                    000034079\n",
       "data                                                        18/01/2017\n",
       "detalhamento         Despesa com pagamento de energia elétrica para...\n",
       "valor_reembolsado                                                   97\n",
       "Name: 0, dtype: object"
      ]
     },
     "execution_count": 3,
     "metadata": {},
     "output_type": "execute_result"
    }
   ],
   "source": [
    "data.iloc[0]"
   ]
  },
  {
   "cell_type": "markdown",
   "metadata": {},
   "source": [
    "## Translating the dataset"
   ]
  },
  {
   "cell_type": "code",
   "execution_count": 4,
   "metadata": {
    "collapsed": true
   },
   "outputs": [],
   "source": [
    "data.rename(columns={\n",
    "        'ano': 'year',\n",
    "        'mes': 'month',\n",
    "        'senador': 'congressperson_name',\n",
    "        'tipo_despesa': 'expense_type',\n",
    "        'cnpj_cpf': 'cnpj_cpf',\n",
    "        'fornecedor': 'supplier',\n",
    "        'documento': 'document_id',\n",
    "        'data': 'date',\n",
    "        'detalhamento': 'expense_details',\n",
    "        'valor_reembolsado': 'reimbursement_value',\n",
    "    }, inplace=True)"
   ]
  },
  {
   "cell_type": "markdown",
   "metadata": {},
   "source": [
    "## Expense types translation"
   ]
  },
  {
   "cell_type": "code",
   "execution_count": 5,
   "metadata": {},
   "outputs": [
    {
     "data": {
      "text/plain": [
       "Index(['Aluguel de imóveis para escritório político, compreendendo despesas concernentes a eles.',\n",
       "       'Aquisição de material de consumo para uso no escritório político, inclusive aquisição ou locação de software, despesas postais, aquisição de publicações, locação de móveis e de equipamentos. ',\n",
       "       'Contratação de consultorias, assessorias, pesquisas, trabalhos técnicos e outros serviços de apoio ao exercício do mandato parlamentar',\n",
       "       'Divulgação da atividade parlamentar',\n",
       "       'Locomoção, hospedagem, alimentação, combustíveis e lubrificantes',\n",
       "       'Passagens aéreas, aquáticas e terrestres nacionais',\n",
       "       'Serviços de Segurança Privada'],\n",
       "      dtype='object')"
      ]
     },
     "execution_count": 5,
     "metadata": {},
     "output_type": "execute_result"
    }
   ],
   "source": [
    "data['expense_type'] = data['expense_type'].astype('category')\n",
    "data['expense_type'].cat.categories"
   ]
  },
  {
   "cell_type": "code",
   "execution_count": 6,
   "metadata": {},
   "outputs": [],
   "source": [
    "data['expense_type'].cat.rename_categories([\n",
    "        'Rent of real estate for political office, comprising expenses concerning them',\n",
    "        'Acquisition of consumables for use in the political office, including acquisition or leasing of software, postal expenses, acquisition of publications, rental of furniture and equipment',\n",
    "        'Recruitment of consultancies, advisory services, research, technical work and other services in support of the exercise of the parliamentary mandate',\n",
    "        'Publicity of parliamentary activity',\n",
    "        'Locomotion, lodging, food, fuels and lubricants',\n",
    "        'National air, water and land transport',\n",
    "        'Private Security Services',\n",
    "    ], inplace=True)"
   ]
  },
  {
   "cell_type": "code",
   "execution_count": 7,
   "metadata": {},
   "outputs": [
    {
     "data": {
      "text/html": [
       "<div>\n",
       "<table border=\"1\" class=\"dataframe\">\n",
       "  <thead>\n",
       "    <tr style=\"text-align: right;\">\n",
       "      <th></th>\n",
       "      <th>year</th>\n",
       "      <th>month</th>\n",
       "      <th>congressperson_name</th>\n",
       "      <th>expense_type</th>\n",
       "      <th>cnpj_cpf</th>\n",
       "      <th>supplier</th>\n",
       "      <th>document_id</th>\n",
       "      <th>date</th>\n",
       "      <th>expense_details</th>\n",
       "      <th>reimbursement_value</th>\n",
       "    </tr>\n",
       "  </thead>\n",
       "  <tbody>\n",
       "    <tr>\n",
       "      <th>0</th>\n",
       "      <td>2017</td>\n",
       "      <td>1</td>\n",
       "      <td>ACIR GURGACZ</td>\n",
       "      <td>Rent of real estate for political office, comp...</td>\n",
       "      <td>05.914.650/0001-66</td>\n",
       "      <td>ELETROBRÁS DISTRIBUIÇÃO RONDÔNIA</td>\n",
       "      <td>000034079</td>\n",
       "      <td>18/01/2017</td>\n",
       "      <td>Despesa com pagamento de energia elétrica para...</td>\n",
       "      <td>97</td>\n",
       "    </tr>\n",
       "    <tr>\n",
       "      <th>1</th>\n",
       "      <td>2017</td>\n",
       "      <td>1</td>\n",
       "      <td>ACIR GURGACZ</td>\n",
       "      <td>Rent of real estate for political office, comp...</td>\n",
       "      <td>004.948.028-63</td>\n",
       "      <td>GILBERTO PISELO DO NASCIMENTO</td>\n",
       "      <td>001/17</td>\n",
       "      <td>17/01/2017</td>\n",
       "      <td>Despesa com aluguel de imóvel para uso do escr...</td>\n",
       "      <td>6000</td>\n",
       "    </tr>\n",
       "    <tr>\n",
       "      <th>2</th>\n",
       "      <td>2017</td>\n",
       "      <td>1</td>\n",
       "      <td>ACIR GURGACZ</td>\n",
       "      <td>Rent of real estate for political office, comp...</td>\n",
       "      <td>05.423.963/0001-11</td>\n",
       "      <td>OI MÓVEL S.A.</td>\n",
       "      <td>744526352</td>\n",
       "      <td>18/01/2017</td>\n",
       "      <td>Despesa com pagamento de telefone celular para...</td>\n",
       "      <td>418,04</td>\n",
       "    </tr>\n",
       "    <tr>\n",
       "      <th>3</th>\n",
       "      <td>2017</td>\n",
       "      <td>1</td>\n",
       "      <td>ACIR GURGACZ</td>\n",
       "      <td>National air, water and land transport</td>\n",
       "      <td>13.419.034/0001-67</td>\n",
       "      <td>e-Destinos.com.br</td>\n",
       "      <td>2LLTII</td>\n",
       "      <td>23/01/2017</td>\n",
       "      <td>Companhia Aérea: LATAM, Localizador: 2LLTII. P...</td>\n",
       "      <td>1958,95</td>\n",
       "    </tr>\n",
       "    <tr>\n",
       "      <th>4</th>\n",
       "      <td>2017</td>\n",
       "      <td>1</td>\n",
       "      <td>ACIR GURGACZ</td>\n",
       "      <td>National air, water and land transport</td>\n",
       "      <td>63.764.211/0001-10</td>\n",
       "      <td>TRANSCONTINENTAL AGÊNCIA DE VIAGENS LTDA</td>\n",
       "      <td>2QXSBC</td>\n",
       "      <td>24/01/2017</td>\n",
       "      <td>Companhia Aérea: LATAM, Localizador: 2QXSBC. P...</td>\n",
       "      <td>1178,67</td>\n",
       "    </tr>\n",
       "  </tbody>\n",
       "</table>\n",
       "</div>"
      ],
      "text/plain": [
       "   year  month congressperson_name  \\\n",
       "0  2017      1        ACIR GURGACZ   \n",
       "1  2017      1        ACIR GURGACZ   \n",
       "2  2017      1        ACIR GURGACZ   \n",
       "3  2017      1        ACIR GURGACZ   \n",
       "4  2017      1        ACIR GURGACZ   \n",
       "\n",
       "                                        expense_type            cnpj_cpf  \\\n",
       "0  Rent of real estate for political office, comp...  05.914.650/0001-66   \n",
       "1  Rent of real estate for political office, comp...      004.948.028-63   \n",
       "2  Rent of real estate for political office, comp...  05.423.963/0001-11   \n",
       "3             National air, water and land transport  13.419.034/0001-67   \n",
       "4             National air, water and land transport  63.764.211/0001-10   \n",
       "\n",
       "                                   supplier document_id        date  \\\n",
       "0          ELETROBRÁS DISTRIBUIÇÃO RONDÔNIA   000034079  18/01/2017   \n",
       "1             GILBERTO PISELO DO NASCIMENTO      001/17  17/01/2017   \n",
       "2                             OI MÓVEL S.A.   744526352  18/01/2017   \n",
       "3                         e-Destinos.com.br      2LLTII  23/01/2017   \n",
       "4  TRANSCONTINENTAL AGÊNCIA DE VIAGENS LTDA      2QXSBC  24/01/2017   \n",
       "\n",
       "                                     expense_details reimbursement_value  \n",
       "0  Despesa com pagamento de energia elétrica para...                  97  \n",
       "1  Despesa com aluguel de imóvel para uso do escr...                6000  \n",
       "2  Despesa com pagamento de telefone celular para...              418,04  \n",
       "3  Companhia Aérea: LATAM, Localizador: 2LLTII. P...             1958,95  \n",
       "4  Companhia Aérea: LATAM, Localizador: 2QXSBC. P...             1178,67  "
      ]
     },
     "execution_count": 7,
     "metadata": {},
     "output_type": "execute_result"
    }
   ],
   "source": [
    "data.head()"
   ]
  },
  {
   "cell_type": "code",
   "execution_count": 8,
   "metadata": {},
   "outputs": [
    {
     "data": {
      "text/plain": [
       "year                                                                2017\n",
       "month                                                                  1\n",
       "congressperson_name                                         ACIR GURGACZ\n",
       "expense_type           Rent of real estate for political office, comp...\n",
       "cnpj_cpf                                              05.914.650/0001-66\n",
       "supplier                                ELETROBRÁS DISTRIBUIÇÃO RONDÔNIA\n",
       "document_id                                                    000034079\n",
       "date                                                          18/01/2017\n",
       "expense_details        Despesa com pagamento de energia elétrica para...\n",
       "reimbursement_value                                                   97\n",
       "Name: 0, dtype: object"
      ]
     },
     "execution_count": 8,
     "metadata": {},
     "output_type": "execute_result"
    }
   ],
   "source": [
    "data.iloc[0]"
   ]
  },
  {
   "cell_type": "markdown",
   "metadata": {
    "collapsed": true
   },
   "source": [
    "## Dataset properties\n",
    "The Federal Senate datasets are divided by years, we have data from the year `2008 - 2013`. It had experienced a few changes through time. So I'll be telling this dataset properties below:\n",
    "\n",
    "* Until 2013 there wasn't a expense details field, but the other older dataset already have this field, but empty.\n",
    "* Until 2010 there wasn't the `National air, water and land transport` and `Private Security Services` categories of expense type, so when we start translating all the data we need to check if the dataset has those categories.\n",
    "* Studying the datasets to what we are doing by now, we can start using the `cnpj_cpf` classifier from the begining, since the data is pretty good to use.\n",
    "\n",
    "This is a `work in progress` we are aiming to be adding it soon to our project."
   ]
  }
 ],
 "metadata": {
  "kernelspec": {
   "display_name": "Python 3",
   "language": "python",
   "name": "python3"
  },
  "language_info": {
   "codemirror_mode": {
    "name": "ipython",
    "version": 3
   },
   "file_extension": ".py",
   "mimetype": "text/x-python",
   "name": "python",
   "nbconvert_exporter": "python",
   "pygments_lexer": "ipython3",
   "version": "3.6.1"
  }
 },
 "nbformat": 4,
 "nbformat_minor": 2
}
