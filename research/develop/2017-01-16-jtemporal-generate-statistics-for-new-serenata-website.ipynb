{
 "cells": [
  {
   "cell_type": "markdown",
   "metadata": {},
   "source": [
    "# Generate statistics to be used on the new Serenata website\n",
    "\n",
    "Now in the end of the project we need some statistics for the new website.\n"
   ]
  },
  {
   "cell_type": "code",
   "execution_count": 3,
   "metadata": {
    "collapsed": true
   },
   "outputs": [],
   "source": [
    "import numpy as np\n",
    "import pandas as pd\n",
    "\n",
    "dataset = pd.read_csv('../data/2016-11-19-reimbursements.xz',\n",
    "                      dtype={'applicant_id': np.str,\n",
    "                             'cnpj_cpf': np.str,\n",
    "                             'congressperson_id': np.str,\n",
    "                             'subquota_number': np.str},\n",
    "                      low_memory=False)"
   ]
  },
  {
   "cell_type": "markdown",
   "metadata": {},
   "source": [
    "We will need formated data for the analysis down the road:"
   ]
  },
  {
   "cell_type": "code",
   "execution_count": 4,
   "metadata": {
    "collapsed": true
   },
   "outputs": [],
   "source": [
    "dataset['issue_date'] = pd.to_datetime(dataset['issue_date'], errors='coerce')\n",
    "dataset['issue_date_day'] = dataset['issue_date'].apply(lambda date: date.day)\n",
    "dataset['issue_date_month'] = dataset['issue_date'].apply(lambda date: date.month)\n",
    "dataset['issue_date_year'] = dataset['issue_date'].apply(lambda date: date.year)\n",
    "dataset['issue_date_weekday'] = dataset['issue_date'].apply(lambda date: date.weekday())\n",
    "dataset['issue_date_week'] = dataset['issue_date'].apply(lambda date: date.week)"
   ]
  },
  {
   "cell_type": "markdown",
   "metadata": {},
   "source": [
    "## Total spent in one year\n",
    "\n",
    "We want to see how much was spent in reimbursements in one year.\n",
    "The dataset goes from 2009 to 2016."
   ]
  },
  {
   "cell_type": "code",
   "execution_count": 3,
   "metadata": {
    "collapsed": false
   },
   "outputs": [
    {
     "name": "stdout",
     "output_type": "stream",
     "text": [
      "2009 :  90246572.85\n",
      "2010 :  120169686.2\n",
      "2011 :  123799712.0\n",
      "2012 :  122853241.79\n",
      "2013 :  134535007.65\n",
      "2014 :  143424839.27\n",
      "2015 :  160374692.14\n",
      "2016 :  134616207.06\n"
     ]
    }
   ],
   "source": [
    "years = [2009, 2010, 2011, 2012, 2013, 2014, 2015, 2016]\n",
    "for i in years:\n",
    "    print(i, ': ', sum(dataset[dataset['issue_date_year'] == i]['total_net_value']))"
   ]
  },
  {
   "cell_type": "markdown",
   "metadata": {},
   "source": [
    "And the average considering all eight years:"
   ]
  },
  {
   "cell_type": "code",
   "execution_count": 4,
   "metadata": {
    "collapsed": false
   },
   "outputs": [
    {
     "data": {
      "text/plain": [
       "128767695.58984885"
      ]
     },
     "execution_count": 4,
     "metadata": {},
     "output_type": "execute_result"
    }
   ],
   "source": [
    "sum(dataset['total_net_value']) / 8"
   ]
  },
  {
   "cell_type": "markdown",
   "metadata": {},
   "source": [
    "Would be nice to know on average how much is spent in one day of reibursments for one congress person"
   ]
  },
  {
   "cell_type": "code",
   "execution_count": 5,
   "metadata": {
    "collapsed": false
   },
   "outputs": [
    {
     "name": "stdout",
     "output_type": "stream",
     "text": [
      "122.9\n"
     ]
    }
   ],
   "source": [
    "keys = ['congressperson_name', 'issue_date']                                    \n",
    "aggregation = dataset.groupby(keys)['total_net_value']. \\\n",
    "            agg({'sum': np.sum, 'expenses': len, 'median': np.median})\n",
    "aggregation['expenses'] = aggregation['expenses'].astype(np.int)\n",
    "print(aggregation['median'].median())"
   ]
  },
  {
   "cell_type": "markdown",
   "metadata": {},
   "source": [
    "## Some subquotas\n",
    "### Meals"
   ]
  },
  {
   "cell_type": "code",
   "execution_count": 7,
   "metadata": {
    "collapsed": false
   },
   "outputs": [
    {
     "data": {
      "text/plain": [
       "(191724, 36)"
      ]
     },
     "execution_count": 7,
     "metadata": {},
     "output_type": "execute_result"
    }
   ],
   "source": [
    "meals_dataset = dataset[dataset['subquota_description'] == 'Congressperson meal']\n",
    "meals_dataset.shape"
   ]
  },
  {
   "cell_type": "code",
   "execution_count": 8,
   "metadata": {
    "collapsed": false
   },
   "outputs": [
    {
     "data": {
      "text/html": [
       "<div>\n",
       "<table border=\"1\" class=\"dataframe\">\n",
       "  <thead>\n",
       "    <tr style=\"text-align: right;\">\n",
       "      <th></th>\n",
       "      <th>year</th>\n",
       "      <th>applicant_id</th>\n",
       "      <th>document_id</th>\n",
       "      <th>reimbursement_value_total</th>\n",
       "      <th>total_net_value</th>\n",
       "      <th>reimbursement_numbers</th>\n",
       "      <th>congressperson_name</th>\n",
       "      <th>congressperson_id</th>\n",
       "      <th>congressperson_document</th>\n",
       "      <th>term</th>\n",
       "      <th>...</th>\n",
       "      <th>installment</th>\n",
       "      <th>passenger</th>\n",
       "      <th>leg_of_the_trip</th>\n",
       "      <th>batch_number</th>\n",
       "      <th>reimbursement_values</th>\n",
       "      <th>issue_date_day</th>\n",
       "      <th>issue_date_month</th>\n",
       "      <th>issue_date_year</th>\n",
       "      <th>issue_date_weekday</th>\n",
       "      <th>issue_date_week</th>\n",
       "    </tr>\n",
       "  </thead>\n",
       "  <tbody>\n",
       "    <tr>\n",
       "      <th>159</th>\n",
       "      <td>2009</td>\n",
       "      <td>1001</td>\n",
       "      <td>1627199</td>\n",
       "      <td>NaN</td>\n",
       "      <td>122.43</td>\n",
       "      <td>2986</td>\n",
       "      <td>DILCEU SPERAFICO</td>\n",
       "      <td>73768</td>\n",
       "      <td>444.0</td>\n",
       "      <td>2015.0</td>\n",
       "      <td>...</td>\n",
       "      <td>0</td>\n",
       "      <td>NaN</td>\n",
       "      <td>NaN</td>\n",
       "      <td>410209</td>\n",
       "      <td>NaN</td>\n",
       "      <td>7.0</td>\n",
       "      <td>7.0</td>\n",
       "      <td>2009.0</td>\n",
       "      <td>1.0</td>\n",
       "      <td>28.0</td>\n",
       "    </tr>\n",
       "    <tr>\n",
       "      <th>196</th>\n",
       "      <td>2009</td>\n",
       "      <td>1001</td>\n",
       "      <td>1635276</td>\n",
       "      <td>NaN</td>\n",
       "      <td>78.00</td>\n",
       "      <td>3006</td>\n",
       "      <td>DILCEU SPERAFICO</td>\n",
       "      <td>73768</td>\n",
       "      <td>444.0</td>\n",
       "      <td>2015.0</td>\n",
       "      <td>...</td>\n",
       "      <td>0</td>\n",
       "      <td>NaN</td>\n",
       "      <td>NaN</td>\n",
       "      <td>412206</td>\n",
       "      <td>NaN</td>\n",
       "      <td>22.0</td>\n",
       "      <td>7.0</td>\n",
       "      <td>2009.0</td>\n",
       "      <td>2.0</td>\n",
       "      <td>30.0</td>\n",
       "    </tr>\n",
       "    <tr>\n",
       "      <th>380</th>\n",
       "      <td>2009</td>\n",
       "      <td>1001</td>\n",
       "      <td>1709015</td>\n",
       "      <td>NaN</td>\n",
       "      <td>76.45</td>\n",
       "      <td>3112</td>\n",
       "      <td>DILCEU SPERAFICO</td>\n",
       "      <td>73768</td>\n",
       "      <td>444.0</td>\n",
       "      <td>2015.0</td>\n",
       "      <td>...</td>\n",
       "      <td>0</td>\n",
       "      <td>NaN</td>\n",
       "      <td>NaN</td>\n",
       "      <td>433750</td>\n",
       "      <td>NaN</td>\n",
       "      <td>29.0</td>\n",
       "      <td>10.0</td>\n",
       "      <td>2009.0</td>\n",
       "      <td>3.0</td>\n",
       "      <td>44.0</td>\n",
       "    </tr>\n",
       "    <tr>\n",
       "      <th>407</th>\n",
       "      <td>2009</td>\n",
       "      <td>1001</td>\n",
       "      <td>1722100</td>\n",
       "      <td>NaN</td>\n",
       "      <td>68.88</td>\n",
       "      <td>3129</td>\n",
       "      <td>DILCEU SPERAFICO</td>\n",
       "      <td>73768</td>\n",
       "      <td>444.0</td>\n",
       "      <td>2015.0</td>\n",
       "      <td>...</td>\n",
       "      <td>0</td>\n",
       "      <td>NaN</td>\n",
       "      <td>NaN</td>\n",
       "      <td>437649</td>\n",
       "      <td>NaN</td>\n",
       "      <td>12.0</td>\n",
       "      <td>11.0</td>\n",
       "      <td>2009.0</td>\n",
       "      <td>3.0</td>\n",
       "      <td>46.0</td>\n",
       "    </tr>\n",
       "    <tr>\n",
       "      <th>414</th>\n",
       "      <td>2009</td>\n",
       "      <td>1001</td>\n",
       "      <td>1726433</td>\n",
       "      <td>NaN</td>\n",
       "      <td>104.15</td>\n",
       "      <td>3133</td>\n",
       "      <td>DILCEU SPERAFICO</td>\n",
       "      <td>73768</td>\n",
       "      <td>444.0</td>\n",
       "      <td>2015.0</td>\n",
       "      <td>...</td>\n",
       "      <td>0</td>\n",
       "      <td>NaN</td>\n",
       "      <td>NaN</td>\n",
       "      <td>438905</td>\n",
       "      <td>NaN</td>\n",
       "      <td>19.0</td>\n",
       "      <td>11.0</td>\n",
       "      <td>2009.0</td>\n",
       "      <td>3.0</td>\n",
       "      <td>47.0</td>\n",
       "    </tr>\n",
       "  </tbody>\n",
       "</table>\n",
       "<p>5 rows × 36 columns</p>\n",
       "</div>"
      ],
      "text/plain": [
       "     year applicant_id  document_id  reimbursement_value_total  \\\n",
       "159  2009         1001      1627199                        NaN   \n",
       "196  2009         1001      1635276                        NaN   \n",
       "380  2009         1001      1709015                        NaN   \n",
       "407  2009         1001      1722100                        NaN   \n",
       "414  2009         1001      1726433                        NaN   \n",
       "\n",
       "     total_net_value reimbursement_numbers congressperson_name  \\\n",
       "159           122.43                  2986    DILCEU SPERAFICO   \n",
       "196            78.00                  3006    DILCEU SPERAFICO   \n",
       "380            76.45                  3112    DILCEU SPERAFICO   \n",
       "407            68.88                  3129    DILCEU SPERAFICO   \n",
       "414           104.15                  3133    DILCEU SPERAFICO   \n",
       "\n",
       "    congressperson_id  congressperson_document    term       ...        \\\n",
       "159             73768                    444.0  2015.0       ...         \n",
       "196             73768                    444.0  2015.0       ...         \n",
       "380             73768                    444.0  2015.0       ...         \n",
       "407             73768                    444.0  2015.0       ...         \n",
       "414             73768                    444.0  2015.0       ...         \n",
       "\n",
       "    installment passenger  leg_of_the_trip batch_number reimbursement_values  \\\n",
       "159           0       NaN              NaN       410209                  NaN   \n",
       "196           0       NaN              NaN       412206                  NaN   \n",
       "380           0       NaN              NaN       433750                  NaN   \n",
       "407           0       NaN              NaN       437649                  NaN   \n",
       "414           0       NaN              NaN       438905                  NaN   \n",
       "\n",
       "     issue_date_day issue_date_month issue_date_year issue_date_weekday  \\\n",
       "159             7.0              7.0          2009.0                1.0   \n",
       "196            22.0              7.0          2009.0                2.0   \n",
       "380            29.0             10.0          2009.0                3.0   \n",
       "407            12.0             11.0          2009.0                3.0   \n",
       "414            19.0             11.0          2009.0                3.0   \n",
       "\n",
       "    issue_date_week  \n",
       "159            28.0  \n",
       "196            30.0  \n",
       "380            44.0  \n",
       "407            46.0  \n",
       "414            47.0  \n",
       "\n",
       "[5 rows x 36 columns]"
      ]
     },
     "execution_count": 8,
     "metadata": {},
     "output_type": "execute_result"
    }
   ],
   "source": [
    "meals_dataset.head()"
   ]
  },
  {
   "cell_type": "markdown",
   "metadata": {},
   "source": [
    "I want to find which was the highest value reimbursed to a congress person\n",
    "for one meal"
   ]
  },
  {
   "cell_type": "code",
   "execution_count": 9,
   "metadata": {
    "collapsed": false
   },
   "outputs": [
    {
     "data": {
      "text/plain": [
       "6205.0"
      ]
     },
     "execution_count": 9,
     "metadata": {},
     "output_type": "execute_result"
    }
   ],
   "source": [
    "max(meals_dataset['total_net_value'])"
   ]
  },
  {
   "cell_type": "markdown",
   "metadata": {},
   "source": [
    "Now let's check what was top meal reibursments made in one day\n",
    "highest number of meals reibursments in one day"
   ]
  },
  {
   "cell_type": "code",
   "execution_count": 11,
   "metadata": {
    "collapsed": false
   },
   "outputs": [
    {
     "data": {
      "text/plain": [
       "13"
      ]
     },
     "execution_count": 11,
     "metadata": {},
     "output_type": "execute_result"
    }
   ],
   "source": [
    "keys = ['congressperson_name', 'issue_date']\n",
    "meals_aggregation = meals_dataset.groupby(keys)['total_net_value'].agg({'sum': np.sum, 'expenses': len, 'mean': np.mean})\n",
    "meals_aggregation['expenses'] = meals_aggregation['expenses'].astype(np.int)\n",
    "meals_aggregation.sort_values(['expenses', 'sum'], ascending=[False, False]).head(10)\n",
    "max(meals_aggregation['expenses'])"
   ]
  },
  {
   "cell_type": "markdown",
   "metadata": {},
   "source": [
    "## Other sub-quotas\n",
    "Not all sub-quotas have an ceiling (e.g.: Congressperson Meal), considering these four that have,\n",
    "how many congress people use the whole sub-quota monthly"
   ]
  },
  {
   "cell_type": "code",
   "execution_count": 13,
   "metadata": {
    "collapsed": false
   },
   "outputs": [
    {
     "name": "stdout",
     "output_type": "stream",
     "text": [
      "Fuels and lubricants 156\n",
      "Taxi, toll and parking 5\n",
      "Security service provided by specialized company 9\n",
      "Automotive vehicle renting or charter 49\n"
     ]
    }
   ],
   "source": [
    "SUB_QUOTAS = {\n",
    "        'Fuels and lubricants': 6000,\n",
    "        'Automotive vehicle renting or charter': 10900,\n",
    "        'Taxi, toll and parking': 2700,\n",
    "        'Security service provided by specialized company': 8700,\n",
    "}\n",
    "\n",
    "keys = ['congressperson_name', 'issue_date_month', 'issue_date_year']\n",
    "for i in SUB_QUOTAS:\n",
    "    subquotas = dataset\n",
    "    subquotas = subquotas[subquotas['subquota_description'] == i]\n",
    "    subquotas_agg = subquotas.groupby(keys)['total_net_value'].agg({'sum': np.sum, 'expenses': len, 'mean': np.mean})              \n",
    "    subquotas_agg['expenses'] = subquotas_agg['expenses'].astype(np.int)\n",
    "    subquotas_agg = subquotas_agg[subquotas_agg['sum'] == SUB_QUOTAS[i]]\n",
    "    print(i, len(set(list(subquotas_agg.index.get_level_values(0)))))"
   ]
  },
  {
   "cell_type": "code",
   "execution_count": null,
   "metadata": {
    "collapsed": true
   },
   "outputs": [],
   "source": []
  }
 ],
 "metadata": {
  "anaconda-cloud": {},
  "kernelspec": {
   "display_name": "Python [default]",
   "language": "python",
   "name": "python3"
  },
  "language_info": {
   "codemirror_mode": {
    "name": "ipython",
    "version": 3
   },
   "file_extension": ".py",
   "mimetype": "text/x-python",
   "name": "python",
   "nbconvert_exporter": "python",
   "pygments_lexer": "ipython3",
   "version": "3.5.2"
  }
 },
 "nbformat": 4,
 "nbformat_minor": 1
}
