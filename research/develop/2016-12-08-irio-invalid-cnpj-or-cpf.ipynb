{
 "cells": [
  {
   "cell_type": "markdown",
   "metadata": {},
   "source": [
    "# Invalid CNPJ or CPF\n",
    "\n",
    "`cnpj_cpf` is the column identifying the company or individual who received the payment made by the congressperson. Having this value empty should mean that it's an expense made outside Brazil, with a company (or person) without a Brazilian ID."
   ]
  },
  {
   "cell_type": "code",
   "execution_count": 1,
   "metadata": {
    "collapsed": false
   },
   "outputs": [
    {
     "data": {
      "text/plain": [
       "(1532491, 31)"
      ]
     },
     "execution_count": 1,
     "metadata": {},
     "output_type": "execute_result"
    }
   ],
   "source": [
    "import numpy as np\n",
    "import pandas as pd\n",
    "\n",
    "dataset = pd.read_csv('../data/2016-11-19-reimbursements.xz',\n",
    "                      dtype={'applicant_id': np.str,\n",
    "                             'cnpj_cpf': np.str,\n",
    "                             'congressperson_id': np.str,\n",
    "                             'subquota_number': np.str},\n",
    "                      low_memory=False)\n",
    "dataset.shape"
   ]
  },
  {
   "cell_type": "code",
   "execution_count": 2,
   "metadata": {
    "collapsed": false
   },
   "outputs": [],
   "source": [
    "from pycpfcnpj import cpfcnpj\n",
    "\n",
    "def validate_cnpj_cpf(cnpj_or_cpf):\n",
    "    return (cnpj_or_cpf == None) | cpfcnpj.validate(cnpj_or_cpf)\n",
    "\n",
    "\n",
    "\n",
    "cnpj_cpf_list = dataset['cnpj_cpf'].astype(np.str).replace('nan', None)\n",
    "dataset['valid_cnpj_cpf'] = np.vectorize(validate_cnpj_cpf)(cnpj_cpf_list)"
   ]
  },
  {
   "cell_type": "markdown",
   "metadata": {},
   "source": [
    "`document_type` 2 means expenses made abroad."
   ]
  },
  {
   "cell_type": "code",
   "execution_count": 3,
   "metadata": {
    "collapsed": false
   },
   "outputs": [
    {
     "data": {
      "text/html": [
       "<div>\n",
       "<table border=\"1\" class=\"dataframe\">\n",
       "  <thead>\n",
       "    <tr style=\"text-align: right;\">\n",
       "      <th></th>\n",
       "      <th>year</th>\n",
       "      <th>applicant_id</th>\n",
       "      <th>document_id</th>\n",
       "      <th>total_net_value</th>\n",
       "      <th>cnpj_cpf</th>\n",
       "      <th>supplier</th>\n",
       "      <th>document_type</th>\n",
       "    </tr>\n",
       "  </thead>\n",
       "  <tbody>\n",
       "    <tr>\n",
       "      <th>53466</th>\n",
       "      <td>2009</td>\n",
       "      <td>1607</td>\n",
       "      <td>1748889</td>\n",
       "      <td>123.57</td>\n",
       "      <td>11111111111</td>\n",
       "      <td>CAP HORN</td>\n",
       "      <td>0</td>\n",
       "    </tr>\n",
       "    <tr>\n",
       "      <th>53467</th>\n",
       "      <td>2009</td>\n",
       "      <td>1607</td>\n",
       "      <td>1748896</td>\n",
       "      <td>100.25</td>\n",
       "      <td>11111111111</td>\n",
       "      <td>CAP HORN</td>\n",
       "      <td>0</td>\n",
       "    </tr>\n",
       "    <tr>\n",
       "      <th>53468</th>\n",
       "      <td>2009</td>\n",
       "      <td>1607</td>\n",
       "      <td>1748909</td>\n",
       "      <td>229.25</td>\n",
       "      <td>11111111111</td>\n",
       "      <td>DENSKALDEDEKOK  RESTAURANT</td>\n",
       "      <td>0</td>\n",
       "    </tr>\n",
       "    <tr>\n",
       "      <th>53469</th>\n",
       "      <td>2009</td>\n",
       "      <td>1607</td>\n",
       "      <td>1748911</td>\n",
       "      <td>18.89</td>\n",
       "      <td>11111111111</td>\n",
       "      <td>BELLA CENTER</td>\n",
       "      <td>0</td>\n",
       "    </tr>\n",
       "    <tr>\n",
       "      <th>53470</th>\n",
       "      <td>2009</td>\n",
       "      <td>1607</td>\n",
       "      <td>1748915</td>\n",
       "      <td>581.85</td>\n",
       "      <td>11111111111</td>\n",
       "      <td>FIRST HOTEL SKT. PETRI</td>\n",
       "      <td>0</td>\n",
       "    </tr>\n",
       "    <tr>\n",
       "      <th>284494</th>\n",
       "      <td>2010</td>\n",
       "      <td>184</td>\n",
       "      <td>1987827</td>\n",
       "      <td>2974.63</td>\n",
       "      <td>11111111111</td>\n",
       "      <td>AKA CENTRAL PARK - NEW YORK</td>\n",
       "      <td>0</td>\n",
       "    </tr>\n",
       "    <tr>\n",
       "      <th>284495</th>\n",
       "      <td>2010</td>\n",
       "      <td>184</td>\n",
       "      <td>1987829</td>\n",
       "      <td>2974.63</td>\n",
       "      <td>11111111111</td>\n",
       "      <td>AKA CENTRAL PARK - NEW YORK</td>\n",
       "      <td>0</td>\n",
       "    </tr>\n",
       "    <tr>\n",
       "      <th>527753</th>\n",
       "      <td>2011</td>\n",
       "      <td>2329</td>\n",
       "      <td>2085477</td>\n",
       "      <td>190.74</td>\n",
       "      <td>00000000000000</td>\n",
       "      <td>PREFEITURA MUNICIPAL DE FORTALEZA</td>\n",
       "      <td>0</td>\n",
       "    </tr>\n",
       "    <tr>\n",
       "      <th>552301</th>\n",
       "      <td>2011</td>\n",
       "      <td>2387</td>\n",
       "      <td>2055025</td>\n",
       "      <td>372.72</td>\n",
       "      <td>00000000000</td>\n",
       "      <td>TAM LINHAS AREAS S/A</td>\n",
       "      <td>0</td>\n",
       "    </tr>\n",
       "    <tr>\n",
       "      <th>552775</th>\n",
       "      <td>2011</td>\n",
       "      <td>2387</td>\n",
       "      <td>2209688</td>\n",
       "      <td>290.91</td>\n",
       "      <td>00000000000</td>\n",
       "      <td>CONDOMINIO CENTRO EMPRESARIAL IGUATEMI</td>\n",
       "      <td>1</td>\n",
       "    </tr>\n",
       "  </tbody>\n",
       "</table>\n",
       "</div>"
      ],
      "text/plain": [
       "        year applicant_id  document_id  total_net_value        cnpj_cpf  \\\n",
       "53466   2009         1607      1748889           123.57     11111111111   \n",
       "53467   2009         1607      1748896           100.25     11111111111   \n",
       "53468   2009         1607      1748909           229.25     11111111111   \n",
       "53469   2009         1607      1748911            18.89     11111111111   \n",
       "53470   2009         1607      1748915           581.85     11111111111   \n",
       "284494  2010          184      1987827          2974.63     11111111111   \n",
       "284495  2010          184      1987829          2974.63     11111111111   \n",
       "527753  2011         2329      2085477           190.74  00000000000000   \n",
       "552301  2011         2387      2055025           372.72     00000000000   \n",
       "552775  2011         2387      2209688           290.91     00000000000   \n",
       "\n",
       "                                      supplier  document_type  \n",
       "53466                                 CAP HORN              0  \n",
       "53467                                 CAP HORN              0  \n",
       "53468               DENSKALDEDEKOK  RESTAURANT              0  \n",
       "53469                             BELLA CENTER              0  \n",
       "53470                   FIRST HOTEL SKT. PETRI              0  \n",
       "284494             AKA CENTRAL PARK - NEW YORK              0  \n",
       "284495             AKA CENTRAL PARK - NEW YORK              0  \n",
       "527753       PREFEITURA MUNICIPAL DE FORTALEZA              0  \n",
       "552301                    TAM LINHAS AREAS S/A              0  \n",
       "552775  CONDOMINIO CENTRO EMPRESARIAL IGUATEMI              1  "
      ]
     },
     "execution_count": 3,
     "metadata": {},
     "output_type": "execute_result"
    }
   ],
   "source": [
    "keys = ['year',\n",
    "        'applicant_id',\n",
    "        'document_id',\n",
    "        'total_net_value',\n",
    "        'cnpj_cpf',\n",
    "        'supplier',\n",
    "        'document_type']\n",
    "dataset.query('document_type != 2').loc[~dataset['valid_cnpj_cpf'], keys]"
   ]
  },
  {
   "cell_type": "markdown",
   "metadata": {},
   "source": [
    "With 1,532,491 records in the dataset and just 10 with invalid CNPJ/CPF, we can probably assume that the Chamber of Deputies has a validation in the tool where the congressperson requests for reimbursements. These represent a mistake in the implemented algorithm."
   ]
  },
  {
   "cell_type": "code",
   "execution_count": null,
   "metadata": {
    "collapsed": true
   },
   "outputs": [],
   "source": []
  }
 ],
 "metadata": {
  "kernelspec": {
   "display_name": "Python 3",
   "language": "python3",
   "name": "python3"
  },
  "language_info": {
   "codemirror_mode": {
    "name": "ipython",
    "version": 3
   },
   "file_extension": ".py",
   "mimetype": "text/x-python",
   "name": "python",
   "nbconvert_exporter": "python",
   "pygments_lexer": "ipython3",
   "version": "3.5.2"
  }
 },
 "nbformat": 4,
 "nbformat_minor": 0
}
