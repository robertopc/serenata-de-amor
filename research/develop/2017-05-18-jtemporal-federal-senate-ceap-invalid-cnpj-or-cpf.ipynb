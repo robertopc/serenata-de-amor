{
 "cells": [
  {
   "cell_type": "markdown",
   "metadata": {},
   "source": [
    "# Invalid CNPJ or CPF from Federal Senate CEAP\n",
    "\n",
    "`cnpj_cpf` is the column identifying the company or individual who received the payment made by the congressperson. Having this value empty should mean that it's an expense made outside Brazil, with a company (or person) without a Brazilian ID."
   ]
  },
  {
   "cell_type": "code",
   "execution_count": 1,
   "metadata": {},
   "outputs": [
    {
     "name": "stderr",
     "output_type": "stream",
     "text": [
      "Downloading 2017-05-22-federal-senate-reimbursements.xz: 100%|██████████| 3.59M/3.59M [00:00<00:00, 6.14Mb/s]\n"
     ]
    }
   ],
   "source": [
    "import numpy as np\n",
    "import pandas as pd\n",
    "\n",
    "from serenata_toolbox.datasets import fetch\n",
    "\n",
    "fetch('2017-05-22-federal-senate-reimbursements.xz', '../data/')"
   ]
  },
  {
   "cell_type": "code",
   "execution_count": 2,
   "metadata": {
    "collapsed": true
   },
   "outputs": [],
   "source": [
    "dataset = pd.read_csv('../data/2017-05-22-federal-senate-reimbursements.xz',\\\n",
    "                      converters={'cnpj_cpf': np.str}, encoding = 'utf-8')"
   ]
  },
  {
   "cell_type": "code",
   "execution_count": 3,
   "metadata": {},
   "outputs": [
    {
     "data": {
      "text/html": [
       "<div>\n",
       "<style>\n",
       "    .dataframe thead tr:only-child th {\n",
       "        text-align: right;\n",
       "    }\n",
       "\n",
       "    .dataframe thead th {\n",
       "        text-align: left;\n",
       "    }\n",
       "\n",
       "    .dataframe tbody tr th {\n",
       "        vertical-align: top;\n",
       "    }\n",
       "</style>\n",
       "<table border=\"1\" class=\"dataframe\">\n",
       "  <thead>\n",
       "    <tr style=\"text-align: right;\">\n",
       "      <th></th>\n",
       "      <th>year</th>\n",
       "      <th>month</th>\n",
       "      <th>congressperson_name</th>\n",
       "      <th>expense_type</th>\n",
       "      <th>cnpj_cpf</th>\n",
       "      <th>supplier</th>\n",
       "      <th>document_id</th>\n",
       "      <th>date</th>\n",
       "      <th>expense_details</th>\n",
       "      <th>reimbursement_value</th>\n",
       "    </tr>\n",
       "  </thead>\n",
       "  <tbody>\n",
       "    <tr>\n",
       "      <th>0</th>\n",
       "      <td>2008</td>\n",
       "      <td>9</td>\n",
       "      <td>ADA MELLO</td>\n",
       "      <td>Recruitment of consultancies, advisory service...</td>\n",
       "      <td></td>\n",
       "      <td>NaN</td>\n",
       "      <td>NaN</td>\n",
       "      <td>NaN</td>\n",
       "      <td>NaN</td>\n",
       "      <td>12351,52</td>\n",
       "    </tr>\n",
       "    <tr>\n",
       "      <th>1</th>\n",
       "      <td>2008</td>\n",
       "      <td>9</td>\n",
       "      <td>ADA MELLO</td>\n",
       "      <td>Locomotion, lodging, food, fuels and lubricants</td>\n",
       "      <td></td>\n",
       "      <td>NaN</td>\n",
       "      <td>NaN</td>\n",
       "      <td>NaN</td>\n",
       "      <td>NaN</td>\n",
       "      <td>386,6</td>\n",
       "    </tr>\n",
       "    <tr>\n",
       "      <th>2</th>\n",
       "      <td>2008</td>\n",
       "      <td>10</td>\n",
       "      <td>ADA MELLO</td>\n",
       "      <td>Recruitment of consultancies, advisory service...</td>\n",
       "      <td></td>\n",
       "      <td>NaN</td>\n",
       "      <td>NaN</td>\n",
       "      <td>NaN</td>\n",
       "      <td>NaN</td>\n",
       "      <td>12351,52</td>\n",
       "    </tr>\n",
       "    <tr>\n",
       "      <th>3</th>\n",
       "      <td>2008</td>\n",
       "      <td>10</td>\n",
       "      <td>ADA MELLO</td>\n",
       "      <td>Locomotion, lodging, food, fuels and lubricants</td>\n",
       "      <td></td>\n",
       "      <td>NaN</td>\n",
       "      <td>NaN</td>\n",
       "      <td>NaN</td>\n",
       "      <td>NaN</td>\n",
       "      <td>2610,68</td>\n",
       "    </tr>\n",
       "    <tr>\n",
       "      <th>4</th>\n",
       "      <td>2008</td>\n",
       "      <td>11</td>\n",
       "      <td>ADA MELLO</td>\n",
       "      <td>Recruitment of consultancies, advisory service...</td>\n",
       "      <td></td>\n",
       "      <td>NaN</td>\n",
       "      <td>NaN</td>\n",
       "      <td>NaN</td>\n",
       "      <td>NaN</td>\n",
       "      <td>12351,52</td>\n",
       "    </tr>\n",
       "  </tbody>\n",
       "</table>\n",
       "</div>"
      ],
      "text/plain": [
       "   year  month congressperson_name  \\\n",
       "0  2008      9           ADA MELLO   \n",
       "1  2008      9           ADA MELLO   \n",
       "2  2008     10           ADA MELLO   \n",
       "3  2008     10           ADA MELLO   \n",
       "4  2008     11           ADA MELLO   \n",
       "\n",
       "                                        expense_type cnpj_cpf supplier  \\\n",
       "0  Recruitment of consultancies, advisory service...               NaN   \n",
       "1    Locomotion, lodging, food, fuels and lubricants               NaN   \n",
       "2  Recruitment of consultancies, advisory service...               NaN   \n",
       "3    Locomotion, lodging, food, fuels and lubricants               NaN   \n",
       "4  Recruitment of consultancies, advisory service...               NaN   \n",
       "\n",
       "  document_id date expense_details reimbursement_value  \n",
       "0         NaN  NaN             NaN            12351,52  \n",
       "1         NaN  NaN             NaN               386,6  \n",
       "2         NaN  NaN             NaN            12351,52  \n",
       "3         NaN  NaN             NaN             2610,68  \n",
       "4         NaN  NaN             NaN            12351,52  "
      ]
     },
     "execution_count": 3,
     "metadata": {},
     "output_type": "execute_result"
    }
   ],
   "source": [
    "dataset = dataset[dataset['cnpj_cpf'].notnull()]\n",
    "dataset.head()"
   ]
  },
  {
   "cell_type": "code",
   "execution_count": 4,
   "metadata": {
    "collapsed": true
   },
   "outputs": [],
   "source": [
    "from pycpfcnpj import cpfcnpj\n",
    "\n",
    "def validate_cnpj_cpf(cnpj_or_cpf):\n",
    "    return (cnpj_or_cpf == None) | cpfcnpj.validate(cnpj_or_cpf)\n",
    "\n",
    "\n",
    "\n",
    "cnpj_cpf_list = dataset['cnpj_cpf'].astype(np.str).replace('nan', None)\n",
    "dataset['valid_cnpj_cpf'] = np.vectorize(validate_cnpj_cpf)(cnpj_cpf_list)"
   ]
  },
  {
   "cell_type": "code",
   "execution_count": 5,
   "metadata": {},
   "outputs": [
    {
     "data": {
      "text/html": [
       "<div>\n",
       "<style>\n",
       "    .dataframe thead tr:only-child th {\n",
       "        text-align: right;\n",
       "    }\n",
       "\n",
       "    .dataframe thead th {\n",
       "        text-align: left;\n",
       "    }\n",
       "\n",
       "    .dataframe tbody tr th {\n",
       "        vertical-align: top;\n",
       "    }\n",
       "</style>\n",
       "<table border=\"1\" class=\"dataframe\">\n",
       "  <thead>\n",
       "    <tr style=\"text-align: right;\">\n",
       "      <th></th>\n",
       "      <th>year</th>\n",
       "      <th>month</th>\n",
       "      <th>congressperson_name</th>\n",
       "      <th>expense_type</th>\n",
       "      <th>cnpj_cpf</th>\n",
       "      <th>supplier</th>\n",
       "      <th>document_id</th>\n",
       "      <th>date</th>\n",
       "      <th>expense_details</th>\n",
       "      <th>reimbursement_value</th>\n",
       "      <th>valid_cnpj_cpf</th>\n",
       "    </tr>\n",
       "  </thead>\n",
       "  <tbody>\n",
       "    <tr>\n",
       "      <th>0</th>\n",
       "      <td>2008</td>\n",
       "      <td>9</td>\n",
       "      <td>ADA MELLO</td>\n",
       "      <td>Recruitment of consultancies, advisory service...</td>\n",
       "      <td></td>\n",
       "      <td>NaN</td>\n",
       "      <td>NaN</td>\n",
       "      <td>NaN</td>\n",
       "      <td>NaN</td>\n",
       "      <td>12351,52</td>\n",
       "      <td>False</td>\n",
       "    </tr>\n",
       "    <tr>\n",
       "      <th>1</th>\n",
       "      <td>2008</td>\n",
       "      <td>9</td>\n",
       "      <td>ADA MELLO</td>\n",
       "      <td>Locomotion, lodging, food, fuels and lubricants</td>\n",
       "      <td></td>\n",
       "      <td>NaN</td>\n",
       "      <td>NaN</td>\n",
       "      <td>NaN</td>\n",
       "      <td>NaN</td>\n",
       "      <td>386,6</td>\n",
       "      <td>False</td>\n",
       "    </tr>\n",
       "    <tr>\n",
       "      <th>2</th>\n",
       "      <td>2008</td>\n",
       "      <td>10</td>\n",
       "      <td>ADA MELLO</td>\n",
       "      <td>Recruitment of consultancies, advisory service...</td>\n",
       "      <td></td>\n",
       "      <td>NaN</td>\n",
       "      <td>NaN</td>\n",
       "      <td>NaN</td>\n",
       "      <td>NaN</td>\n",
       "      <td>12351,52</td>\n",
       "      <td>False</td>\n",
       "    </tr>\n",
       "    <tr>\n",
       "      <th>3</th>\n",
       "      <td>2008</td>\n",
       "      <td>10</td>\n",
       "      <td>ADA MELLO</td>\n",
       "      <td>Locomotion, lodging, food, fuels and lubricants</td>\n",
       "      <td></td>\n",
       "      <td>NaN</td>\n",
       "      <td>NaN</td>\n",
       "      <td>NaN</td>\n",
       "      <td>NaN</td>\n",
       "      <td>2610,68</td>\n",
       "      <td>False</td>\n",
       "    </tr>\n",
       "    <tr>\n",
       "      <th>4</th>\n",
       "      <td>2008</td>\n",
       "      <td>11</td>\n",
       "      <td>ADA MELLO</td>\n",
       "      <td>Recruitment of consultancies, advisory service...</td>\n",
       "      <td></td>\n",
       "      <td>NaN</td>\n",
       "      <td>NaN</td>\n",
       "      <td>NaN</td>\n",
       "      <td>NaN</td>\n",
       "      <td>12351,52</td>\n",
       "      <td>False</td>\n",
       "    </tr>\n",
       "  </tbody>\n",
       "</table>\n",
       "</div>"
      ],
      "text/plain": [
       "   year  month congressperson_name  \\\n",
       "0  2008      9           ADA MELLO   \n",
       "1  2008      9           ADA MELLO   \n",
       "2  2008     10           ADA MELLO   \n",
       "3  2008     10           ADA MELLO   \n",
       "4  2008     11           ADA MELLO   \n",
       "\n",
       "                                        expense_type cnpj_cpf supplier  \\\n",
       "0  Recruitment of consultancies, advisory service...               NaN   \n",
       "1    Locomotion, lodging, food, fuels and lubricants               NaN   \n",
       "2  Recruitment of consultancies, advisory service...               NaN   \n",
       "3    Locomotion, lodging, food, fuels and lubricants               NaN   \n",
       "4  Recruitment of consultancies, advisory service...               NaN   \n",
       "\n",
       "  document_id date expense_details reimbursement_value  valid_cnpj_cpf  \n",
       "0         NaN  NaN             NaN            12351,52           False  \n",
       "1         NaN  NaN             NaN               386,6           False  \n",
       "2         NaN  NaN             NaN            12351,52           False  \n",
       "3         NaN  NaN             NaN             2610,68           False  \n",
       "4         NaN  NaN             NaN            12351,52           False  "
      ]
     },
     "execution_count": 5,
     "metadata": {},
     "output_type": "execute_result"
    }
   ],
   "source": [
    "dataset.query('valid_cnpj_cpf != True').head()"
   ]
  },
  {
   "cell_type": "markdown",
   "metadata": {
    "collapsed": true
   },
   "source": [
    "So, this proves that we can find reimbursements without valid `cnpj_cpf`.\n",
    "\n",
    "Plus, we need to add a `document_type` to the dataset to fit in the core module."
   ]
  },
  {
   "cell_type": "code",
   "execution_count": 6,
   "metadata": {},
   "outputs": [
    {
     "data": {
      "text/plain": [
       "year                                                                2008\n",
       "month                                                                  9\n",
       "congressperson_name                                            ADA MELLO\n",
       "expense_type           Recruitment of consultancies, advisory service...\n",
       "cnpj_cpf                                                                \n",
       "supplier                                                             NaN\n",
       "document_id                                                          NaN\n",
       "date                                                                 NaN\n",
       "expense_details                                                      NaN\n",
       "reimbursement_value                                             12351,52\n",
       "valid_cnpj_cpf                                                     False\n",
       "document_type                                                    unknown\n",
       "Name: 0, dtype: object"
      ]
     },
     "execution_count": 6,
     "metadata": {},
     "output_type": "execute_result"
    }
   ],
   "source": [
    "dataset['document_type'] = 'unknown'\n",
    "dataset.iloc[0]"
   ]
  }
 ],
 "metadata": {
  "kernelspec": {
   "display_name": "Python 3",
   "language": "python",
   "name": "python3"
  },
  "language_info": {
   "codemirror_mode": {
    "name": "ipython",
    "version": 3
   },
   "file_extension": ".py",
   "mimetype": "text/x-python",
   "name": "python",
   "nbconvert_exporter": "python",
   "pygments_lexer": "ipython3",
   "version": "3.6.1"
  }
 },
 "nbformat": 4,
 "nbformat_minor": 1
}
