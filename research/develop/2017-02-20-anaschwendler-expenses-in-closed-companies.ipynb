{
 "cells": [
  {
   "cell_type": "markdown",
   "metadata": {
    "deletable": true,
    "editable": true
   },
   "source": [
    "# Expenses in closed companies\n",
    "Recently we found out that there are many companies that are already closed or out of service, we are aiming to find if there are expenses made after the company situation as other than open."
   ]
  },
  {
   "cell_type": "code",
   "execution_count": 1,
   "metadata": {
    "collapsed": false,
    "deletable": true,
    "editable": true
   },
   "outputs": [],
   "source": [
    "import pandas as pd\n",
    "import numpy as np\n",
    "from serenata_toolbox.datasets import fetch\n",
    "\n",
    "fetch('2016-09-03-companies.xz', '../data')\n",
    "fetch('2016-11-19-reimbursements.xz', '../data')"
   ]
  },
  {
   "cell_type": "code",
   "execution_count": 2,
   "metadata": {
    "collapsed": false,
    "deletable": true,
    "editable": true
   },
   "outputs": [],
   "source": [
    "companies = pd.read_csv('../data/2016-09-03-companies.xz', low_memory=False)\n",
    "reimbursements = pd.read_csv('../data/2016-11-19-reimbursements.xz',\n",
    "                      dtype={'applicant_id': np.str,\n",
    "                             'cnpj_cpf': np.str,\n",
    "                             'congressperson_id': np.str,\n",
    "                             'subquota_number': np.str},\n",
    "                      low_memory=False)"
   ]
  },
  {
   "cell_type": "markdown",
   "metadata": {
    "deletable": true,
    "editable": true
   },
   "source": [
    "## Formatting\n",
    "Formatting companies situation_date and reimbursements issue_date columns to correct date format (will be needed for a query later), and formatting the companies cpnj to a format without dash and dots."
   ]
  },
  {
   "cell_type": "code",
   "execution_count": 3,
   "metadata": {
    "collapsed": false,
    "deletable": true,
    "editable": true
   },
   "outputs": [],
   "source": [
    "reimbursements['issue_date'] = pd.to_datetime(reimbursements['issue_date'], errors='coerce')\n",
    "companies['situation_date'] = pd.to_datetime(companies['situation_date'], errors='coerce')\n",
    "companies['cnpj'] = companies['cnpj'].str.replace(r'\\D', '')"
   ]
  },
  {
   "cell_type": "code",
   "execution_count": 4,
   "metadata": {
    "collapsed": false,
    "deletable": true,
    "editable": true
   },
   "outputs": [
    {
     "data": {
      "text/html": [
       "<div>\n",
       "<table border=\"1\" class=\"dataframe\">\n",
       "  <thead>\n",
       "    <tr style=\"text-align: right;\">\n",
       "      <th></th>\n",
       "      <th>cnpj</th>\n",
       "      <th>situation_date</th>\n",
       "      <th>situation</th>\n",
       "      <th>situation_reason</th>\n",
       "    </tr>\n",
       "  </thead>\n",
       "  <tbody>\n",
       "    <tr>\n",
       "      <th>37</th>\n",
       "      <td>03956142000115</td>\n",
       "      <td>2005-09-20</td>\n",
       "      <td>BAIXADA</td>\n",
       "      <td>EXTINCAO P/ ENC LIQ VOLUNTARIA</td>\n",
       "    </tr>\n",
       "    <tr>\n",
       "      <th>248</th>\n",
       "      <td>08594693000108</td>\n",
       "      <td>2016-06-28</td>\n",
       "      <td>BAIXADA</td>\n",
       "      <td>EXTINCAO P/ ENC LIQ VOLUNTARIA</td>\n",
       "    </tr>\n",
       "    <tr>\n",
       "      <th>329</th>\n",
       "      <td>20768047000107</td>\n",
       "      <td>2016-12-04</td>\n",
       "      <td>BAIXADA</td>\n",
       "      <td>EXTINCAO P/ ENC LIQ VOLUNTARIA</td>\n",
       "    </tr>\n",
       "    <tr>\n",
       "      <th>364</th>\n",
       "      <td>03380051000346</td>\n",
       "      <td>2016-05-01</td>\n",
       "      <td>BAIXADA</td>\n",
       "      <td>EXTINCAO P/ ENC LIQ VOLUNTARIA</td>\n",
       "    </tr>\n",
       "    <tr>\n",
       "      <th>395</th>\n",
       "      <td>17479634000171</td>\n",
       "      <td>2016-06-28</td>\n",
       "      <td>BAIXADA</td>\n",
       "      <td>EXTINCAO P/ ENC LIQ VOLUNTARIA</td>\n",
       "    </tr>\n",
       "  </tbody>\n",
       "</table>\n",
       "</div>"
      ],
      "text/plain": [
       "               cnpj situation_date situation                situation_reason\n",
       "37   03956142000115     2005-09-20   BAIXADA  EXTINCAO P/ ENC LIQ VOLUNTARIA\n",
       "248  08594693000108     2016-06-28   BAIXADA  EXTINCAO P/ ENC LIQ VOLUNTARIA\n",
       "329  20768047000107     2016-12-04   BAIXADA  EXTINCAO P/ ENC LIQ VOLUNTARIA\n",
       "364  03380051000346     2016-05-01   BAIXADA  EXTINCAO P/ ENC LIQ VOLUNTARIA\n",
       "395  17479634000171     2016-06-28   BAIXADA  EXTINCAO P/ ENC LIQ VOLUNTARIA"
      ]
     },
     "execution_count": 4,
     "metadata": {},
     "output_type": "execute_result"
    }
   ],
   "source": [
    "statuses = ['BAIXADA', 'NULA', 'SUSPENSA', 'INAPTA']\n",
    "not_open = companies[companies['situation'].isin(statuses)]\n",
    "not_open[['cnpj', 'situation_date','situation', 'situation_reason']].head(5)"
   ]
  },
  {
   "cell_type": "markdown",
   "metadata": {
    "deletable": true,
    "editable": true
   },
   "source": [
    "The column situation_date is the one that is interesting. Expenses made after that date should be considered suspicious.\n",
    "\n",
    "The inner join on merge will give reimbursements that were requested for out of service companies."
   ]
  },
  {
   "cell_type": "code",
   "execution_count": 5,
   "metadata": {
    "collapsed": false,
    "deletable": true,
    "editable": true
   },
   "outputs": [],
   "source": [
    "dataset = pd.merge(reimbursements, not_open, how='inner',\n",
    "                   left_on='cnpj_cpf', right_on='cnpj')"
   ]
  },
  {
   "cell_type": "code",
   "execution_count": 6,
   "metadata": {
    "collapsed": false,
    "deletable": true,
    "editable": true
   },
   "outputs": [
    {
     "data": {
      "text/html": [
       "<div>\n",
       "<table border=\"1\" class=\"dataframe\">\n",
       "  <thead>\n",
       "    <tr style=\"text-align: right;\">\n",
       "      <th></th>\n",
       "      <th>congressperson_name</th>\n",
       "      <th>issue_date</th>\n",
       "      <th>cnpj</th>\n",
       "      <th>situation_date</th>\n",
       "      <th>situation</th>\n",
       "      <th>situation_reason</th>\n",
       "    </tr>\n",
       "  </thead>\n",
       "  <tbody>\n",
       "    <tr>\n",
       "      <th>0</th>\n",
       "      <td>DILCEU SPERAFICO</td>\n",
       "      <td>2009-04-06</td>\n",
       "      <td>02989654001197</td>\n",
       "      <td>2013-01-03</td>\n",
       "      <td>BAIXADA</td>\n",
       "      <td>INCORPORACAO</td>\n",
       "    </tr>\n",
       "    <tr>\n",
       "      <th>1</th>\n",
       "      <td>DILCEU SPERAFICO</td>\n",
       "      <td>2009-09-23</td>\n",
       "      <td>02989654001197</td>\n",
       "      <td>2013-01-03</td>\n",
       "      <td>BAIXADA</td>\n",
       "      <td>INCORPORACAO</td>\n",
       "    </tr>\n",
       "    <tr>\n",
       "      <th>2</th>\n",
       "      <td>DOMINGOS DUTRA</td>\n",
       "      <td>2009-10-14</td>\n",
       "      <td>02989654001197</td>\n",
       "      <td>2013-01-03</td>\n",
       "      <td>BAIXADA</td>\n",
       "      <td>INCORPORACAO</td>\n",
       "    </tr>\n",
       "    <tr>\n",
       "      <th>3</th>\n",
       "      <td>EDINHO BEZ</td>\n",
       "      <td>2009-10-19</td>\n",
       "      <td>02989654001197</td>\n",
       "      <td>2013-01-03</td>\n",
       "      <td>BAIXADA</td>\n",
       "      <td>INCORPORACAO</td>\n",
       "    </tr>\n",
       "    <tr>\n",
       "      <th>4</th>\n",
       "      <td>HERMES PARCIANELLO</td>\n",
       "      <td>2009-05-29</td>\n",
       "      <td>02989654001197</td>\n",
       "      <td>2013-01-03</td>\n",
       "      <td>BAIXADA</td>\n",
       "      <td>INCORPORACAO</td>\n",
       "    </tr>\n",
       "    <tr>\n",
       "      <th>5</th>\n",
       "      <td>JAIME MARTINS</td>\n",
       "      <td>2009-04-08</td>\n",
       "      <td>02989654001197</td>\n",
       "      <td>2013-01-03</td>\n",
       "      <td>BAIXADA</td>\n",
       "      <td>INCORPORACAO</td>\n",
       "    </tr>\n",
       "    <tr>\n",
       "      <th>6</th>\n",
       "      <td>JOSÉ CARLOS VIEIRA</td>\n",
       "      <td>2009-07-01</td>\n",
       "      <td>02989654001197</td>\n",
       "      <td>2013-01-03</td>\n",
       "      <td>BAIXADA</td>\n",
       "      <td>INCORPORACAO</td>\n",
       "    </tr>\n",
       "    <tr>\n",
       "      <th>7</th>\n",
       "      <td>PAULO BORNHAUSEN</td>\n",
       "      <td>2009-03-26</td>\n",
       "      <td>02989654001197</td>\n",
       "      <td>2013-01-03</td>\n",
       "      <td>BAIXADA</td>\n",
       "      <td>INCORPORACAO</td>\n",
       "    </tr>\n",
       "    <tr>\n",
       "      <th>8</th>\n",
       "      <td>PAULO BORNHAUSEN</td>\n",
       "      <td>2009-04-07</td>\n",
       "      <td>02989654001197</td>\n",
       "      <td>2013-01-03</td>\n",
       "      <td>BAIXADA</td>\n",
       "      <td>INCORPORACAO</td>\n",
       "    </tr>\n",
       "    <tr>\n",
       "      <th>9</th>\n",
       "      <td>PAULO BORNHAUSEN</td>\n",
       "      <td>2009-04-28</td>\n",
       "      <td>02989654001197</td>\n",
       "      <td>2013-01-03</td>\n",
       "      <td>BAIXADA</td>\n",
       "      <td>INCORPORACAO</td>\n",
       "    </tr>\n",
       "  </tbody>\n",
       "</table>\n",
       "</div>"
      ],
      "text/plain": [
       "  congressperson_name issue_date            cnpj situation_date situation  \\\n",
       "0    DILCEU SPERAFICO 2009-04-06  02989654001197     2013-01-03   BAIXADA   \n",
       "1    DILCEU SPERAFICO 2009-09-23  02989654001197     2013-01-03   BAIXADA   \n",
       "2      DOMINGOS DUTRA 2009-10-14  02989654001197     2013-01-03   BAIXADA   \n",
       "3          EDINHO BEZ 2009-10-19  02989654001197     2013-01-03   BAIXADA   \n",
       "4  HERMES PARCIANELLO 2009-05-29  02989654001197     2013-01-03   BAIXADA   \n",
       "5       JAIME MARTINS 2009-04-08  02989654001197     2013-01-03   BAIXADA   \n",
       "6  JOSÉ CARLOS VIEIRA 2009-07-01  02989654001197     2013-01-03   BAIXADA   \n",
       "7    PAULO BORNHAUSEN 2009-03-26  02989654001197     2013-01-03   BAIXADA   \n",
       "8    PAULO BORNHAUSEN 2009-04-07  02989654001197     2013-01-03   BAIXADA   \n",
       "9    PAULO BORNHAUSEN 2009-04-28  02989654001197     2013-01-03   BAIXADA   \n",
       "\n",
       "  situation_reason  \n",
       "0     INCORPORACAO  \n",
       "1     INCORPORACAO  \n",
       "2     INCORPORACAO  \n",
       "3     INCORPORACAO  \n",
       "4     INCORPORACAO  \n",
       "5     INCORPORACAO  \n",
       "6     INCORPORACAO  \n",
       "7     INCORPORACAO  \n",
       "8     INCORPORACAO  \n",
       "9     INCORPORACAO  "
      ]
     },
     "execution_count": 6,
     "metadata": {},
     "output_type": "execute_result"
    }
   ],
   "source": [
    "columns = ['congressperson_name', 'issue_date','cnpj', 'situation_date',\n",
    "           'situation', 'situation_reason']\n",
    "dataset[columns].head(10)"
   ]
  },
  {
   "cell_type": "code",
   "execution_count": 7,
   "metadata": {
    "collapsed": false,
    "deletable": true,
    "editable": true
   },
   "outputs": [
    {
     "data": {
      "text/plain": [
       "(93133, 259)"
      ]
     },
     "execution_count": 7,
     "metadata": {},
     "output_type": "execute_result"
    }
   ],
   "source": [
    "dataset.shape"
   ]
  },
  {
   "cell_type": "code",
   "execution_count": 8,
   "metadata": {
    "collapsed": false,
    "deletable": true,
    "editable": true
   },
   "outputs": [
    {
     "data": {
      "text/plain": [
       "year                                                       2009\n",
       "applicant_id                                               1001\n",
       "document_id                                             1564212\n",
       "reimbursement_value_total                                   NaN\n",
       "total_net_value                                             130\n",
       "reimbursement_numbers                                      2888\n",
       "congressperson_name                            DILCEU SPERAFICO\n",
       "congressperson_id                                         73768\n",
       "congressperson_document                                     444\n",
       "term                                                       2015\n",
       "state_x                                                      PR\n",
       "party                                                        PP\n",
       "term_id                                                      55\n",
       "subquota_number                                               3\n",
       "subquota_description                       Fuels and lubricants\n",
       "subquota_group_id                                             1\n",
       "subquota_group_description                 Veículos Automotores\n",
       "supplier                      MELHOR POSTO DE COMBUSTÍVEIS LTDA\n",
       "cnpj_cpf                                         02989654001197\n",
       "document_number                                           43059\n",
       "document_type                                                 0\n",
       "issue_date                                  2009-04-06 00:00:00\n",
       "document_value                                              130\n",
       "remark_value                                                  0\n",
       "net_values                                                  130\n",
       "month                                                         4\n",
       "installment                                                   0\n",
       "passenger                                                   NaN\n",
       "leg_of_the_trip                                             NaN\n",
       "batch_number                                             388810\n",
       "                                            ...                \n",
       "secondary_activity_88_code                                  NaN\n",
       "secondary_activity_89                                       NaN\n",
       "secondary_activity_89_code                                  NaN\n",
       "secondary_activity_8_code                                   NaN\n",
       "secondary_activity_9                                        NaN\n",
       "secondary_activity_90                                       NaN\n",
       "secondary_activity_90_code                                  NaN\n",
       "secondary_activity_91                                       NaN\n",
       "secondary_activity_91_code                                  NaN\n",
       "secondary_activity_92                                       NaN\n",
       "secondary_activity_92_code                                  NaN\n",
       "secondary_activity_93                                       NaN\n",
       "secondary_activity_93_code                                  NaN\n",
       "secondary_activity_94                                       NaN\n",
       "secondary_activity_94_code                                  NaN\n",
       "secondary_activity_95                                       NaN\n",
       "secondary_activity_95_code                                  NaN\n",
       "secondary_activity_96                                       NaN\n",
       "secondary_activity_96_code                                  NaN\n",
       "secondary_activity_97                                       NaN\n",
       "secondary_activity_97_code                                  NaN\n",
       "secondary_activity_98                                       NaN\n",
       "secondary_activity_98_code                                  NaN\n",
       "secondary_activity_99                                       NaN\n",
       "secondary_activity_99_code                                  NaN\n",
       "secondary_activity_9_code                                   NaN\n",
       "latitude                                                    NaN\n",
       "longitude                                                   NaN\n",
       "latitude.1                                                  NaN\n",
       "longitude.1                                                 NaN\n",
       "Name: 0, dtype: object"
      ]
     },
     "execution_count": 8,
     "metadata": {},
     "output_type": "execute_result"
    }
   ],
   "source": [
    "dataset.iloc[0]"
   ]
  },
  {
   "cell_type": "markdown",
   "metadata": {
    "deletable": true,
    "editable": true
   },
   "source": [
    "## Filtering suspicious reimbursements\n",
    "We have all reibursements requested for expenses made in companies that have situation other than \"open\".\n",
    "It is still necessary to check the reimbursement issue_date is \"bigger\" than the situation_date."
   ]
  },
  {
   "cell_type": "code",
   "execution_count": 9,
   "metadata": {
    "collapsed": false,
    "deletable": true,
    "editable": true
   },
   "outputs": [
    {
     "data": {
      "text/html": [
       "<div>\n",
       "<table border=\"1\" class=\"dataframe\">\n",
       "  <thead>\n",
       "    <tr style=\"text-align: right;\">\n",
       "      <th></th>\n",
       "      <th>congressperson_name</th>\n",
       "      <th>issue_date</th>\n",
       "      <th>cnpj</th>\n",
       "      <th>situation_date</th>\n",
       "      <th>situation</th>\n",
       "      <th>situation_reason</th>\n",
       "    </tr>\n",
       "  </thead>\n",
       "  <tbody>\n",
       "    <tr>\n",
       "      <th>2429</th>\n",
       "      <td>EDINHO ARAÚJO</td>\n",
       "      <td>2013-01-30</td>\n",
       "      <td>02989654001197</td>\n",
       "      <td>2013-01-03</td>\n",
       "      <td>BAIXADA</td>\n",
       "      <td>INCORPORACAO</td>\n",
       "    </tr>\n",
       "    <tr>\n",
       "      <th>2430</th>\n",
       "      <td>EDINHO ARAÚJO</td>\n",
       "      <td>2013-02-02</td>\n",
       "      <td>02989654001197</td>\n",
       "      <td>2013-01-03</td>\n",
       "      <td>BAIXADA</td>\n",
       "      <td>INCORPORACAO</td>\n",
       "    </tr>\n",
       "    <tr>\n",
       "      <th>2431</th>\n",
       "      <td>EDINHO ARAÚJO</td>\n",
       "      <td>2013-02-26</td>\n",
       "      <td>02989654001197</td>\n",
       "      <td>2013-01-03</td>\n",
       "      <td>BAIXADA</td>\n",
       "      <td>INCORPORACAO</td>\n",
       "    </tr>\n",
       "    <tr>\n",
       "      <th>2432</th>\n",
       "      <td>EDINHO ARAÚJO</td>\n",
       "      <td>2013-03-01</td>\n",
       "      <td>02989654001197</td>\n",
       "      <td>2013-01-03</td>\n",
       "      <td>BAIXADA</td>\n",
       "      <td>INCORPORACAO</td>\n",
       "    </tr>\n",
       "    <tr>\n",
       "      <th>2433</th>\n",
       "      <td>HERMES PARCIANELLO</td>\n",
       "      <td>2013-01-28</td>\n",
       "      <td>02989654001197</td>\n",
       "      <td>2013-01-03</td>\n",
       "      <td>BAIXADA</td>\n",
       "      <td>INCORPORACAO</td>\n",
       "    </tr>\n",
       "  </tbody>\n",
       "</table>\n",
       "</div>"
      ],
      "text/plain": [
       "     congressperson_name issue_date            cnpj situation_date situation  \\\n",
       "2429       EDINHO ARAÚJO 2013-01-30  02989654001197     2013-01-03   BAIXADA   \n",
       "2430       EDINHO ARAÚJO 2013-02-02  02989654001197     2013-01-03   BAIXADA   \n",
       "2431       EDINHO ARAÚJO 2013-02-26  02989654001197     2013-01-03   BAIXADA   \n",
       "2432       EDINHO ARAÚJO 2013-03-01  02989654001197     2013-01-03   BAIXADA   \n",
       "2433  HERMES PARCIANELLO 2013-01-28  02989654001197     2013-01-03   BAIXADA   \n",
       "\n",
       "     situation_reason  \n",
       "2429     INCORPORACAO  \n",
       "2430     INCORPORACAO  \n",
       "2431     INCORPORACAO  \n",
       "2432     INCORPORACAO  \n",
       "2433     INCORPORACAO  "
      ]
     },
     "execution_count": 9,
     "metadata": {},
     "output_type": "execute_result"
    }
   ],
   "source": [
    "expenses_in_closed_companies = dataset.query('issue_date > situation_date')\n",
    "expenses_in_closed_companies[columns].head()"
   ]
  },
  {
   "cell_type": "code",
   "execution_count": 10,
   "metadata": {
    "collapsed": false,
    "deletable": true,
    "editable": true
   },
   "outputs": [
    {
     "data": {
      "text/plain": [
       "(5222, 259)"
      ]
     },
     "execution_count": 10,
     "metadata": {},
     "output_type": "execute_result"
    }
   ],
   "source": [
    "expenses_in_closed_companies.shape"
   ]
  },
  {
   "cell_type": "markdown",
   "metadata": {
    "deletable": true,
    "editable": true
   },
   "source": [
    "We can safely say that there are 5222 suspicious reimbursements.\n",
    "For this analysis, I would like to thank @jtemporal for being my pair for all the coding, and helping me to understand the hypothesis."
   ]
  }
 ],
 "metadata": {
  "kernelspec": {
   "display_name": "Python 3",
   "language": "python",
   "name": "python3"
  },
  "language_info": {
   "codemirror_mode": {
    "name": "ipython",
    "version": 3
   },
   "file_extension": ".py",
   "mimetype": "text/x-python",
   "name": "python",
   "nbconvert_exporter": "python",
   "pygments_lexer": "ipython3",
   "version": "3.6.0"
  }
 },
 "nbformat": 4,
 "nbformat_minor": 1
}
