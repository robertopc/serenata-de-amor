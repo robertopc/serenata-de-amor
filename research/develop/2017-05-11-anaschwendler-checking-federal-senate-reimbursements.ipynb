{
 "cells": [
  {
   "cell_type": "markdown",
   "metadata": {},
   "source": [
    "# Checking federal senate reimbursements\n",
    "\n",
    "This analysis is a study in progress that shows hows does Federal Senate datasets works. Like in the `chamber_of_deputies` reimbursements, we will need to concat all the datasets, and clean what is necessary to clean.\n",
    "What we need to see:\n",
    "- [x] Concat all the nine datasets\n",
    "- [x] Fix the `date` field to datetime\n",
    "- [x] Clean the `cnpj_cpf` field\n",
    "- [x] Check the dataset peculiarities\n",
    "- [x] Check if a `group_by` is necessary"
   ]
  },
  {
   "cell_type": "code",
   "execution_count": 1,
   "metadata": {
    "collapsed": true
   },
   "outputs": [],
   "source": [
    "import pandas as pd\n",
    "import numpy as np\n",
    "from datetime import date\n",
    "\n",
    "FIRST_YEAR = 2008\n",
    "NEXT_YEAR = date.today().year + 1\n",
    "\n",
    "filenames = ['../data/2017-05-09-federal-senate-{}.xz'.format(year) for year in range(FIRST_YEAR, NEXT_YEAR)]\n",
    "\n",
    "dataset = pd.DataFrame()\n",
    "\n",
    "for filename in filenames:\n",
    "    data = pd.read_csv(filename, encoding = \"utf-8\")\n",
    "    dataset = pd.concat([dataset, data])"
   ]
  },
  {
   "cell_type": "code",
   "execution_count": 2,
   "metadata": {},
   "outputs": [
    {
     "data": {
      "text/plain": [
       "203547"
      ]
     },
     "execution_count": 2,
     "metadata": {},
     "output_type": "execute_result"
    }
   ],
   "source": [
    "len(dataset)"
   ]
  },
  {
   "cell_type": "code",
   "execution_count": 3,
   "metadata": {},
   "outputs": [
    {
     "data": {
      "text/html": [
       "<div>\n",
       "<table border=\"1\" class=\"dataframe\">\n",
       "  <thead>\n",
       "    <tr style=\"text-align: right;\">\n",
       "      <th></th>\n",
       "      <th>year</th>\n",
       "      <th>month</th>\n",
       "      <th>congressperson_name</th>\n",
       "      <th>expense_type</th>\n",
       "      <th>cnpj_cpf</th>\n",
       "      <th>supplier</th>\n",
       "      <th>document_id</th>\n",
       "      <th>date</th>\n",
       "      <th>expense_details</th>\n",
       "      <th>reimbursement_value</th>\n",
       "    </tr>\n",
       "  </thead>\n",
       "  <tbody>\n",
       "    <tr>\n",
       "      <th>0</th>\n",
       "      <td>2008</td>\n",
       "      <td>9</td>\n",
       "      <td>ADA MELLO</td>\n",
       "      <td>Recruitment of consultancies, advisory service...</td>\n",
       "      <td>NaN</td>\n",
       "      <td>NaN</td>\n",
       "      <td>NaN</td>\n",
       "      <td>NaN</td>\n",
       "      <td>NaN</td>\n",
       "      <td>12351,52</td>\n",
       "    </tr>\n",
       "    <tr>\n",
       "      <th>1</th>\n",
       "      <td>2008</td>\n",
       "      <td>9</td>\n",
       "      <td>ADA MELLO</td>\n",
       "      <td>Locomotion, lodging, food, fuels and lubricants</td>\n",
       "      <td>NaN</td>\n",
       "      <td>NaN</td>\n",
       "      <td>NaN</td>\n",
       "      <td>NaN</td>\n",
       "      <td>NaN</td>\n",
       "      <td>386,6</td>\n",
       "    </tr>\n",
       "    <tr>\n",
       "      <th>2</th>\n",
       "      <td>2008</td>\n",
       "      <td>10</td>\n",
       "      <td>ADA MELLO</td>\n",
       "      <td>Recruitment of consultancies, advisory service...</td>\n",
       "      <td>NaN</td>\n",
       "      <td>NaN</td>\n",
       "      <td>NaN</td>\n",
       "      <td>NaN</td>\n",
       "      <td>NaN</td>\n",
       "      <td>12351,52</td>\n",
       "    </tr>\n",
       "    <tr>\n",
       "      <th>3</th>\n",
       "      <td>2008</td>\n",
       "      <td>10</td>\n",
       "      <td>ADA MELLO</td>\n",
       "      <td>Locomotion, lodging, food, fuels and lubricants</td>\n",
       "      <td>NaN</td>\n",
       "      <td>NaN</td>\n",
       "      <td>NaN</td>\n",
       "      <td>NaN</td>\n",
       "      <td>NaN</td>\n",
       "      <td>2610,68</td>\n",
       "    </tr>\n",
       "    <tr>\n",
       "      <th>4</th>\n",
       "      <td>2008</td>\n",
       "      <td>11</td>\n",
       "      <td>ADA MELLO</td>\n",
       "      <td>Recruitment of consultancies, advisory service...</td>\n",
       "      <td>NaN</td>\n",
       "      <td>NaN</td>\n",
       "      <td>NaN</td>\n",
       "      <td>NaN</td>\n",
       "      <td>NaN</td>\n",
       "      <td>12351,52</td>\n",
       "    </tr>\n",
       "  </tbody>\n",
       "</table>\n",
       "</div>"
      ],
      "text/plain": [
       "   year  month congressperson_name  \\\n",
       "0  2008      9           ADA MELLO   \n",
       "1  2008      9           ADA MELLO   \n",
       "2  2008     10           ADA MELLO   \n",
       "3  2008     10           ADA MELLO   \n",
       "4  2008     11           ADA MELLO   \n",
       "\n",
       "                                        expense_type cnpj_cpf supplier  \\\n",
       "0  Recruitment of consultancies, advisory service...      NaN      NaN   \n",
       "1    Locomotion, lodging, food, fuels and lubricants      NaN      NaN   \n",
       "2  Recruitment of consultancies, advisory service...      NaN      NaN   \n",
       "3    Locomotion, lodging, food, fuels and lubricants      NaN      NaN   \n",
       "4  Recruitment of consultancies, advisory service...      NaN      NaN   \n",
       "\n",
       "  document_id date expense_details reimbursement_value  \n",
       "0         NaN  NaN             NaN            12351,52  \n",
       "1         NaN  NaN             NaN               386,6  \n",
       "2         NaN  NaN             NaN            12351,52  \n",
       "3         NaN  NaN             NaN             2610,68  \n",
       "4         NaN  NaN             NaN            12351,52  "
      ]
     },
     "execution_count": 3,
     "metadata": {},
     "output_type": "execute_result"
    }
   ],
   "source": [
    "dataset.head()"
   ]
  },
  {
   "cell_type": "code",
   "execution_count": 4,
   "metadata": {
    "collapsed": true
   },
   "outputs": [],
   "source": [
    "dataset['date'] = pd.to_datetime(dataset['date'], errors='coerce')\n",
    "dataset['cnpj_cpf'] = dataset['cnpj_cpf'].str.replace(r'\\D', '')"
   ]
  },
  {
   "cell_type": "code",
   "execution_count": 5,
   "metadata": {},
   "outputs": [
    {
     "data": {
      "text/html": [
       "<div>\n",
       "<table border=\"1\" class=\"dataframe\">\n",
       "  <thead>\n",
       "    <tr style=\"text-align: right;\">\n",
       "      <th></th>\n",
       "      <th>year</th>\n",
       "      <th>month</th>\n",
       "      <th>congressperson_name</th>\n",
       "      <th>expense_type</th>\n",
       "      <th>cnpj_cpf</th>\n",
       "      <th>supplier</th>\n",
       "      <th>document_id</th>\n",
       "      <th>date</th>\n",
       "      <th>expense_details</th>\n",
       "      <th>reimbursement_value</th>\n",
       "    </tr>\n",
       "  </thead>\n",
       "  <tbody>\n",
       "    <tr>\n",
       "      <th>0</th>\n",
       "      <td>2009</td>\n",
       "      <td>12</td>\n",
       "      <td>ACIR GURGACZ</td>\n",
       "      <td>Rent of real estate for political office, comp...</td>\n",
       "      <td>00494802863</td>\n",
       "      <td>GILBERTO PISELO DO NASCIMENTO</td>\n",
       "      <td>NaN</td>\n",
       "      <td>2009-11-12</td>\n",
       "      <td>NaN</td>\n",
       "      <td>5000</td>\n",
       "    </tr>\n",
       "    <tr>\n",
       "      <th>1</th>\n",
       "      <td>2009</td>\n",
       "      <td>12</td>\n",
       "      <td>ACIR GURGACZ</td>\n",
       "      <td>Publicity of parliamentary activity</td>\n",
       "      <td>02831112000209</td>\n",
       "      <td>INTERCOM INTERMEDIAÇÕES E COMUNICAÇÃO INTEGRAD...</td>\n",
       "      <td>000330</td>\n",
       "      <td>2009-09-12</td>\n",
       "      <td>NaN</td>\n",
       "      <td>12620</td>\n",
       "    </tr>\n",
       "    <tr>\n",
       "      <th>7</th>\n",
       "      <td>2009</td>\n",
       "      <td>4</td>\n",
       "      <td>ADELMIR SANTANA</td>\n",
       "      <td>Locomotion, lodging, food, fuels and lubricants</td>\n",
       "      <td>00306597001683</td>\n",
       "      <td>Cascol combustíveis para veículos Ltda</td>\n",
       "      <td>106471</td>\n",
       "      <td>2009-12-04</td>\n",
       "      <td>NaN</td>\n",
       "      <td>179,01</td>\n",
       "    </tr>\n",
       "    <tr>\n",
       "      <th>8</th>\n",
       "      <td>2009</td>\n",
       "      <td>4</td>\n",
       "      <td>ADELMIR SANTANA</td>\n",
       "      <td>Locomotion, lodging, food, fuels and lubricants</td>\n",
       "      <td>00358192000102</td>\n",
       "      <td>Ribeiro e Pereira Ltda</td>\n",
       "      <td>77472</td>\n",
       "      <td>2009-04-04</td>\n",
       "      <td>NaN</td>\n",
       "      <td>30</td>\n",
       "    </tr>\n",
       "    <tr>\n",
       "      <th>9</th>\n",
       "      <td>2009</td>\n",
       "      <td>4</td>\n",
       "      <td>ADELMIR SANTANA</td>\n",
       "      <td>Locomotion, lodging, food, fuels and lubricants</td>\n",
       "      <td>06098111000169</td>\n",
       "      <td>Tudo de Bom Comércio de alimentos Ltda</td>\n",
       "      <td>10169</td>\n",
       "      <td>2009-04-14</td>\n",
       "      <td>NaN</td>\n",
       "      <td>215,8</td>\n",
       "    </tr>\n",
       "  </tbody>\n",
       "</table>\n",
       "</div>"
      ],
      "text/plain": [
       "   year  month congressperson_name  \\\n",
       "0  2009     12        ACIR GURGACZ   \n",
       "1  2009     12        ACIR GURGACZ   \n",
       "7  2009      4     ADELMIR SANTANA   \n",
       "8  2009      4     ADELMIR SANTANA   \n",
       "9  2009      4     ADELMIR SANTANA   \n",
       "\n",
       "                                        expense_type        cnpj_cpf  \\\n",
       "0  Rent of real estate for political office, comp...     00494802863   \n",
       "1                Publicity of parliamentary activity  02831112000209   \n",
       "7    Locomotion, lodging, food, fuels and lubricants  00306597001683   \n",
       "8    Locomotion, lodging, food, fuels and lubricants  00358192000102   \n",
       "9    Locomotion, lodging, food, fuels and lubricants  06098111000169   \n",
       "\n",
       "                                            supplier document_id       date  \\\n",
       "0                      GILBERTO PISELO DO NASCIMENTO         NaN 2009-11-12   \n",
       "1  INTERCOM INTERMEDIAÇÕES E COMUNICAÇÃO INTEGRAD...      000330 2009-09-12   \n",
       "7             Cascol combustíveis para veículos Ltda      106471 2009-12-04   \n",
       "8                             Ribeiro e Pereira Ltda       77472 2009-04-04   \n",
       "9             Tudo de Bom Comércio de alimentos Ltda       10169 2009-04-14   \n",
       "\n",
       "  expense_details reimbursement_value  \n",
       "0             NaN                5000  \n",
       "1             NaN               12620  \n",
       "7             NaN              179,01  \n",
       "8             NaN                  30  \n",
       "9             NaN               215,8  "
      ]
     },
     "execution_count": 5,
     "metadata": {},
     "output_type": "execute_result"
    }
   ],
   "source": [
    "dataset.query('date != \"NaT\"').head()"
   ]
  },
  {
   "cell_type": "code",
   "execution_count": 6,
   "metadata": {},
   "outputs": [
    {
     "data": {
      "text/html": [
       "<div>\n",
       "<table border=\"1\" class=\"dataframe\">\n",
       "  <thead>\n",
       "    <tr style=\"text-align: right;\">\n",
       "      <th></th>\n",
       "      <th>year</th>\n",
       "      <th>month</th>\n",
       "      <th>congressperson_name</th>\n",
       "      <th>expense_type</th>\n",
       "      <th>cnpj_cpf</th>\n",
       "      <th>supplier</th>\n",
       "      <th>document_id</th>\n",
       "      <th>date</th>\n",
       "      <th>expense_details</th>\n",
       "      <th>reimbursement_value</th>\n",
       "    </tr>\n",
       "  </thead>\n",
       "  <tbody>\n",
       "    <tr>\n",
       "      <th>100</th>\n",
       "      <td>2011</td>\n",
       "      <td>6</td>\n",
       "      <td>ACIR GURGACZ</td>\n",
       "      <td>National air, water and land transport</td>\n",
       "      <td>02012862000160</td>\n",
       "      <td>TAM LINHAS AÉREAS</td>\n",
       "      <td>957 2429627366</td>\n",
       "      <td>2011-06-22</td>\n",
       "      <td>BILHETE UTILIZADO PELO SENADOR ACIR GURGACZ. T...</td>\n",
       "      <td>557,66</td>\n",
       "    </tr>\n",
       "    <tr>\n",
       "      <th>101</th>\n",
       "      <td>2011</td>\n",
       "      <td>6</td>\n",
       "      <td>ACIR GURGACZ</td>\n",
       "      <td>National air, water and land transport</td>\n",
       "      <td>02012862000160</td>\n",
       "      <td>TAM LINHAS AÉREAS</td>\n",
       "      <td>957 2429908821</td>\n",
       "      <td>2011-06-27</td>\n",
       "      <td>BILHETE UTILIZADO PELO SENADOR ACIR GURGACZ. T...</td>\n",
       "      <td>1794,23</td>\n",
       "    </tr>\n",
       "    <tr>\n",
       "      <th>102</th>\n",
       "      <td>2011</td>\n",
       "      <td>6</td>\n",
       "      <td>ACIR GURGACZ</td>\n",
       "      <td>National air, water and land transport</td>\n",
       "      <td>02012862000160</td>\n",
       "      <td>TAM LINHAS AÉREAS</td>\n",
       "      <td>957-2429627318</td>\n",
       "      <td>2011-06-20</td>\n",
       "      <td>BILHETE UTILIZADO PELO SENADOR ACIR GURGACZ. T...</td>\n",
       "      <td>178,23</td>\n",
       "    </tr>\n",
       "    <tr>\n",
       "      <th>103</th>\n",
       "      <td>2011</td>\n",
       "      <td>6</td>\n",
       "      <td>ACIR GURGACZ</td>\n",
       "      <td>National air, water and land transport</td>\n",
       "      <td>02012862000160</td>\n",
       "      <td>TAM LINHAS AÉREAS S.A.</td>\n",
       "      <td>01</td>\n",
       "      <td>2011-10-06</td>\n",
       "      <td>robison pereira- cgb/bsb 10/06/2011</td>\n",
       "      <td>797,01</td>\n",
       "    </tr>\n",
       "    <tr>\n",
       "      <th>104</th>\n",
       "      <td>2011</td>\n",
       "      <td>6</td>\n",
       "      <td>ACIR GURGACZ</td>\n",
       "      <td>National air, water and land transport</td>\n",
       "      <td>02012862000160</td>\n",
       "      <td>TAM LINHAS AÉREAS S.A.</td>\n",
       "      <td>01</td>\n",
       "      <td>2011-12-06</td>\n",
       "      <td>acir gurgaz - 12/06 - bsb/p.velho.</td>\n",
       "      <td>915,66</td>\n",
       "    </tr>\n",
       "  </tbody>\n",
       "</table>\n",
       "</div>"
      ],
      "text/plain": [
       "     year  month congressperson_name                            expense_type  \\\n",
       "100  2011      6        ACIR GURGACZ  National air, water and land transport   \n",
       "101  2011      6        ACIR GURGACZ  National air, water and land transport   \n",
       "102  2011      6        ACIR GURGACZ  National air, water and land transport   \n",
       "103  2011      6        ACIR GURGACZ  National air, water and land transport   \n",
       "104  2011      6        ACIR GURGACZ  National air, water and land transport   \n",
       "\n",
       "           cnpj_cpf                supplier     document_id       date  \\\n",
       "100  02012862000160       TAM LINHAS AÉREAS  957 2429627366 2011-06-22   \n",
       "101  02012862000160       TAM LINHAS AÉREAS  957 2429908821 2011-06-27   \n",
       "102  02012862000160      TAM LINHAS AÉREAS   957-2429627318 2011-06-20   \n",
       "103  02012862000160  TAM LINHAS AÉREAS S.A.              01 2011-10-06   \n",
       "104  02012862000160  TAM LINHAS AÉREAS S.A.              01 2011-12-06   \n",
       "\n",
       "                                       expense_details reimbursement_value  \n",
       "100  BILHETE UTILIZADO PELO SENADOR ACIR GURGACZ. T...              557,66  \n",
       "101  BILHETE UTILIZADO PELO SENADOR ACIR GURGACZ. T...             1794,23  \n",
       "102  BILHETE UTILIZADO PELO SENADOR ACIR GURGACZ. T...              178,23  \n",
       "103                robison pereira- cgb/bsb 10/06/2011              797,01  \n",
       "104                 acir gurgaz - 12/06 - bsb/p.velho.              915,66  "
      ]
     },
     "execution_count": 6,
     "metadata": {},
     "output_type": "execute_result"
    }
   ],
   "source": [
    "dataset[dataset['expense_details'].notnull()].head()"
   ]
  },
  {
   "cell_type": "code",
   "execution_count": 7,
   "metadata": {},
   "outputs": [
    {
     "data": {
      "text/plain": [
       "19543"
      ]
     },
     "execution_count": 7,
     "metadata": {},
     "output_type": "execute_result"
    }
   ],
   "source": [
    "(dataset['document_id'].isnull()).sum()"
   ]
  },
  {
   "cell_type": "code",
   "execution_count": 8,
   "metadata": {},
   "outputs": [
    {
     "data": {
      "text/plain": [
       "184004"
      ]
     },
     "execution_count": 8,
     "metadata": {},
     "output_type": "execute_result"
    }
   ],
   "source": [
    "(dataset['document_id'].notnull()).sum()"
   ]
  },
  {
   "cell_type": "code",
   "execution_count": 9,
   "metadata": {},
   "outputs": [
    {
     "name": "stdout",
     "output_type": "stream",
     "text": [
      "143582\n"
     ]
    }
   ],
   "source": [
    "print(len(dataset['document_id'].unique()))"
   ]
  },
  {
   "cell_type": "markdown",
   "metadata": {},
   "source": [
    "## Dataset peculiarities\n",
    "\n",
    "The dataset has many peculiarities, some of them I already mentioned in [my last notebook](2017-05-02-anaschwendler-translate-senate-dataset.ipynb):\n",
    "* Until 2013 there wasn't a expense details field, but the other older dataset already have this field, but empty.\n",
    "* Until 2010 there wasn't the `National air, water and land transport` and `Private Security Services` categories of expense type, so when we start translating all the data we need to check if the dataset has those categories.\n",
    "* Studying the datasets to what we are doing by now, we can start using the `cnpj_cpf` classifier from the begining, since the data is pretty good to use.\n",
    "\n",
    "But there is a few more things that need to be considered like:\n",
    "* There is a total of 203547 reimbursements until now.\n",
    "* and 19543 of them are whithout `document_id` field\n",
    "* which means that 184004 of the have `document_id` field and NOT ALL OF THEM ARE UNIQUE, so we need to check if the reimbursements are made like `chamber_of_deputies` and we need to group them by `document_id`. \n",
    "* The datasets have no `cnpj_cpf`, `supplier`, `document_id`, `date`, `expense_details` fields from 2008 until the beggining of 2009.\n",
    "* The datasets only have complete information after 2011."
   ]
  },
  {
   "cell_type": "markdown",
   "metadata": {},
   "source": [
    "## Decisions\n",
    "\n",
    "After all those analysis we decided that we will only clean up the `date` and `cnpj_cpf` and after that we will make another study with all the things that we can discover exploring the fields.\n",
    "That is what will be done, if you want, you can check the progress in [this PR](https://github.com/datasciencebr/serenata-toolbox/pull/53)\n",
    "\n",
    "Thanks @jtemporal and @cuducos for all feedbacks given <3"
   ]
  }
 ],
 "metadata": {
  "kernelspec": {
   "display_name": "Python 3",
   "language": "python",
   "name": "python3"
  },
  "language_info": {
   "codemirror_mode": {
    "name": "ipython",
    "version": 3
   },
   "file_extension": ".py",
   "mimetype": "text/x-python",
   "name": "python",
   "nbconvert_exporter": "python",
   "pygments_lexer": "ipython3",
   "version": "3.6.1"
  }
 },
 "nbformat": 4,
 "nbformat_minor": 2
}
