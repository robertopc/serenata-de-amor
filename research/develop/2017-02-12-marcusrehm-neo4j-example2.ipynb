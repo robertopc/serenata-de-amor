{
 "cells": [
  {
   "cell_type": "code",
   "execution_count": 1,
   "metadata": {
    "collapsed": true,
    "deletable": true,
    "editable": true
   },
   "outputs": [],
   "source": [
    "import pandas as pd\n",
    "import numpy as np"
   ]
  },
  {
   "cell_type": "markdown",
   "metadata": {
    "deletable": true,
    "editable": true
   },
   "source": [
    "### Amendments with Federal Budget"
   ]
  },
  {
   "cell_type": "code",
   "execution_count": 2,
   "metadata": {
    "collapsed": false,
    "deletable": true,
    "editable": true,
    "scrolled": true
   },
   "outputs": [
    {
     "data": {
      "text/plain": [
       "(81169, 10)"
      ]
     },
     "execution_count": 2,
     "metadata": {},
     "output_type": "execute_result"
    }
   ],
   "source": [
    "amendments = pd.read_csv('../data/2016-12-22-amendments.xz', \n",
    "                         dtype={'proposal_id': np.str,\n",
    "                               'amendment_beneficiary': np.str,\n",
    "                               'amendment_program_code': np.str,\n",
    "                               'amendment_proposal_tranfer_value': np.float,\n",
    "                               'amendment_tranfer_value': np.float})\n",
    "amendments.fillna('', inplace=True)\n",
    "amendments.shape"
   ]
  },
  {
   "cell_type": "markdown",
   "metadata": {
    "deletable": true,
    "editable": true
   },
   "source": [
    "### Agreements made with Federal Budget"
   ]
  },
  {
   "cell_type": "code",
   "execution_count": 3,
   "metadata": {
    "collapsed": false,
    "deletable": true,
    "editable": true,
    "scrolled": true
   },
   "outputs": [
    {
     "data": {
      "text/plain": [
       "(105276, 5)"
      ]
     },
     "execution_count": 3,
     "metadata": {},
     "output_type": "execute_result"
    }
   ],
   "source": [
    "agreements = pd.read_csv('../data/2016-12-22-agreements.xz', \n",
    "                         usecols=(['agreement_number', 'proposal_id', \n",
    "                                   'agreement_end_date','date_signed', 'situation']),\n",
    "                         dtype={'agreement_number': np.str, \n",
    "                                'proposal_id': np.str,\n",
    "                                'situation': np.str}, \n",
    "                         parse_dates=['agreement_end_date', 'date_signed'],\n",
    "                         low_memory=False)\n",
    "agreements.fillna('', inplace=True)\n",
    "agreements.shape"
   ]
  },
  {
   "cell_type": "markdown",
   "metadata": {
    "deletable": true,
    "editable": true
   },
   "source": [
    "### Agreements related to amendments"
   ]
  },
  {
   "cell_type": "code",
   "execution_count": 4,
   "metadata": {
    "collapsed": false,
    "deletable": true,
    "editable": true,
    "scrolled": true
   },
   "outputs": [
    {
     "data": {
      "text/plain": [
       "(44072, 7)"
      ]
     },
     "execution_count": 4,
     "metadata": {},
     "output_type": "execute_result"
    }
   ],
   "source": [
    "agreements_with_amendments = agreements.merge(amendments, on='proposal_id')\n",
    "agreements_with_amendments = agreements_with_amendments.filter(['amendment_number', \n",
    "                                                                'congressperson_name', \n",
    "                                                                'amendment_beneficiary',\n",
    "                                                                'date_signed', \n",
    "                                                                'agreement_end_date',\n",
    "                                                                'agreement_number', \n",
    "                                                                'situation'])\n",
    "agreements_with_amendments.shape"
   ]
  },
  {
   "cell_type": "markdown",
   "metadata": {
    "deletable": true,
    "editable": true
   },
   "source": [
    "---\n",
    "## Impeded Non-Profit Entities - CEPIM\n",
    "\n",
    "This dataset gather Non-profit entities that are prevented from entering into agreements, onlending agreements or terms of partnership with the federal public administration.\n",
    "\n",
    "Origin of the information: Controladoria-Geral da União - CGU (Comptroller General of the Union)"
   ]
  },
  {
   "cell_type": "code",
   "execution_count": 5,
   "metadata": {
    "collapsed": false,
    "deletable": true,
    "editable": true
   },
   "outputs": [
    {
     "data": {
      "text/plain": [
       "(4591, 5)"
      ]
     },
     "execution_count": 5,
     "metadata": {},
     "output_type": "execute_result"
    }
   ],
   "source": [
    "impeded_non_profit_entities = pd.read_csv('../data/2016-12-20-impeded-non-profit-entities.xz', \n",
    "                                              dtype={'company_cnpj': np.str,\n",
    "                                                     'agreement_number': np.str})\n",
    "impeded_non_profit_entities.shape"
   ]
  },
  {
   "cell_type": "markdown",
   "metadata": {
    "deletable": true,
    "editable": true
   },
   "source": [
    "\n",
    "First we need to get the agreements in which entities were impeded:"
   ]
  },
  {
   "cell_type": "code",
   "execution_count": 6,
   "metadata": {
    "collapsed": false,
    "deletable": true,
    "editable": true
   },
   "outputs": [
    {
     "data": {
      "text/plain": [
       "company_cnpj                                          08366579000112\n",
       "compay_name           INSTITUTO CULTURAL AFRO-BRASILEIRO OLUFON DEYI\n",
       "impended_agreement                                            748628\n",
       "date_impended                                    2011-07-06 00:00:00\n",
       "grating_body                                PRESIDENCIA DA REPUBLICA\n",
       "impediment_reason                            MOTIVO NÃO ESPECIFICADO\n",
       "Name: 0, dtype: object"
      ]
     },
     "execution_count": 6,
     "metadata": {},
     "output_type": "execute_result"
    }
   ],
   "source": [
    "impeded_entities_w_start_date = agreements_with_amendments.merge(\n",
    "                                    impeded_non_profit_entities, \n",
    "                                    left_on=(['amendment_beneficiary', \n",
    "                                              'agreement_number']), \n",
    "                                    right_on=(['company_cnpj', \n",
    "                                               'agreement_number']))\n",
    "\n",
    "impeded_entities_w_start_date = impeded_entities_w_start_date.filter(['company_cnpj',\n",
    "                                                                     'compay_name',\n",
    "                                                                     'agreement_number',\n",
    "                                                                     'agreement_end_date',\n",
    "                                                                     'grating_body',\n",
    "                                                                     'impediment_reason'])\n",
    "\n",
    "impeded_entities_w_start_date = impeded_entities_w_start_date.rename(columns = \n",
    "                                             {'agreement_end_date':'date_impended', \n",
    "                                              'agreement_number': 'impended_agreement'})\n",
    "impeded_entities_w_start_date.iloc[0]"
   ]
  },
  {
   "cell_type": "markdown",
   "metadata": {
    "deletable": true,
    "editable": true
   },
   "source": [
    "Because the dataset doesn't gives the date when the entity becomes impended, we are using the end date of the agreement where the entity was impended as a minimum date called here as **date_impended**.\n",
    "\n",
    "So **date_impended** means that we are concerned only with agreements signed after this date."
   ]
  },
  {
   "cell_type": "code",
   "execution_count": 7,
   "metadata": {
    "collapsed": false,
    "deletable": true,
    "editable": true,
    "scrolled": true
   },
   "outputs": [],
   "source": [
    "agreements_after_impended = agreements_with_amendments.merge(\n",
    "                                        impeded_entities_w_start_date, \n",
    "                                        left_on=(['amendment_beneficiary']), \n",
    "                                        right_on=(['company_cnpj']))"
   ]
  },
  {
   "cell_type": "markdown",
   "metadata": {
    "deletable": true,
    "editable": true
   },
   "source": [
    "#### Querying the agreements signed after the entities were impended\n",
    "\n",
    "Below we have a list of agreements that are still in execution and are related to the amendments that have as beneficiaries non-profit entities that are impeded. In addition, the difference between the date of signature of the agreements in execution and the date of entities disability is less than 2 years."
   ]
  },
  {
   "cell_type": "code",
   "execution_count": 8,
   "metadata": {
    "collapsed": false,
    "deletable": true,
    "editable": true
   },
   "outputs": [
    {
     "data": {
      "text/plain": [
       "(7, 13)"
      ]
     },
     "execution_count": 8,
     "metadata": {},
     "output_type": "execute_result"
    }
   ],
   "source": [
    "agreements_after_impended = agreements_after_impended.query(\n",
    "                                    'situation == \\'Em execução\\' and \\\n",
    "                                     date_impended < date_signed and \\\n",
    "                                     date_signed.dt.year - date_impended.dt.year < 2')\n",
    "agreements_after_impended.shape"
   ]
  },
  {
   "cell_type": "code",
   "execution_count": 9,
   "metadata": {
    "collapsed": false,
    "deletable": true,
    "editable": true
   },
   "outputs": [
    {
     "data": {
      "text/html": [
       "<div>\n",
       "<table border=\"1\" class=\"dataframe\">\n",
       "  <thead>\n",
       "    <tr style=\"text-align: right;\">\n",
       "      <th></th>\n",
       "      <th>amendment_number</th>\n",
       "      <th>congressperson_name</th>\n",
       "      <th>amendment_beneficiary</th>\n",
       "      <th>date_signed</th>\n",
       "      <th>agreement_end_date</th>\n",
       "      <th>agreement_number</th>\n",
       "      <th>situation</th>\n",
       "      <th>company_cnpj</th>\n",
       "      <th>compay_name</th>\n",
       "      <th>impended_agreement</th>\n",
       "      <th>date_impended</th>\n",
       "      <th>grating_body</th>\n",
       "      <th>impediment_reason</th>\n",
       "    </tr>\n",
       "  </thead>\n",
       "  <tbody>\n",
       "    <tr>\n",
       "      <th>6</th>\n",
       "      <td>36500017</td>\n",
       "      <td>OSMAR SERRAGLIO</td>\n",
       "      <td>76575604000128</td>\n",
       "      <td>2011-12-29</td>\n",
       "      <td>2017-01-09</td>\n",
       "      <td>756696</td>\n",
       "      <td>Em execução</td>\n",
       "      <td>76575604000128</td>\n",
       "      <td>SOCIEDADE EVANGELICA BENEFICENTE DE CURITIBA</td>\n",
       "      <td>747398</td>\n",
       "      <td>2011-09-11</td>\n",
       "      <td>MINISTERIO DO TURISMO</td>\n",
       "      <td>MOTIVO NÃO ESPECIFICADO</td>\n",
       "    </tr>\n",
       "    <tr>\n",
       "      <th>7</th>\n",
       "      <td>33090023</td>\n",
       "      <td>NELSON MEURER</td>\n",
       "      <td>76575604000128</td>\n",
       "      <td>2011-12-29</td>\n",
       "      <td>2017-04-16</td>\n",
       "      <td>757799</td>\n",
       "      <td>Em execução</td>\n",
       "      <td>76575604000128</td>\n",
       "      <td>SOCIEDADE EVANGELICA BENEFICENTE DE CURITIBA</td>\n",
       "      <td>747398</td>\n",
       "      <td>2011-09-11</td>\n",
       "      <td>MINISTERIO DO TURISMO</td>\n",
       "      <td>MOTIVO NÃO ESPECIFICADO</td>\n",
       "    </tr>\n",
       "    <tr>\n",
       "      <th>8</th>\n",
       "      <td>24050011</td>\n",
       "      <td>LUIZ CARLOS SETIM</td>\n",
       "      <td>76575604000128</td>\n",
       "      <td>2011-12-29</td>\n",
       "      <td>2017-04-16</td>\n",
       "      <td>757828</td>\n",
       "      <td>Em execução</td>\n",
       "      <td>76575604000128</td>\n",
       "      <td>SOCIEDADE EVANGELICA BENEFICENTE DE CURITIBA</td>\n",
       "      <td>747398</td>\n",
       "      <td>2011-09-11</td>\n",
       "      <td>MINISTERIO DO TURISMO</td>\n",
       "      <td>MOTIVO NÃO ESPECIFICADO</td>\n",
       "    </tr>\n",
       "    <tr>\n",
       "      <th>9</th>\n",
       "      <td>10560010</td>\n",
       "      <td>SERGIO SOUZA</td>\n",
       "      <td>76575604000128</td>\n",
       "      <td>2011-12-29</td>\n",
       "      <td>2017-05-15</td>\n",
       "      <td>757915</td>\n",
       "      <td>Em execução</td>\n",
       "      <td>76575604000128</td>\n",
       "      <td>SOCIEDADE EVANGELICA BENEFICENTE DE CURITIBA</td>\n",
       "      <td>747398</td>\n",
       "      <td>2011-09-11</td>\n",
       "      <td>MINISTERIO DO TURISMO</td>\n",
       "      <td>MOTIVO NÃO ESPECIFICADO</td>\n",
       "    </tr>\n",
       "    <tr>\n",
       "      <th>10</th>\n",
       "      <td>33320012</td>\n",
       "      <td>RICARDO BARROS</td>\n",
       "      <td>76575604000128</td>\n",
       "      <td>2011-12-29</td>\n",
       "      <td>2017-05-20</td>\n",
       "      <td>758001</td>\n",
       "      <td>Em execução</td>\n",
       "      <td>76575604000128</td>\n",
       "      <td>SOCIEDADE EVANGELICA BENEFICENTE DE CURITIBA</td>\n",
       "      <td>747398</td>\n",
       "      <td>2011-09-11</td>\n",
       "      <td>MINISTERIO DO TURISMO</td>\n",
       "      <td>MOTIVO NÃO ESPECIFICADO</td>\n",
       "    </tr>\n",
       "    <tr>\n",
       "      <th>11</th>\n",
       "      <td>20380001</td>\n",
       "      <td>FLAVIO JOSE ARNS</td>\n",
       "      <td>76575604000128</td>\n",
       "      <td>2011-12-29</td>\n",
       "      <td>2017-04-16</td>\n",
       "      <td>758030</td>\n",
       "      <td>Em execução</td>\n",
       "      <td>76575604000128</td>\n",
       "      <td>SOCIEDADE EVANGELICA BENEFICENTE DE CURITIBA</td>\n",
       "      <td>747398</td>\n",
       "      <td>2011-09-11</td>\n",
       "      <td>MINISTERIO DO TURISMO</td>\n",
       "      <td>MOTIVO NÃO ESPECIFICADO</td>\n",
       "    </tr>\n",
       "    <tr>\n",
       "      <th>12</th>\n",
       "      <td>31760009</td>\n",
       "      <td>DILCEU SPERAFICO</td>\n",
       "      <td>76575604000128</td>\n",
       "      <td>2011-12-29</td>\n",
       "      <td>2017-03-31</td>\n",
       "      <td>760953</td>\n",
       "      <td>Em execução</td>\n",
       "      <td>76575604000128</td>\n",
       "      <td>SOCIEDADE EVANGELICA BENEFICENTE DE CURITIBA</td>\n",
       "      <td>747398</td>\n",
       "      <td>2011-09-11</td>\n",
       "      <td>MINISTERIO DO TURISMO</td>\n",
       "      <td>MOTIVO NÃO ESPECIFICADO</td>\n",
       "    </tr>\n",
       "  </tbody>\n",
       "</table>\n",
       "</div>"
      ],
      "text/plain": [
       "   amendment_number congressperson_name amendment_beneficiary date_signed  \\\n",
       "6          36500017     OSMAR SERRAGLIO        76575604000128  2011-12-29   \n",
       "7          33090023       NELSON MEURER        76575604000128  2011-12-29   \n",
       "8          24050011   LUIZ CARLOS SETIM        76575604000128  2011-12-29   \n",
       "9          10560010        SERGIO SOUZA        76575604000128  2011-12-29   \n",
       "10         33320012      RICARDO BARROS        76575604000128  2011-12-29   \n",
       "11         20380001    FLAVIO JOSE ARNS        76575604000128  2011-12-29   \n",
       "12         31760009    DILCEU SPERAFICO        76575604000128  2011-12-29   \n",
       "\n",
       "   agreement_end_date agreement_number    situation    company_cnpj  \\\n",
       "6          2017-01-09           756696  Em execução  76575604000128   \n",
       "7          2017-04-16           757799  Em execução  76575604000128   \n",
       "8          2017-04-16           757828  Em execução  76575604000128   \n",
       "9          2017-05-15           757915  Em execução  76575604000128   \n",
       "10         2017-05-20           758001  Em execução  76575604000128   \n",
       "11         2017-04-16           758030  Em execução  76575604000128   \n",
       "12         2017-03-31           760953  Em execução  76575604000128   \n",
       "\n",
       "                                     compay_name impended_agreement  \\\n",
       "6   SOCIEDADE EVANGELICA BENEFICENTE DE CURITIBA             747398   \n",
       "7   SOCIEDADE EVANGELICA BENEFICENTE DE CURITIBA             747398   \n",
       "8   SOCIEDADE EVANGELICA BENEFICENTE DE CURITIBA             747398   \n",
       "9   SOCIEDADE EVANGELICA BENEFICENTE DE CURITIBA             747398   \n",
       "10  SOCIEDADE EVANGELICA BENEFICENTE DE CURITIBA             747398   \n",
       "11  SOCIEDADE EVANGELICA BENEFICENTE DE CURITIBA             747398   \n",
       "12  SOCIEDADE EVANGELICA BENEFICENTE DE CURITIBA             747398   \n",
       "\n",
       "   date_impended           grating_body        impediment_reason  \n",
       "6     2011-09-11  MINISTERIO DO TURISMO  MOTIVO NÃO ESPECIFICADO  \n",
       "7     2011-09-11  MINISTERIO DO TURISMO  MOTIVO NÃO ESPECIFICADO  \n",
       "8     2011-09-11  MINISTERIO DO TURISMO  MOTIVO NÃO ESPECIFICADO  \n",
       "9     2011-09-11  MINISTERIO DO TURISMO  MOTIVO NÃO ESPECIFICADO  \n",
       "10    2011-09-11  MINISTERIO DO TURISMO  MOTIVO NÃO ESPECIFICADO  \n",
       "11    2011-09-11  MINISTERIO DO TURISMO  MOTIVO NÃO ESPECIFICADO  \n",
       "12    2011-09-11  MINISTERIO DO TURISMO  MOTIVO NÃO ESPECIFICADO  "
      ]
     },
     "execution_count": 9,
     "metadata": {},
     "output_type": "execute_result"
    }
   ],
   "source": [
    "agreements_after_impended"
   ]
  },
  {
   "cell_type": "code",
   "execution_count": 21,
   "metadata": {
    "collapsed": false,
    "deletable": true,
    "editable": true
   },
   "outputs": [],
   "source": [
    "from py2neo import Node\n",
    "from py2neo import Relationship\n",
    "from py2neo import Graph\n",
    "\n",
    "graph = Graph()\n",
    "graph.delete_all()\n",
    "\n",
    "congresspersons = [Node(\"Congressperson\", name=congressperson) \n",
    "                   for congressperson in \n",
    "                   agreements_after_impended['congressperson_name'].unique()]\n",
    "entities = [Node(\"Entity\", name=beneficiary) \n",
    "            for beneficiary in \n",
    "            agreements_after_impended['compay_name'].unique()]\n",
    "\n",
    "for congressperson in congresspersons:\n",
    "    graph.create(congressperson)\n",
    "\n",
    "for entity in entities:\n",
    "    graph.create(entity)\n",
    "\n",
    "for index, row in agreements_after_impended.iterrows():\n",
    "    congressperson = list(filter(lambda c: c['name'] == row['congressperson_name'], \n",
    "                                 congresspersons))[0]\n",
    "    entity = list(filter(lambda c: c['name'] == row['compay_name'], \n",
    "                         entities))[0]\n",
    "    graph.create(Relationship(congressperson, \n",
    "                              \"benefited\", \n",
    "                              entity))"
   ]
  },
  {
   "cell_type": "code",
   "execution_count": 25,
   "metadata": {
    "collapsed": false,
    "deletable": true,
    "editable": true
   },
   "outputs": [
    {
     "data": {
      "application/javascript": [
       "$(\"head\").append($(\"<link/>\").attr({\n",
       "  rel:  \"stylesheet\",\n",
       "  type: \"text/css\",\n",
       "  href: \"https://cdnjs.cloudflare.com/ajax/libs/vis/4.8.2/vis.css\"\n",
       "}));\n",
       "require.config({     paths: {         vis: '//cdnjs.cloudflare.com/ajax/libs/vis/4.8.2/vis.min'     } }); require(['vis'], function(vis) {  window.vis = vis; }); "
      ],
      "text/plain": [
       "<IPython.core.display.Javascript object>"
      ]
     },
     "metadata": {},
     "output_type": "display_data"
    }
   ],
   "source": [
    "import neo4jupyter\n",
    "\n",
    "neo4jupyter.init_notebook_mode()"
   ]
  },
  {
   "cell_type": "code",
   "execution_count": 27,
   "metadata": {
    "collapsed": false,
    "deletable": true,
    "editable": true
   },
   "outputs": [
    {
     "data": {
      "text/html": [
       "<div id=\"00f91961-0e87-43fa-8f1a-6fcfd14fa296\" style=\"height: 400px;\"></div>\n",
       "\n",
       "<script type=\"text/javascript\">\n",
       "\n",
       "    var nodes = [{\"group\": \"Congressperson\", \"title\": \"{'name': 'RICARDO BARROS'}\", \"id\": 5370, \"label\": \"RICARDO BARROS\"}, {\"group\": \"Entity\", \"title\": \"{'name': 'SOCIEDADE EVANGELICA BENEFICENTE DE CURITIBA'}\", \"id\": 5373, \"label\": \"SOCIEDADE EVANGELICA BENEFICENTE DE CURITIBA\"}, {\"group\": \"Congressperson\", \"title\": \"{'name': 'LUIZ CARLOS SETIM'}\", \"id\": 5368, \"label\": \"LUIZ CARLOS SETIM\"}, {\"group\": \"Congressperson\", \"title\": \"{'name': 'OSMAR SERRAGLIO'}\", \"id\": 5366, \"label\": \"OSMAR SERRAGLIO\"}, {\"group\": \"Congressperson\", \"title\": \"{'name': 'NELSON MEURER'}\", \"id\": 5367, \"label\": \"NELSON MEURER\"}, {\"group\": \"Congressperson\", \"title\": \"{'name': 'SERGIO SOUZA'}\", \"id\": 5369, \"label\": \"SERGIO SOUZA\"}, {\"group\": \"Congressperson\", \"title\": \"{'name': 'FLAVIO JOSE ARNS'}\", \"id\": 5371, \"label\": \"FLAVIO JOSE ARNS\"}, {\"group\": \"Congressperson\", \"title\": \"{'name': 'DILCEU SPERAFICO'}\", \"id\": 5372, \"label\": \"DILCEU SPERAFICO\"}];\n",
       "    var edges = [{\"to\": 5373, \"from\": 5370, \"label\": \"benefited\"}, {\"to\": 5373, \"from\": 5368, \"label\": \"benefited\"}, {\"to\": 5373, \"from\": 5366, \"label\": \"benefited\"}, {\"to\": 5373, \"from\": 5367, \"label\": \"benefited\"}, {\"to\": 5373, \"from\": 5369, \"label\": \"benefited\"}, {\"to\": 5373, \"from\": 5371, \"label\": \"benefited\"}, {\"to\": 5373, \"from\": 5372, \"label\": \"benefited\"}];\n",
       "\n",
       "    var container = document.getElementById(\"00f91961-0e87-43fa-8f1a-6fcfd14fa296\");\n",
       "\n",
       "    var data = {\n",
       "        nodes: nodes,\n",
       "        edges: edges\n",
       "    };\n",
       "\n",
       "    var options = {\n",
       "    nodes: {\n",
       "        shape: 'dot',\n",
       "        size: 25,\n",
       "        font: {\n",
       "            size: 14\n",
       "        }\n",
       "    },\n",
       "    edges: {\n",
       "        font: {\n",
       "            size: 14,\n",
       "            align: 'middle'\n",
       "        },\n",
       "        color: 'gray',\n",
       "        arrows: {\n",
       "            to: {\n",
       "                enabled: true,\n",
       "                scaleFactor: 0.5\n",
       "            }\n",
       "        },\n",
       "        smooth: {\n",
       "            enabled: false\n",
       "        }\n",
       "    },\n",
       "    physics: {\n",
       "        enabled: true\n",
       "        }\n",
       "    };\n",
       "\n",
       "    var network = new vis.Network(container, data, options);\n",
       "\n",
       "</script>\n"
      ],
      "text/plain": [
       "<IPython.core.display.HTML object>"
      ]
     },
     "execution_count": 27,
     "metadata": {},
     "output_type": "execute_result"
    }
   ],
   "source": [
    "from neo4jupyter import draw\n",
    "\n",
    "options = {\"Congressperson\": \"name\", \"Entity\": \"name\"}\n",
    "draw(graph, options)"
   ]
  },
  {
   "cell_type": "code",
   "execution_count": null,
   "metadata": {
    "collapsed": true
   },
   "outputs": [],
   "source": []
  }
 ],
 "metadata": {
  "anaconda-cloud": {},
  "kernelspec": {
   "display_name": "Python [default]",
   "language": "python",
   "name": "python3"
  },
  "language_info": {
   "codemirror_mode": {
    "name": "ipython",
    "version": 3
   },
   "file_extension": ".py",
   "mimetype": "text/x-python",
   "name": "python",
   "nbconvert_exporter": "python",
   "pygments_lexer": "ipython3",
   "version": "3.5.3"
  }
 },
 "nbformat": 4,
 "nbformat_minor": 2
}
