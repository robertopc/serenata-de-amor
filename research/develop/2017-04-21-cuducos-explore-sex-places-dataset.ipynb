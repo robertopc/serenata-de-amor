{
 "cells": [
  {
   "cell_type": "markdown",
   "metadata": {},
   "source": [
    "# Exploring the first version of Sex Place Distances dataset"
   ]
  },
  {
   "cell_type": "markdown",
   "metadata": {},
   "source": [
    "This notebook plays around with data from the first version of the dataset `data/2017-04-21-sex-place-distance.xz`. This first version collected data about companies:\n",
    "\n",
    "* In one of these cities: BOA VISTA, CURVELO, SANTA CRUZ DO SUL, PORTO ALEGRE, SAO JOSE DOS PINHAIS, SETE LAGOAS, BOITUVA, IPATINGA, UBERABA, CONGONHAS, SOROCABA, PARAOPEBA, CHAPECO, CUIABA, SALVADOR, BAURU and LAJEADO\n",
    "* Where expenses with a total net value equal or higher than 100 BRL\n",
    "* In which congresspeople from the 2015 term have expend public money\n",
    "\n",
    "The set of cities was taken [random sample that sounded promosing](https://twitter.com/cuducos/status/840882495868530688)… but hold your horses: further analysis is disapointing… let's get started."
   ]
  },
  {
   "cell_type": "code",
   "execution_count": 1,
   "metadata": {
    "collapsed": false
   },
   "outputs": [],
   "source": [
    "import numpy as np\n",
    "import pandas as pd\n",
    "from serenata_toolbox.datasets import fetch\n",
    "\n",
    "DTYPE = dict(cnpj=np.str, cnpj_cpf=np.str)"
   ]
  },
  {
   "cell_type": "code",
   "execution_count": 2,
   "metadata": {
    "collapsed": false
   },
   "outputs": [],
   "source": [
    "fetch('2017-04-21-sex-place-distances.xz', '../data')"
   ]
  },
  {
   "cell_type": "code",
   "execution_count": 3,
   "metadata": {
    "collapsed": false
   },
   "outputs": [
    {
     "data": {
      "text/plain": [
       "(60047, 228)"
      ]
     },
     "execution_count": 3,
     "metadata": {},
     "output_type": "execute_result"
    }
   ],
   "source": [
    "companies = pd.read_csv('../data/2016-09-03-companies.xz', dtype=DTYPE, low_memory=False)\n",
    "companies.cnpj = companies.cnpj.str.replace(r'\\D', '')\n",
    "companies.shape"
   ]
  },
  {
   "cell_type": "code",
   "execution_count": 4,
   "metadata": {
    "collapsed": false
   },
   "outputs": [
    {
     "data": {
      "text/plain": [
       "(2245, 11)"
      ]
     },
     "execution_count": 4,
     "metadata": {},
     "output_type": "execute_result"
    }
   ],
   "source": [
    "sex_places = pd.read_csv('../data/2017-04-21-sex-place-distances.xz', dtype=DTYPE)\n",
    "sex_places.shape"
   ]
  },
  {
   "cell_type": "markdown",
   "metadata": {},
   "source": [
    "This dataset has all sort of ditances between companies and the closest sex place:"
   ]
  },
  {
   "cell_type": "code",
   "execution_count": 5,
   "metadata": {
    "collapsed": false
   },
   "outputs": [
    {
     "data": {
      "text/plain": [
       "count     2245.000000\n",
       "mean       453.605521\n",
       "std        878.745363\n",
       "min          0.000000\n",
       "25%        139.348086\n",
       "50%        289.045854\n",
       "75%        551.421772\n",
       "max      28095.285403\n",
       "Name: distance, dtype: float64"
      ]
     },
     "execution_count": 5,
     "metadata": {},
     "output_type": "execute_result"
    }
   ],
   "source": [
    "sex_places.distance.describe()"
   ]
  },
  {
   "cell_type": "markdown",
   "metadata": {},
   "source": [
    "## Sex places _close enough_ to places in which congresspeople were\n",
    "\n",
    "From this sample (n=2245) 81 places are at least 3m away from the venue in which at least a congressperson made an expense since 2015:"
   ]
  },
  {
   "cell_type": "code",
   "execution_count": 6,
   "metadata": {
    "collapsed": false
   },
   "outputs": [
    {
     "data": {
      "text/plain": [
       "(81, 11)"
      ]
     },
     "execution_count": 6,
     "metadata": {},
     "output_type": "execute_result"
    }
   ],
   "source": [
    "close_enough = sex_places.query('distance < 3')\n",
    "close_enough.shape"
   ]
  },
  {
   "cell_type": "code",
   "execution_count": 7,
   "metadata": {
    "collapsed": false
   },
   "outputs": [
    {
     "data": {
      "text/html": [
       "<div>\n",
       "<table border=\"1\" class=\"dataframe\">\n",
       "  <thead>\n",
       "    <tr style=\"text-align: right;\">\n",
       "      <th></th>\n",
       "      <th>id</th>\n",
       "      <th>keyword</th>\n",
       "      <th>latitude</th>\n",
       "      <th>longitude</th>\n",
       "      <th>distance</th>\n",
       "      <th>name</th>\n",
       "      <th>address</th>\n",
       "      <th>phone</th>\n",
       "      <th>cnpj</th>\n",
       "      <th>company_name</th>\n",
       "      <th>company_trade_name</th>\n",
       "    </tr>\n",
       "  </thead>\n",
       "  <tbody>\n",
       "    <tr>\n",
       "      <th>8</th>\n",
       "      <td>ChIJAQAAAFwPk40RoHav112BS0k</td>\n",
       "      <td>motel</td>\n",
       "      <td>2.82351</td>\n",
       "      <td>-60.675833</td>\n",
       "      <td>0.0</td>\n",
       "      <td>Swing Motel Nada Substitui o Prazer</td>\n",
       "      <td>Rua Campo Palmares, 607 - Aeroporto, Boa Vista...</td>\n",
       "      <td>(95) 3627-2201</td>\n",
       "      <td>04788281000140</td>\n",
       "      <td>B. H. M. PACHECO &amp; CIA LTDA - EPP</td>\n",
       "      <td>VISUAL AUTDOOR</td>\n",
       "    </tr>\n",
       "    <tr>\n",
       "      <th>42</th>\n",
       "      <td>ChIJAQAAAFwPk40RoHav112BS0k</td>\n",
       "      <td>motel</td>\n",
       "      <td>2.82351</td>\n",
       "      <td>-60.675833</td>\n",
       "      <td>0.0</td>\n",
       "      <td>Swing Motel Nada Substitui o Prazer</td>\n",
       "      <td>Rua Campo Palmares, 607 - Aeroporto, Boa Vista...</td>\n",
       "      <td>(95) 3627-2201</td>\n",
       "      <td>12990433000110</td>\n",
       "      <td>L T COMERCIO E SERVICOS LTDA - EPP</td>\n",
       "      <td>L T COMERCIO E SERVICOS</td>\n",
       "    </tr>\n",
       "    <tr>\n",
       "      <th>50</th>\n",
       "      <td>ChIJAQAAAFwPk40RoHav112BS0k</td>\n",
       "      <td>motel</td>\n",
       "      <td>2.82351</td>\n",
       "      <td>-60.675833</td>\n",
       "      <td>0.0</td>\n",
       "      <td>Swing Motel Nada Substitui o Prazer</td>\n",
       "      <td>Rua Campo Palmares, 607 - Aeroporto, Boa Vista...</td>\n",
       "      <td>(95) 3627-2201</td>\n",
       "      <td>13406312000141</td>\n",
       "      <td>FERREIRA E PICAO LTDA - EPP</td>\n",
       "      <td>MAC ALUGUEL DE VEICULOS</td>\n",
       "    </tr>\n",
       "    <tr>\n",
       "      <th>61</th>\n",
       "      <td>ChIJAQAAAFwPk40RoHav112BS0k</td>\n",
       "      <td>motel</td>\n",
       "      <td>2.82351</td>\n",
       "      <td>-60.675833</td>\n",
       "      <td>0.0</td>\n",
       "      <td>Swing Motel Nada Substitui o Prazer</td>\n",
       "      <td>Rua Campo Palmares, 607 - Aeroporto, Boa Vista...</td>\n",
       "      <td>(95) 3627-2201</td>\n",
       "      <td>04289974000198</td>\n",
       "      <td>M. A. DE LACERDA - ME</td>\n",
       "      <td>NaN</td>\n",
       "    </tr>\n",
       "    <tr>\n",
       "      <th>78</th>\n",
       "      <td>ChIJKXpclrIFk40RZ6LOqRlQpO4</td>\n",
       "      <td>night club</td>\n",
       "      <td>2.82351</td>\n",
       "      <td>-60.675833</td>\n",
       "      <td>0.0</td>\n",
       "      <td>Clube do Servidor</td>\n",
       "      <td>Centro, Boa Vista - State of Roraima, Brazil</td>\n",
       "      <td>NaN</td>\n",
       "      <td>10402370000109</td>\n",
       "      <td>MR - OPERADORA DE VIAGENS E TURISMO LTDA - ME</td>\n",
       "      <td>MONTE RORAIMA TURISMO</td>\n",
       "    </tr>\n",
       "  </tbody>\n",
       "</table>\n",
       "</div>"
      ],
      "text/plain": [
       "                             id     keyword  latitude  longitude  distance  \\\n",
       "8   ChIJAQAAAFwPk40RoHav112BS0k       motel   2.82351 -60.675833       0.0   \n",
       "42  ChIJAQAAAFwPk40RoHav112BS0k       motel   2.82351 -60.675833       0.0   \n",
       "50  ChIJAQAAAFwPk40RoHav112BS0k       motel   2.82351 -60.675833       0.0   \n",
       "61  ChIJAQAAAFwPk40RoHav112BS0k       motel   2.82351 -60.675833       0.0   \n",
       "78  ChIJKXpclrIFk40RZ6LOqRlQpO4  night club   2.82351 -60.675833       0.0   \n",
       "\n",
       "                                   name  \\\n",
       "8   Swing Motel Nada Substitui o Prazer   \n",
       "42  Swing Motel Nada Substitui o Prazer   \n",
       "50  Swing Motel Nada Substitui o Prazer   \n",
       "61  Swing Motel Nada Substitui o Prazer   \n",
       "78                    Clube do Servidor   \n",
       "\n",
       "                                              address           phone  \\\n",
       "8   Rua Campo Palmares, 607 - Aeroporto, Boa Vista...  (95) 3627-2201   \n",
       "42  Rua Campo Palmares, 607 - Aeroporto, Boa Vista...  (95) 3627-2201   \n",
       "50  Rua Campo Palmares, 607 - Aeroporto, Boa Vista...  (95) 3627-2201   \n",
       "61  Rua Campo Palmares, 607 - Aeroporto, Boa Vista...  (95) 3627-2201   \n",
       "78       Centro, Boa Vista - State of Roraima, Brazil             NaN   \n",
       "\n",
       "              cnpj                                   company_name  \\\n",
       "8   04788281000140              B. H. M. PACHECO & CIA LTDA - EPP   \n",
       "42  12990433000110             L T COMERCIO E SERVICOS LTDA - EPP   \n",
       "50  13406312000141                    FERREIRA E PICAO LTDA - EPP   \n",
       "61  04289974000198                          M. A. DE LACERDA - ME   \n",
       "78  10402370000109  MR - OPERADORA DE VIAGENS E TURISMO LTDA - ME   \n",
       "\n",
       "         company_trade_name  \n",
       "8            VISUAL AUTDOOR  \n",
       "42  L T COMERCIO E SERVICOS  \n",
       "50  MAC ALUGUEL DE VEICULOS  \n",
       "61                      NaN  \n",
       "78    MONTE RORAIMA TURISMO  "
      ]
     },
     "execution_count": 7,
     "metadata": {},
     "output_type": "execute_result"
    }
   ],
   "source": [
    "close_enough.head()"
   ]
  },
  {
   "cell_type": "markdown",
   "metadata": {},
   "source": [
    "## Taking a closer look\n",
    "\n",
    "Let's generate some Jarbas links to take a closer look at them!"
   ]
  },
  {
   "cell_type": "code",
   "execution_count": 8,
   "metadata": {
    "collapsed": false
   },
   "outputs": [
    {
     "name": "stdout",
     "output_type": "stream",
     "text": [
      "https://jarbas.serenatadeamor.org/#/cnpjCpf/04788281000140\n",
      "https://jarbas.serenatadeamor.org/#/cnpjCpf/12990433000110\n",
      "https://jarbas.serenatadeamor.org/#/cnpjCpf/13406312000141\n",
      "https://jarbas.serenatadeamor.org/#/cnpjCpf/04289974000198\n",
      "https://jarbas.serenatadeamor.org/#/cnpjCpf/10402370000109\n",
      "https://jarbas.serenatadeamor.org/#/cnpjCpf/17191347000161\n",
      "https://jarbas.serenatadeamor.org/#/cnpjCpf/05677013000113\n",
      "https://jarbas.serenatadeamor.org/#/cnpjCpf/02579214000190\n",
      "https://jarbas.serenatadeamor.org/#/cnpjCpf/06243454000170\n",
      "https://jarbas.serenatadeamor.org/#/cnpjCpf/13569064003760\n",
      "https://jarbas.serenatadeamor.org/#/cnpjCpf/23748593000174\n",
      "https://jarbas.serenatadeamor.org/#/cnpjCpf/19986561000130\n",
      "https://jarbas.serenatadeamor.org/#/cnpjCpf/13180886000144\n",
      "https://jarbas.serenatadeamor.org/#/cnpjCpf/13569064001989\n",
      "https://jarbas.serenatadeamor.org/#/cnpjCpf/95425369002287\n",
      "https://jarbas.serenatadeamor.org/#/cnpjCpf/08717252000148\n",
      "https://jarbas.serenatadeamor.org/#/cnpjCpf/90107053000107\n",
      "https://jarbas.serenatadeamor.org/#/cnpjCpf/92169218000192\n",
      "https://jarbas.serenatadeamor.org/#/cnpjCpf/06061939000142\n",
      "https://jarbas.serenatadeamor.org/#/cnpjCpf/19195139000166\n",
      "https://jarbas.serenatadeamor.org/#/cnpjCpf/91545442000179\n",
      "https://jarbas.serenatadeamor.org/#/cnpjCpf/16670085004142\n",
      "https://jarbas.serenatadeamor.org/#/cnpjCpf/87954830000136\n",
      "https://jarbas.serenatadeamor.org/#/cnpjCpf/07675477000116\n",
      "https://jarbas.serenatadeamor.org/#/cnpjCpf/87179578000135\n",
      "https://jarbas.serenatadeamor.org/#/cnpjCpf/02012862001646\n",
      "https://jarbas.serenatadeamor.org/#/cnpjCpf/03303820000140\n",
      "https://jarbas.serenatadeamor.org/#/cnpjCpf/80796212000247\n",
      "https://jarbas.serenatadeamor.org/#/cnpjCpf/07596069000179\n",
      "https://jarbas.serenatadeamor.org/#/cnpjCpf/04132766000180\n",
      "https://jarbas.serenatadeamor.org/#/cnpjCpf/02505963000172\n",
      "https://jarbas.serenatadeamor.org/#/cnpjCpf/09296295000402\n",
      "https://jarbas.serenatadeamor.org/#/cnpjCpf/03874976000181\n",
      "https://jarbas.serenatadeamor.org/#/cnpjCpf/50334929000125\n",
      "https://jarbas.serenatadeamor.org/#/cnpjCpf/18123254000162\n",
      "https://jarbas.serenatadeamor.org/#/cnpjCpf/62078779000115\n",
      "https://jarbas.serenatadeamor.org/#/cnpjCpf/02302811000415\n",
      "https://jarbas.serenatadeamor.org/#/cnpjCpf/09221450000189\n",
      "https://jarbas.serenatadeamor.org/#/cnpjCpf/13349476000184\n",
      "https://jarbas.serenatadeamor.org/#/cnpjCpf/04224679000153\n",
      "https://jarbas.serenatadeamor.org/#/cnpjCpf/20495149000872\n",
      "https://jarbas.serenatadeamor.org/#/cnpjCpf/23145287000143\n",
      "https://jarbas.serenatadeamor.org/#/cnpjCpf/00669359000156\n",
      "https://jarbas.serenatadeamor.org/#/cnpjCpf/04192534000118\n",
      "https://jarbas.serenatadeamor.org/#/cnpjCpf/05779318000136\n",
      "https://jarbas.serenatadeamor.org/#/cnpjCpf/17084369000122\n",
      "https://jarbas.serenatadeamor.org/#/cnpjCpf/03591406000184\n",
      "https://jarbas.serenatadeamor.org/#/cnpjCpf/10292626000172\n",
      "https://jarbas.serenatadeamor.org/#/cnpjCpf/10464395000137\n",
      "https://jarbas.serenatadeamor.org/#/cnpjCpf/53944880000110\n",
      "https://jarbas.serenatadeamor.org/#/cnpjCpf/05762181000107\n",
      "https://jarbas.serenatadeamor.org/#/cnpjCpf/43283811007839\n",
      "https://jarbas.serenatadeamor.org/#/cnpjCpf/73033607000141\n",
      "https://jarbas.serenatadeamor.org/#/cnpjCpf/60597796000133\n",
      "https://jarbas.serenatadeamor.org/#/cnpjCpf/14125243000160\n",
      "https://jarbas.serenatadeamor.org/#/cnpjCpf/17611690000118\n",
      "https://jarbas.serenatadeamor.org/#/cnpjCpf/10588164000135\n",
      "https://jarbas.serenatadeamor.org/#/cnpjCpf/18528184000122\n",
      "https://jarbas.serenatadeamor.org/#/cnpjCpf/10696408000101\n",
      "https://jarbas.serenatadeamor.org/#/cnpjCpf/07992393000106\n",
      "https://jarbas.serenatadeamor.org/#/cnpjCpf/33957796000396\n",
      "https://jarbas.serenatadeamor.org/#/cnpjCpf/01822995000139\n",
      "https://jarbas.serenatadeamor.org/#/cnpjCpf/00553717000160\n",
      "https://jarbas.serenatadeamor.org/#/cnpjCpf/08210838000111\n",
      "https://jarbas.serenatadeamor.org/#/cnpjCpf/09031385000129\n",
      "https://jarbas.serenatadeamor.org/#/cnpjCpf/07614806000119\n",
      "https://jarbas.serenatadeamor.org/#/cnpjCpf/14310257000154\n",
      "https://jarbas.serenatadeamor.org/#/cnpjCpf/13501184000115\n",
      "https://jarbas.serenatadeamor.org/#/cnpjCpf/05688089000144\n",
      "https://jarbas.serenatadeamor.org/#/cnpjCpf/13799101000116\n",
      "https://jarbas.serenatadeamor.org/#/cnpjCpf/01630610000131\n",
      "https://jarbas.serenatadeamor.org/#/cnpjCpf/10540994000192\n",
      "https://jarbas.serenatadeamor.org/#/cnpjCpf/09149936000315\n",
      "https://jarbas.serenatadeamor.org/#/cnpjCpf/03422594000702\n",
      "https://jarbas.serenatadeamor.org/#/cnpjCpf/05643704000104\n",
      "https://jarbas.serenatadeamor.org/#/cnpjCpf/06355095000304\n",
      "https://jarbas.serenatadeamor.org/#/cnpjCpf/14997688000130\n",
      "https://jarbas.serenatadeamor.org/#/cnpjCpf/13273587000154\n",
      "https://jarbas.serenatadeamor.org/#/cnpjCpf/12607218000198\n",
      "https://jarbas.serenatadeamor.org/#/cnpjCpf/15237375000651\n",
      "https://jarbas.serenatadeamor.org/#/cnpjCpf/33867664000101\n"
     ]
    }
   ],
   "source": [
    "link = 'https://jarbas.serenatadeamor.org/#/cnpjCpf/{}'\n",
    "cnpjs = (place.cnpj for _, place in close_enough.iterrows())\n",
    "for cnpj in cnpjs:\n",
    "    print(link.format(cnpj))"
   ]
  },
  {
   "cell_type": "markdown",
   "metadata": {},
   "source": [
    "### Villa Gorini\n",
    "\n",
    "Two CNPJs were assigned to a night club called Villa Gorini:"
   ]
  },
  {
   "cell_type": "code",
   "execution_count": 9,
   "metadata": {
    "collapsed": false
   },
   "outputs": [
    {
     "data": {
      "text/plain": [
       "id                         ChIJp5g39UEBqAARuei7IxmZ6UM\n",
       "keyword                                     night club\n",
       "latitude                                      -18.7222\n",
       "longitude                                     -44.9429\n",
       "distance                                             0\n",
       "name                                      Villa Gorini\n",
       "address               BR-040, Felixlândia - MG, Brazil\n",
       "phone                                              NaN\n",
       "cnpj                                    03874976000181\n",
       "company_name               SOLAR DO ENGENHO LTDA - EPP\n",
       "company_trade_name                    SOLAR DO ENGENHO\n",
       "Name: 901, dtype: object"
      ]
     },
     "execution_count": 9,
     "metadata": {},
     "output_type": "execute_result"
    }
   ],
   "source": [
    "close_enough[close_enough.cnpj == '03874976000181'].iloc[0]"
   ]
  },
  {
   "cell_type": "code",
   "execution_count": 10,
   "metadata": {
    "collapsed": false
   },
   "outputs": [
    {
     "data": {
      "text/plain": [
       "id                         ChIJp5g39UEBqAARuei7IxmZ6UM\n",
       "keyword                                     night club\n",
       "latitude                                      -18.7222\n",
       "longitude                                     -44.9429\n",
       "distance                                             0\n",
       "name                                      Villa Gorini\n",
       "address               BR-040, Felixlândia - MG, Brazil\n",
       "phone                                              NaN\n",
       "cnpj                                    17084369000122\n",
       "company_name          POSTO PROFETAS DE CONGONHAS LTDA\n",
       "company_trade_name                                 NaN\n",
       "Name: 1082, dtype: object"
      ]
     },
     "execution_count": 10,
     "metadata": {},
     "output_type": "execute_result"
    }
   ],
   "source": [
    "close_enough[close_enough.cnpj == '17084369000122'].iloc[0]"
   ]
  },
  {
   "cell_type": "markdown",
   "metadata": {},
   "source": [
    "However the point here is that Google Places API seems rather imprecise when looking for an address that has a KM instead of a street number:"
   ]
  },
  {
   "cell_type": "code",
   "execution_count": 11,
   "metadata": {
    "collapsed": false
   },
   "outputs": [
    {
     "data": {
      "text/plain": [
       "'ROD BR 040 KM 480'"
      ]
     },
     "execution_count": 11,
     "metadata": {},
     "output_type": "execute_result"
    }
   ],
   "source": [
    "companies[companies.cnpj == '03874976000181'].iloc[0].address"
   ]
  },
  {
   "cell_type": "code",
   "execution_count": 12,
   "metadata": {
    "collapsed": false
   },
   "outputs": [
    {
     "data": {
      "text/plain": [
       "'ROD BR 040'"
      ]
     },
     "execution_count": 12,
     "metadata": {},
     "output_type": "execute_result"
    }
   ],
   "source": [
    "companies[companies.cnpj == '17084369000122'].iloc[0].address"
   ]
  },
  {
   "cell_type": "markdown",
   "metadata": {},
   "source": [
    "And actually Villa Gorini [is at KM 701](https://encrypted.google.com/search?q=villa%20gorini) (not 480, for instance)."
   ]
  },
  {
   "cell_type": "markdown",
   "metadata": {},
   "source": [
    "### Yume Espaço Terapêutico\n",
    "\n",
    "[Yume Espaço Terapêutico](https://jarbas.serenatadeamor.org/#/cnpjCpf/14310257000154) is another example of a false positive."
   ]
  },
  {
   "cell_type": "code",
   "execution_count": 13,
   "metadata": {
    "collapsed": false
   },
   "outputs": [
    {
     "data": {
      "text/plain": [
       "id                                          ChIJTcQRimgbFgcRP_VjyPon-GA\n",
       "keyword                                                        massagem\n",
       "latitude                                                       -12.9792\n",
       "longitude                                                      -38.4576\n",
       "distance                                                              0\n",
       "name                                            Yume Espaço Terapêutico\n",
       "address               Edifício Esplanada Tower - Av.Tancredo Neves, ...\n",
       "phone                                                    (71) 4103-7695\n",
       "cnpj                                                     14310257000154\n",
       "company_name           SETE QUATRO COMUNICACAO E PUBLICIDADE LTDA - EPP\n",
       "company_trade_name                  SETE QUATRO COMUNICAO E PUBLICIDADE\n",
       "Name: 1922, dtype: object"
      ]
     },
     "execution_count": 13,
     "metadata": {},
     "output_type": "execute_result"
    }
   ],
   "source": [
    "close_enough.iloc[66]"
   ]
  },
  {
   "cell_type": "markdown",
   "metadata": {},
   "source": [
    "The company _SETE QUATRO COMUNICACAO E PUBLICIDADE LTDA - EPP_ is clearly in a [office building](https://goo.gl/maps/k6z8bdHLVxR2), probably the same building in which _Yume Espaço Terapêutico_ offers their service."
   ]
  },
  {
   "cell_type": "markdown",
   "metadata": {},
   "source": [
    "### Céu Azul Motel\n",
    "\n",
    "Finally [CONTRASTE EDITORA E INDUSTRIA GRAFICA EIRELI](https://jarbas.serenatadeamor.org/#/cnpjCpf/33867664000101) has very appealling picures in Jarbas (actually in Google Street View). "
   ]
  },
  {
   "cell_type": "code",
   "execution_count": 14,
   "metadata": {
    "collapsed": false
   },
   "outputs": [
    {
     "data": {
      "text/plain": [
       "id                                          ChIJ5XYdhycFFgcRgTWWpzPjoR8\n",
       "keyword                                                           motel\n",
       "latitude                                                       -12.9664\n",
       "longitude                                                      -38.4974\n",
       "distance                                                    6.87978e-10\n",
       "name                                                     Céu Azul Motel\n",
       "address               R. Barão de Macaúbas, 27 - Macaúbas, Salvador ...\n",
       "phone                                                    (71) 3241-3714\n",
       "cnpj                                                     33867664000101\n",
       "company_name          CONTRASTE EDITORA E INDUSTRIA GRAFICA EIRELI -...\n",
       "company_trade_name                                                  NaN\n",
       "Name: 2191, dtype: object"
      ]
     },
     "execution_count": 14,
     "metadata": {},
     "output_type": "execute_result"
    }
   ],
   "source": [
    "close_enough.iloc[-1]"
   ]
  },
  {
   "cell_type": "markdown",
   "metadata": {},
   "source": [
    "However a [Google Maps search](https://www.google.com/maps/place/R.+Bar%C3%A3o+de+Maca%C3%BAbas,+27+-+Barbalho,+Salvador+-+BA,+40302-000,+Brazil/@-12.96636,-38.4996147,17z/data=!3m1!4b1!4m5!3m4!1s0x71604d877430fb3:0x2e71207287112e18!8m2!3d-12.96636!4d-38.497426?hl=en) shows that there is actually a press **and** a motel at this address."
   ]
  },
  {
   "cell_type": "markdown",
   "metadata": {},
   "source": [
    "## Final considerations\n",
    "\n",
    "So far the attemp to fetch sex places has brought mainly false positives. We need to improve our methods to make it worth it to implement this hypothesis further."
   ]
  }
 ],
 "metadata": {
  "kernelspec": {
   "display_name": "Python 3",
   "language": "python",
   "name": "python3"
  },
  "language_info": {
   "codemirror_mode": {
    "name": "ipython",
    "version": 3
   },
   "file_extension": ".py",
   "mimetype": "text/x-python",
   "name": "python",
   "nbconvert_exporter": "python",
   "pygments_lexer": "ipython3",
   "version": "3.5.2"
  }
 },
 "nbformat": 4,
 "nbformat_minor": 2
}
