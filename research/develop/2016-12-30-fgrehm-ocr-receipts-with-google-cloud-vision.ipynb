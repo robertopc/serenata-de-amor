{
 "cells": [
  {
   "cell_type": "markdown",
   "metadata": {},
   "source": [
    "# Applying OCR to receipts\n",
    "\n",
    "As part of some analysis we might want to know the exact time when a receipt was issued and / or want to know the items that makes up for it in order to analyse its contents.\n",
    "\n",
    "For example, we can:\n",
    "\n",
    "* Match the timestamp of a receipt in a city far away from Brasilia when we believe the congress person was supposed to be in a session.\n",
    "* Match two timestamps of receipts made on the same day on cities really far from each other /\n",
    "* Look for things like alcoholic beverages.\n",
    "* See if the congressperson ordered too many dishes for \"himself\".\n",
    "* Check in and check out dates from hotels.\n",
    "\n",
    "Even though we have lots of libraries for doing OCR in Python, I believe [Google's Cloud Vision API](https://cloud.google.com/vision/) should be the \"State of the art\" when it comes to that type of thing since it is backed by Google, not to say that it is really easy to use. This notebook outlines the results of OCR'ing the receipts of the following 10 reimbursements picked from another analysis I did:\n",
    "\n",
    "* https://jarbas.datasciencebr.com/#/document_id/5631309 -> http://www.camara.gov.br/cota-parlamentar/documentos/publ/1789/2015/5631309.pdf\n",
    "* https://jarbas.datasciencebr.com/#/document_id/5631380 -> http://www.camara.gov.br/cota-parlamentar/documentos/publ/1789/2015/5631380.pdf\n",
    "* https://jarbas.datasciencebr.com/#/document_id/5928875 -> http://www.camara.gov.br/cota-parlamentar/documentos/publ/1564/2016/5928875.pdf\n",
    "* https://jarbas.datasciencebr.com/#/document_id/5768932 -> http://www.camara.gov.br/cota-parlamentar/documentos/publ/80/2015/5768932.pdf\n",
    "* https://jarbas.datasciencebr.com/#/document_id/5962849 -> http://www.camara.gov.br/cota-parlamentar/documentos/publ/3052/2016/5962849.pdf\n",
    "* https://jarbas.datasciencebr.com/#/document_id/5962903 -> http://www.camara.gov.br/cota-parlamentar/documentos/publ/3052/2016/5962903.pdf\n",
    "* https://jarbas.datasciencebr.com/#/document_id/5855221 -> http://www.camara.gov.br/cota-parlamentar/documentos/publ/2238/2015/5855221.pdf\n",
    "* https://jarbas.datasciencebr.com/#/document_id/5856784 -> http://www.camara.gov.br/cota-parlamentar/documentos/publ/2238/2015/5856784.pdf\n",
    "* https://jarbas.datasciencebr.com/#/document_id/5921187 -> http://www.camara.gov.br/cota-parlamentar/documentos/publ/2871/2016/5921187.pdf\n",
    "* https://jarbas.datasciencebr.com/#/document_id/6069360 -> http://www.camara.gov.br/cota-parlamentar/documentos/publ/2935/2016/6069360.pdf\n",
    "\n",
    "**NOTE**: While this could have been done in Python, it would take me a while to get it going so I kept things as simple as possible with bash since this is just a spike."
   ]
  },
  {
   "cell_type": "markdown",
   "metadata": {},
   "source": [
    "# Setup\n",
    "\n",
    "_Make sure your `config.ini` has the Google APIKey set._"
   ]
  },
  {
   "cell_type": "code",
   "execution_count": 1,
   "metadata": {
    "collapsed": false
   },
   "outputs": [],
   "source": [
    "import configparser\n",
    "\n",
    "settings = configparser.RawConfigParser()\n",
    "settings.read('../config.ini')\n",
    "\n",
    "target = open('/tmp/cloud-vision.key', 'w')\n",
    "target.write(settings.get('Google', 'APIKey'))\n",
    "target.close()"
   ]
  },
  {
   "cell_type": "markdown",
   "metadata": {},
   "source": [
    "You'll also need the `pdftoppm` command to convert PDFs to PNGs and `jq` to pretty print the JSON output returned by Google's API.\n",
    "\n",
    "On the Docker environment provided, you'll need to `docker exec -u root -ti CONTAINER bash` in order to have permissions to install the packages with a\n",
    "\n",
    "```\n",
    "apt-get update && apt-get install -y poppler-utils jq\n",
    "```\n",
    "\n",
    "## Download receipts, convert to PNG and OCR them"
   ]
  },
  {
   "cell_type": "code",
   "execution_count": 2,
   "metadata": {
    "collapsed": false,
    "scrolled": false
   },
   "outputs": [
    {
     "name": "stdout",
     "output_type": "stream",
     "text": [
      "Fri Jan  6 13:33:26 UTC 2017\n",
      "---> 5631309\n",
      "     Downloading PDF from 'http://www.camara.gov.br/cota-parlamentar/documentos/publ/1789/2015/5631309.pdf'...\n",
      "     Generating PNGs...\n",
      "     OCRing page-1.png...\n",
      "     OCRing page-2.png...\n",
      "---> 5631380\n",
      "     Downloading PDF from 'http://www.camara.gov.br/cota-parlamentar/documentos/publ/1789/2015/5631380.pdf'...\n",
      "     Generating PNGs...\n",
      "     OCRing page-1.png...\n",
      "---> 5928875\n",
      "     Downloading PDF from 'http://www.camara.gov.br/cota-parlamentar/documentos/publ/1564/2016/5928875.pdf'...\n",
      "     Generating PNGs...\n",
      "     OCRing page-1.png...\n",
      "---> 5768932\n",
      "     Downloading PDF from 'http://www.camara.gov.br/cota-parlamentar/documentos/publ/80/2015/5768932.pdf'...\n",
      "     Generating PNGs...\n",
      "     OCRing page-1.png...\n",
      "     OCRing page-2.png...\n",
      "     OCRing page-3.png...\n",
      "     OCRing page-4.png...\n",
      "     OCRing page-5.png...\n",
      "     OCRing page-6.png...\n",
      "---> 5962849\n",
      "     Downloading PDF from 'http://www.camara.gov.br/cota-parlamentar/documentos/publ/3052/2016/5962849.pdf'...\n",
      "     Generating PNGs...\n",
      "     OCRing page-1.png...\n",
      "---> 5962903\n",
      "     Downloading PDF from 'http://www.camara.gov.br/cota-parlamentar/documentos/publ/3052/2016/5962903.pdf'...\n",
      "     Generating PNGs...\n",
      "     OCRing page-1.png...\n",
      "---> 5855221\n",
      "     Downloading PDF from 'http://www.camara.gov.br/cota-parlamentar/documentos/publ/2238/2015/5855221.pdf'...\n",
      "     Generating PNGs...\n",
      "     OCRing page-1.png...\n",
      "---> 5856784\n",
      "     Downloading PDF from 'http://www.camara.gov.br/cota-parlamentar/documentos/publ/2238/2015/5856784.pdf'...\n",
      "     Generating PNGs...\n",
      "     OCRing page-1.png...\n",
      "---> 5921187\n",
      "     Downloading PDF from 'http://www.camara.gov.br/cota-parlamentar/documentos/publ/2871/2016/5921187.pdf'...\n",
      "     Generating PNGs...\n",
      "     OCRing page-1.png...\n",
      "---> 6069360\n",
      "     Downloading PDF from 'http://www.camara.gov.br/cota-parlamentar/documentos/publ/2935/2016/6069360.pdf'...\n",
      "     Generating PNGs...\n",
      "     OCRing page-1.png...\n",
      "Fri Jan  6 13:35:50 UTC 2017\n"
     ]
    }
   ],
   "source": [
    "%%bash\n",
    "\n",
    "ocr() {\n",
    "  id=\"${1}\"\n",
    "  url=\"${2}\"\n",
    "  mkdir -p \"/tmp/reimbursements/${id}\"\n",
    "  cd \"/tmp/reimbursements/${id}\"\n",
    "  echo \"---> $id\"\n",
    "  echo \"     Downloading PDF from '$url'...\"\n",
    "  curl -s \"${url}\" > \"document.pdf\"\n",
    "  echo \"     Generating PNGs...\"\n",
    "  pdftoppm -rx 300 -ry 300 -png \"document.pdf\" page\n",
    "  \n",
    "  for img in page*.png; do\n",
    "    echo \"     OCRing ${img}...\"\n",
    "    payload=\"payload-${img%.*}.json\"\n",
    "    response=\"response-${img%.*}.json\"\n",
    "    echo -n '{\"requests\": [ { \"features\": [ { \"type\": \"TEXT_DETECTION\" } ], \"image\": { \"content\": \"' > $payload\n",
    "    base64 -w 0 $img >> $payload\n",
    "    echo -n '\" } } ] }' >> $payload\n",
    "    \n",
    "    curl -s \"https://vision.clients6.google.com/v1/images:annotate?key=$(cat /tmp/cloud-vision.key)&alt=json\" \\\n",
    "         --data-binary @$payload \\\n",
    "         -H 'Content-Type: application/json' \\\n",
    "      > $response\n",
    "  done\n",
    "}\n",
    "\n",
    "date\n",
    "ocr 5631309 'http://www.camara.gov.br/cota-parlamentar/documentos/publ/1789/2015/5631309.pdf'\n",
    "ocr 5631380 'http://www.camara.gov.br/cota-parlamentar/documentos/publ/1789/2015/5631380.pdf'\n",
    "ocr 5928875 'http://www.camara.gov.br/cota-parlamentar/documentos/publ/1564/2016/5928875.pdf'\n",
    "ocr 5768932 'http://www.camara.gov.br/cota-parlamentar/documentos/publ/80/2015/5768932.pdf'\n",
    "ocr 5962849 'http://www.camara.gov.br/cota-parlamentar/documentos/publ/3052/2016/5962849.pdf'\n",
    "ocr 5962903 'http://www.camara.gov.br/cota-parlamentar/documentos/publ/3052/2016/5962903.pdf'\n",
    "ocr 5855221 'http://www.camara.gov.br/cota-parlamentar/documentos/publ/2238/2015/5855221.pdf'\n",
    "ocr 5856784 'http://www.camara.gov.br/cota-parlamentar/documentos/publ/2238/2015/5856784.pdf'\n",
    "ocr 5921187 'http://www.camara.gov.br/cota-parlamentar/documentos/publ/2871/2016/5921187.pdf'\n",
    "ocr 6069360 'http://www.camara.gov.br/cota-parlamentar/documentos/publ/2935/2016/6069360.pdf'\n",
    "date"
   ]
  },
  {
   "cell_type": "markdown",
   "metadata": {},
   "source": [
    "As we can see, it takes a while to process just 10 PDFs on a 60Mb connection (~2 minutes), if we ever move on with this we should really look into parallelizing it from day 0 and / or sending receipts in batches as it is supported by the API.\n",
    "\n",
    "## Document [5631309](https://jarbas.datasciencebr.com/#/document_id/5631309)\n",
    "\n",
    "A hotel receipt with lots of text in it. There is a lot of stuff on those JSON responses so we just extract the info for the piece that represents the whole text."
   ]
  },
  {
   "cell_type": "code",
   "execution_count": 3,
   "metadata": {
    "collapsed": false
   },
   "outputs": [
    {
     "name": "stdout",
     "output_type": "stream",
     "text": [
      "Castro Marques Hoteis LTDA.\n",
      "Extrato de Conta\n",
      "None\n",
      "OLAVO BILAC PINTO\n",
      "Empresa PARTICULAR\n",
      "Uh\n",
      "1001\n",
      "Nun, Doc\n",
      "Endereco Class, Fiscal\n",
      "RUA EAUSTo NUNES vrEIRA, 40 to 801\n",
      "BELVEDERE\n",
      "chegada\n",
      "BELO HORI2ONTENG\n",
      "30320-590 BRASIL\n",
      "12/23/201\n",
      "00 22\n",
      "Reserva\n",
      "1820028\n",
      "Funcionario:ADSILVA.\n",
      "Emissao: 18/03/2015 og t 35\n",
      "Partida: 14/03/2015 08\n",
      "CONTAENCERRADA Hospede: PINTO, OLAVO BLAC\n",
      "Num. Doc: 4556169968 Designacao: OLAVO BILAC PINTO\n",
      "Data\n",
      "origem Documento\n",
      "Descripao\n",
      "13/0309 07\n",
      "OR\n",
      "Hospede(s)\n",
      "Empresa\n",
      "Saldo Usuario\n",
      "13/03 11:59\n",
      "cons ego 24200M ssRvzCE RESTAURANT\n",
      "1310314222\n",
      "115, ALEX\n",
      "Coon 69019 RBGTAURANTE WRAND\n",
      "384.00 ALJ13\n",
      "DE MELANCIA.\n",
      "3/0316:00\n",
      "13/23 15:34\n",
      "e00 59025 FRIGOBAR.\n",
      "AGUA COM GAS BICLEVE\n",
      "310323159\n",
      "Coos 62034 RESTADRANTE LUGARO\n",
      "A22, AFSRK.\n",
      "182,00\n",
      "upo ins MELANCIA\n",
      "27, 59\n",
      "16\n",
      "CAFE AXPRESSO\n",
      "cno.. 69 39:xpow SERVICE RESTAURANT\n",
      "08:02\n",
      "90.00\n",
      "xxxxxxxxxxxx. DEPO8rso aNTECIPADO\n",
      "Resumo do Extrato.\n",
      "Hospede: PINTO, OLAVoBn\n",
      "Designacao: OLAVO BILAC PINTO\n",
      "DEPOSITO ANTECIPA\n",
      "Valor Tota\n",
      "FRIGOBAR\n",
      "RESTAURANTE LUGAN\n",
      "783,40\n",
      "on\n",
      "SERVICE REST\n",
      "526,00\n",
      "64, 00\n",
      "\n",
      "--------------\n",
      "\n",
      "PREFEITURAMUNICIPAL DE POUSO ALEGRE\n",
      "Numero da\n",
      "NFS-e\n",
      "SECRETARIA DE FAZENDA\n",
      "NOTA FISCAL ELETRONICA DE SERVICO-NFS e\n",
      "1708\n",
      "291293991\n",
      "3/201\n",
      "1703/2015 17.02.04\n",
      "POU3O ALEGRE MG\n",
      "soc Nome CASTRO MARQUESHOTERELTDA.\n",
      "POUSO ALEGRE NG\n",
      "ta,623,063/B001-10\n",
      "E CEP Av. PREF, TUANY TOLEDO,80\n",
      "FATIMA il cap: 37550010.\n",
      "ssitvertoeritarquwsplaza.com.br\n",
      "353122-2020\n",
      "OLAwo BILAC PINTO\n",
      "BELOHORUZONTE MG\n",
      "455 616.996-87\n",
      "R FAUSTO NUNESVEIRA AFT 801 40- BELVEDERE CEP: 30320-590\n",
      "OSPEDE: Olavo pinto l checkin 1203/2015 /checkout THRO312015\n",
      "9.01 5510801 Hotéis.\n",
      "76340\n",
      "0.00\n",
      "0Nenhum\n",
      "2.00\n",
      "Sims PK) Nao\n",
      "5.2\n",
      "78340\n",
      "A aute MAridade detta Nota FiscaipoderARrr varificada\n",
      "Avisos\n",
      "\n"
     ]
    }
   ],
   "source": [
    "%%bash\n",
    "jq -r '.responses[].textAnnotations[0].description' /tmp/reimbursements/5631309/response-page-1.json\n",
    "echo '--------------'; echo\n",
    "jq -r '.responses[].textAnnotations[0].description' /tmp/reimbursements/5631309/response-page-2.json"
   ]
  },
  {
   "cell_type": "markdown",
   "metadata": {},
   "source": [
    "As we can see, it'd be pretty hard to parse the contents with a trivial \"string matching algorithm\", my guess is that the fact that the receipt is not fully vertical gets the OCR confused"
   ]
  },
  {
   "cell_type": "markdown",
   "metadata": {},
   "source": [
    "## Document [5631380](https://jarbas.datasciencebr.com/#/document_id/5631380)\n",
    "\n",
    "There are 3 timestamps on the receipt and OCR extracted 2. The receipt items prices were also more or less extracted properly (4.50 and 4.75)"
   ]
  },
  {
   "cell_type": "code",
   "execution_count": 4,
   "metadata": {
    "collapsed": false
   },
   "outputs": [
    {
     "name": "stdout",
     "output_type": "stream",
     "text": [
      "PINENIA VERDE Al INEKIOS LTDA\n",
      "tern. Passageiros atroporto inter tacional,S/H\n",
      "Setor Sala Eabarque 8. Aeroporto Conflns\n",
      "Confins Hinas Gerais\n",
      "BliPJ: 08,060,954/0039-12\n",
      "8170\n",
      "312015\n",
      "CUPOM FISCAL\n",
      "VL ITEM (R$)\n",
      "EN COOL\n",
      "4,505\n",
      "OTD\n",
      "4042 Cafe Expresso i 01r\n",
      "4,758\n",
      "2 2036 Pao de\n",
      "Queijo l 12\n",
      "TOTAL R$\n",
      "10,00\n",
      "0,75\n",
      "DINHEIRO\n",
      "AFM 4.1,8,4\n",
      "UHPOSTOS A PROX, LEI 12,24\n",
      "R$ 2,05\n",
      "17/D3/2015\n",
      "Garcom Viviane\n",
      "9:51 AM\n",
      "0010\n",
      "VR 100/2\n",
      "ontes: 3\n",
      "SMEDA If ST120\n",
      "-IF VERSAI: 01,00.05 ECF: 006\n",
      "Z(CC((XK 17/03/2015 09:53:50\n",
      "FAE: SN)4100000000001651\n",
      "\n"
     ]
    }
   ],
   "source": [
    "%%bash\n",
    "jq -r '.responses[].textAnnotations[0].description' /tmp/reimbursements/5631380/response-page-1.json"
   ]
  },
  {
   "cell_type": "markdown",
   "metadata": {},
   "source": [
    "## Document [5928875](https://jarbas.datasciencebr.com/#/document_id/5928875) \n",
    "\n",
    "The API is obviously not that magical and it can't parse handwritten stuff"
   ]
  },
  {
   "cell_type": "code",
   "execution_count": 5,
   "metadata": {
    "collapsed": false
   },
   "outputs": [
    {
     "name": "stdout",
     "output_type": "stream",
     "text": [
      "EUSEPIOPIILARIAERESTAURANTE NerezinhadeORreira\n",
      "do Chapéu BA CEP 44850-00t\n",
      "Rua Antonio Balbino 387- Casa. Centro Telefax (7413853-22\n",
      "CNPI 07.802.205000 1-30 Inge Estadual 06310772 PP O23857\n",
      "Nota Fiscal de Venda a Consumidor Série D1 vALIDAATE, 27/092017\n",
      "ata da Emi\n",
      "Nome\n",
      "Ende\n",
      "Estado\n",
      "Cida\n",
      "Unitario Total\n",
      "Discriminacao das Mercadorias\n",
      "Quant.\n",
      "Grarca e Eduva Vitoria Rua Rui Barbos5, na 167 -Munro d Chai\n",
      "u BA\n",
      "Total R$\n",
      "inscricac Estadt\n",
      "085.420.506 ME\n",
      "ENPI\n",
      "It 2.384 0001-23\n",
      "30 TJ. 50 x 03 Di 023001 a 024500 AID\n",
      "213007720\n",
      "Infaz Lue & 2RVED9/2015\n",
      "\n"
     ]
    }
   ],
   "source": [
    "%%bash\n",
    "jq -r '.responses[].textAnnotations[0].description' /tmp/reimbursements/5928875/response-page-1.json"
   ]
  },
  {
   "cell_type": "markdown",
   "metadata": {},
   "source": [
    "## Document [5768932](https://jarbas.datasciencebr.com/#/document_id/5768932) \n",
    "\n",
    "A six page reimbursement document, most interesting info is on pages 4 and 5. On page 4, we can see items that make up for the meals expenses:"
   ]
  },
  {
   "cell_type": "code",
   "execution_count": 6,
   "metadata": {
    "collapsed": false
   },
   "outputs": [
    {
     "name": "stdout",
     "output_type": "stream",
     "text": [
      "3 de 4\n",
      "http://www.nfe.fazenda.gov.br/portal/consultaImpressao.aspx?tipo...\n",
      "Dados dos Produtos e Servicos\n",
      "Unidade\n",
      "Valor (R$\n",
      "Qtd.\n",
      "Num. Descricao\n",
      "Comercial\n",
      "3,00\n",
      "0000\n",
      "UND\n",
      "1 AGUA MINERAL S GAS 500 ML\n",
      "3,00\n",
      "0000\n",
      "UND\n",
      "2 AGUA MINERAL, C GAS 500 ML\n",
      "0000\n",
      "UND\n",
      "32,00\n",
      "BUFFET DO DIA\n",
      "5,00\n",
      "UND\n",
      "0000\n",
      "i 4 i SOPA DO DIA\n",
      "Totais\n",
      "CMS\n",
      "Valor do ICMS\n",
      "Base de Calculo ICMS\n",
      "Base de Calculo ICMS\n",
      "Valor do ICMS\n",
      "ST\n",
      "Desonerado\n",
      "0,00\n",
      "0,00\n",
      "0,00\n",
      "0,00\n",
      "Valor ICMS Substituicao Valor Total dos Produtos Valor do Frete\n",
      "Valor do Seguro\n",
      "0,00\n",
      "0,00\n",
      "53,00\n",
      "0,00\n",
      "Valor Total dos\n",
      "Outras Despesas\n",
      "Valor Total da NFe\n",
      "Valor Total do IPI\n",
      "Descontos\n",
      "Acessorias\n",
      "53,00\n",
      "0,00\n",
      "0,00\n",
      "0,00\n",
      "Valor Aproximado dos\n",
      "Valor da COFINS\n",
      "Valor do PIS\n",
      "Valor Total do II\n",
      "Tributos\n",
      "0,00\n",
      "0,00\n",
      "0,00\n",
      "6.98\n",
      "Dados do Transporte\n",
      "Modalidade do Frete\n",
      "9 Sem Frete\n",
      "Transportador\n",
      "Razao Social Nome\n",
      "CNPJ\n",
      "RIO PARNAIBA EMPREEND TUR LTDA\n",
      "04.024. 831/0001-54\n",
      "Municipio\n",
      "Inscricao Estadual\n",
      "Ender eco Completo\n",
      "UF\n",
      "20/08/2015 19:09\n",
      "Page 4/6\n",
      "\n"
     ]
    }
   ],
   "source": [
    "%%bash\n",
    "jq -r '.responses[].textAnnotations[0].description' /tmp/reimbursements/5768932/response-page-4.json"
   ]
  },
  {
   "cell_type": "markdown",
   "metadata": {},
   "source": [
    "And on page 5 we can easily identify the period the person was in the hotel (search for `IN` and `OUT`, both followed by a date)"
   ]
  },
  {
   "cell_type": "code",
   "execution_count": 7,
   "metadata": {
    "collapsed": false
   },
   "outputs": [
    {
     "name": "stdout",
     "output_type": "stream",
     "text": [
      "4 de 4\n",
      "http://www.nfe fazenda.gov.br/portal/consultalmpressao.aspx?tipo...\n",
      "informacoes Adicionais\n",
      "XSLT v3.1.0\n",
      "Formato de Impressao DANFE\n",
      "DANIFE normal, retrato\n",
      "Informacoes Complementares de Interesse do Contribuinte\n",
      "Descricao\n",
      "NOME: JOSE FRANCISCO PAES LANDIM IN\n",
      "08/2015 OUT 2/08/2015 APTO: 14 Valor aproximado de\n",
      "Dados de Nota Fiscal Avulsa\n",
      "CNPJ\n",
      "Matricula do Funcionario\n",
      "Reparticao Fiscal do Emitente\n",
      "Fone Fax\n",
      "Nome do Funcionario\n",
      "Numero do Documento Arrecadacao\n",
      "UF\n",
      "Data de Emissao do Documento Arrecadacao\n",
      "Valor Total do Documento Arrecadacao\n",
      "Data do Pagamento do Documento Arrecadacao\n",
      "20/08/2015 19:09\n",
      "Page 5/6\n",
      "\n"
     ]
    }
   ],
   "source": [
    "%%bash\n",
    "jq -r '.responses[].textAnnotations[0].description' /tmp/reimbursements/5768932/response-page-5.json"
   ]
  },
  {
   "cell_type": "markdown",
   "metadata": {},
   "source": [
    "## Document [5962849](https://jarbas.datasciencebr.com/#/document_id/5962849) \n",
    "\n",
    "We can parse both timestamps on the receipt"
   ]
  },
  {
   "cell_type": "code",
   "execution_count": 8,
   "metadata": {
    "collapsed": false
   },
   "outputs": [
    {
     "name": "stdout",
     "output_type": "stream",
     "text": [
      "DAFERALIHENTOS LTDA\n",
      "EPP\n",
      "PIU PIU LANCHES\n",
      "AV. IROZIMBG MAIA, 2400\n",
      "B. VILA ITAPURA\n",
      "CEP: 13.023-0001\n",
      "TEL\n",
      "19) 3255-6546\n",
      "CAMPINAS/SP\n",
      "IE: 244.496.769.119\n",
      "OPJ: 01.095. 461/0001-58\n",
      "3170372016 15:40:49\n",
      "CUPOM FISCAL\n",
      "IT\n",
      "001 00000000000120 DESPESAS /REFEICAO\n",
      "un K\n",
      "124.52 T12,00% A\n",
      "124,52\n",
      "TOTAL\n",
      "R$\n",
      "124 52\n",
      "CARTAO\n",
      "124,52\n",
      "Val Aprox Tributos:R$ 39,96(32,09%)\n",
      "Fonte:IBPT\n",
      "ICMS Recolhido Conforme\n",
      "LC 123/2006\n",
      "Simples Nacional\n",
      "31/03/16 23:15 LJ0001 OP000001 CX001 SR094789\n",
      "Mensagem Nao Programada\n",
      "Dar umaFramework\n",
      "Daruna Framework Mensagem Nao Programada\n",
      "DARUMA AUTOMACAO ACH 2\n",
      "ECF-IF\n",
      "VERSA 01.00.00\n",
      "ECF: 004\n",
      "Lj:0001\n",
      "HHHHHHHHHAFDCHEABD\n",
      "31/03/2016 15:41:04\n",
      "FAB DRO913BR000000379665\n",
      "\n"
     ]
    }
   ],
   "source": [
    "%%bash\n",
    "jq -r '.responses[].textAnnotations[0].description' /tmp/reimbursements/5962849/response-page-1.json"
   ]
  },
  {
   "cell_type": "markdown",
   "metadata": {},
   "source": [
    "## Document [5962903](https://jarbas.datasciencebr.com/#/document_id/5962903) \n",
    "\n",
    "Can nicely parse receipt items, prices and timestamp"
   ]
  },
  {
   "cell_type": "code",
   "execution_count": 9,
   "metadata": {
    "collapsed": false
   },
   "outputs": [
    {
     "name": "stdout",
     "output_type": "stream",
     "text": [
      "Churrascaria Sorriso\n",
      "Sorriso\n",
      "CHURRASCARIA SORRISO LTDA EPP\n",
      "R: Dr Miguel Penteado Nu 953\n",
      "Campinas SP\n",
      "(19)32425676\n",
      "CNPJ: 58.543.539!0001-77 HE: 244313752113\n",
      "EXTRATO N\n",
      "002419\n",
      "DATA: 31/03/2016 13:39:32\n",
      "CUPOM ISCAL ELETRO NICO SAT\n",
      "VI, IT R$\n",
      "001 Coca ks\n",
      "1 x 4,40 1,87\n",
      "40\n",
      "002 Picanha Tro 1 x 89,90\n",
      "19,96\n",
      "89,90\n",
      "2 x 3,50 1,55\n",
      "003 Cafe\n",
      "7,00\n",
      "3,60\n",
      "004 Agua Gas Prat 1 x 3,60 1,53\n",
      "005 Salada Croca 1 x 9,50\n",
      "6,55\n",
      "29.50\n",
      "Total Bruto de Itens: R$ 134,40\n",
      "Acrecimos sobre Subtotal R$ 13,44\n",
      "TOTAL: R$ 147,84\n",
      "R$ 147,84\n",
      "Visa dit\n",
      "Obrigad\n",
      "volte sempre\n",
      "valor\n",
      "aproximado dos tributos dest\n",
      "cupom\n",
      "(conforme lei Red 12.7 41/2012\n",
      "R$ 31,46\n",
      "R$ 6,71 Federal R$ 24,75 Estadual Fonte: IBP\n",
      "SAT 000157053\n",
      "3516 0358 5435 3900 0177 5900 0157 0530 0241 9947 2085\n",
      "\n"
     ]
    }
   ],
   "source": [
    "%%bash\n",
    "jq -r '.responses[].textAnnotations[0].description' /tmp/reimbursements/5962903/response-page-1.json"
   ]
  },
  {
   "cell_type": "markdown",
   "metadata": {},
   "source": [
    "## Document [5855221](https://jarbas.datasciencebr.com/#/document_id/5855221) \n",
    "\n",
    "Here we have both the card receipt and the invoice, the quality of the PDF / images sucks and the API can't do magic"
   ]
  },
  {
   "cell_type": "code",
   "execution_count": 10,
   "metadata": {
    "collapsed": false
   },
   "outputs": [
    {
     "name": "stdout",
     "output_type": "stream",
     "text": [
      "CUM ICA LHUS SP\n",
      "NP :32.905. 11 (110-77\n",
      "C00: 323016\n",
      "85\n",
      "TE FISCA\n",
      "COHER.IVPNTE CRE\n",
      "OU DEBIT)\n",
      "3230 5\n",
      "GR SA, A\n",
      "/NASA-n\n",
      "2.30\n",
      "116-77\n",
      "50, 92\n",
      "CUO 323015\n",
      "ion\n",
      "40\n",
      "CIJE UM FI SCAL.\n",
      "0101975\n",
      "600\n",
      "ITAL.\n",
      "Cartao Credit\n",
      "03.20\n",
      "it 3prix 2723a6\n",
      "RI: 3,3 Federal E! 0,00 Estadual\n",
      "GEN-A 00\n",
      "THAYNA AUGUST\n",
      "S12 4\n",
      "St'FG\n",
      "4:39:17V\n",
      "0912101(\n",
      "0877\n",
      "\n"
     ]
    }
   ],
   "source": [
    "%%bash\n",
    "jq -r '.responses[].textAnnotations[0].description' /tmp/reimbursements/5855221/response-page-1.json"
   ]
  },
  {
   "cell_type": "markdown",
   "metadata": {},
   "source": [
    "## Document [5856784](https://jarbas.datasciencebr.com/#/document_id/5856784) \n",
    "\n",
    "Here we have both the card receipt and the invoice but this time the API can get some timestamps and a bit of the receipt items"
   ]
  },
  {
   "cell_type": "code",
   "execution_count": 11,
   "metadata": {
    "collapsed": false
   },
   "outputs": [
    {
     "name": "stdout",
     "output_type": "stream",
     "text": [
      "RESTAURANTE RECANTO DO DJALMA LTDA.\n",
      "RECANTO DO DJALMA\n",
      "ROI UNORTE A\n",
      "INDIANDPOLIS S/N ZONA RURAL ANORTEI\n",
      "p:872\n",
      "Tel:\n",
      "IE: 904.3 836-42\n",
      "TNPJ: 08.510 550/0001-25\n",
      "MANFE NFC-e Documento Auxiliar\n",
      "No\n",
      "Nati\n",
      "UErmite aproveitamento de crédito de ICMS\n",
      "UN X 18 00 18 UU\n",
      "UN X S.50 3.50\n",
      "411 REFR SHVEPPES TONICA\n",
      "21 50\n",
      "VALOR TOTAL R$\n",
      "Valor Pago\n",
      "ORHA DE PAGAMENTO\n",
      "infor dos Tributos Totais Incidentes\n",
      "Lei Federal 12,741/2012)\n",
      "Nuiero 000177\n",
      "Serie 001 Enissao 12/11/2015 14:01:56\n",
      "Via Consumidor\n",
      "Consulte pela Chave de Acesso e\n",
      "http://www.fazenda.pr.gov.br/\n",
      "HAVE DE ACESSO\n",
      "15 5105 5000 0125 6500 1000 0001 110 0000. 1775..\n",
      "CONSUMIDOR\n",
      "CPF: 030.988. 719-46\n",
      "JOSE CARLOS SILVA\n",
      "AN. GOVERNADOR PARIGOT DE A 2965 20\n",
      "VII UNUARAHA PR\n",
      "Consulta via leitor de QR C\n",
      "Protocolo de Autorizacao\n",
      "006602\n",
      "12/11/2015 14:07:49\n",
      "Gerence Sistenas\n",
      "uuu, ence sistem\n",
      "Con. br\n",
      "Cielo\n",
      "IA tLIENTE POS\n",
      "1/15 14:11\n",
      "21,5g\n",
      "\n"
     ]
    }
   ],
   "source": [
    "%%bash\n",
    "jq -r '.responses[].textAnnotations[0].description' /tmp/reimbursements/5856784/response-page-1.json"
   ]
  },
  {
   "cell_type": "markdown",
   "metadata": {},
   "source": [
    "## Document [5921187](https://jarbas.datasciencebr.com/#/document_id/5921187) \n",
    "\n",
    "OCR doesn't make any sense, probably because the receipt is not fully vertical as well"
   ]
  },
  {
   "cell_type": "code",
   "execution_count": 12,
   "metadata": {
    "collapsed": false
   },
   "outputs": [
    {
     "name": "stdout",
     "output_type": "stream",
     "text": [
      "JK RESEN\n",
      "ROD DE DE COM IE: BR050 POSTOJK\n",
      "DE PETROLE\n",
      "KM 013. CAT\n",
      "sNTREvo IM: 10.090. LOTEAMENTo 972-8\n",
      "80\n",
      "JK\n",
      "OLIDA\n",
      "CNPJ/CPF consumidor:\n",
      "2 400 CUPOM 3 183 POLPA FISCAL\n",
      "4 195 CAPUCCINO NESTLE 1UN\n",
      "50ONL. 13\n",
      "11\n",
      "5 111 PALITO 1UN 006 7895 007:7895 144603216 MENTOS STICK DUO BLACK ICE TOTAL 144293844 MENTOS STICK R$\n",
      "T1 01107,00x 03T MACA -32\n",
      "T3 VERDE -3843\n",
      "oc\n",
      "03T17,002\n",
      "ro.\n",
      "Cat\n",
      "0418021618 vo\n",
      "1815\n",
      "Ap\n",
      "27,00\n",
      "onte\n",
      "BEMATECH FAB MP-4000 TH FI ECF-IF\n",
      "BE031110 12/02/2016 18: 18,56V\n",
      "\n"
     ]
    }
   ],
   "source": [
    "%%bash\n",
    "jq -r '.responses[].textAnnotations[0].description' /tmp/reimbursements/5921187/response-page-1.json"
   ]
  },
  {
   "cell_type": "markdown",
   "metadata": {},
   "source": [
    "## Document [6069360](https://jarbas.datasciencebr.com/#/document_id/6069360) \n",
    "\n",
    "All messed up, even found some weird foreign characters, but it found the timestamp"
   ]
  },
  {
   "cell_type": "code",
   "execution_count": 13,
   "metadata": {
    "collapsed": false
   },
   "outputs": [
    {
     "name": "stdout",
     "output_type": "stream",
     "text": [
      "ENTERNAI IONAL MI Al tiMPANY AL INESfaCAU S,h,\n",
      "AEROPORED INTERNACIONAL\n",
      "AERSPORFB - SAO PAULO -SP\n",
      "CEP: 84626-811\n",
      "CHPJ: 17,314, 329/8005-53\n",
      "醷7Dé iii alt彰 箱 2f.-CCV溺64g5.........\n",
      ".... cioi asa555\n",
      "304,f3\n",
      "CMPJ/CPF consuainsr: 095,023,023-81\n",
      "CUP0M FISCAL\n",
      "ITEM CdoISS DESCRICAG\n",
      "QiB。W.YLUN3TORS) ST\n",
      "VE ITEM(8$)\n",
      "ritata i fl\n",
      "2 1183 Sucs de Isaater Fi\n",
      "16.50\n",
      "3 8885 Csuver tras,Palean22 tos/ 011\n",
      "13.90\n",
      "4 3058 Buffet Csapleto 1 011\n",
      "84,88\n",
      "5424SOf.Exs Saprese . Lapsaid I\n",
      "SBBIOFAL RS\n",
      "...... ......190\n",
      "ACRESCINB\n",
      "13,3%\n",
      "TOTAL R$\n",
      "143,77\n",
      "VISA\n",
      "143,77\n",
      "01103.20;\n",
      "TOS APROX\n",
      "Garcon: Sebastiao\n",
      "08/08/2016\n",
      "Caixa,SANDRA DE SORRES PIRES\n",
      "MESA 28/1\n",
      "1:56 PM\n",
      "CJientes: 多\n",
      "6(26Xs4ye?s??W1p61\n",
      "SMEDA IF ST288\n",
      "-IFXERSA:201, 88.85 ECF: 118 LJ: 36\n",
      "RSPSLP 08/08/2016 13:45:27\n",
      "FAB: SK031200000000034217\n",
      "L su SLCDJさ85? L57\n",
      ",no\n",
      "ylL\n",
      "CS $\n",
      "\n"
     ]
    }
   ],
   "source": [
    "%%bash\n",
    "jq -r '.responses[].textAnnotations[0].description' /tmp/reimbursements/6069360/response-page-1.json"
   ]
  },
  {
   "cell_type": "markdown",
   "metadata": {},
   "source": [
    "# Conclusion\n",
    "\n",
    "Even though not everything will be able to be parsed, more than half can get their timestamps extracted which is a nice data point to have around.\n",
    "\n",
    "Some ideas for future work:\n",
    "\n",
    "- Figure out if we can detect that the receipts have been rotated and try to use some image processing to fix it.\n",
    "- Come up with some pre analysis of the image to detect \"bluriness\" so we can potentially discard OCR processing when a new receipt comes in that is not good.\n",
    "- Another nice pre analysis would be to determine if a receipt is handwritten or not so we can flag them and filter them out on other analysis.\n",
    "\n",
    "**NOTE** Everyone that registers for the Google Cloud engine gets US$300 to spend on the first 60 days so we can probably do a lot of tweaking on our code for free before we \"Get it right\""
   ]
  }
 ],
 "metadata": {
  "kernelspec": {
   "display_name": "Python 3",
   "language": "python",
   "name": "python3"
  },
  "language_info": {
   "codemirror_mode": {
    "name": "ipython",
    "version": 3
   },
   "file_extension": ".py",
   "mimetype": "text/x-python",
   "name": "python",
   "nbconvert_exporter": "python",
   "pygments_lexer": "ipython3",
   "version": "3.5.2"
  }
 },
 "nbformat": 4,
 "nbformat_minor": 1
}
